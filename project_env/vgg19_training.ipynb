{
 "cells": [
  {
   "cell_type": "markdown",
   "id": "d6829cf1-863a-4663-80a0-ada546e0f565",
   "metadata": {},
   "source": [
    "# Initialization"
   ]
  },
  {
   "cell_type": "markdown",
   "id": "721c578d-f496-420f-aeef-3fa0cd5fd814",
   "metadata": {},
   "source": [
    "## Import"
   ]
  },
  {
   "cell_type": "code",
   "execution_count": 31,
   "id": "52e2f05b-be98-4229-9a4b-19da4cbfc215",
   "metadata": {},
   "outputs": [
    {
     "name": "stdout",
     "output_type": "stream",
     "text": [
      "The autoreload extension is already loaded. To reload it, use:\n",
      "  %reload_ext autoreload\n"
     ]
    }
   ],
   "source": [
    "import torch\n",
    "import torch.nn as nn\n",
    "import torch.nn.functional as F\n",
    "from torchvision import transforms\n",
    "from torch.utils.data import random_split\n",
    "    \n",
    "import torchvision.transforms.functional as tF\n",
    "\n",
    "from utils.save_load_utils import save_model, load_model\n",
    "from utils.visualization_utils import save_pred_masks, visualize_segmentation, plot_segmentation\n",
    "from utils.evaluation_utils import calculate_miou, check_acc\n",
    "                                                                     \n",
    "import albumentations as A\n",
    "\n",
    "%matplotlib inline\n",
    "import os\n",
    "import time\n",
    "import random\n",
    "import numpy as np\n",
    "from tqdm import tqdm\n",
    "from PIL import Image, ImageOps\n",
    "import matplotlib.pyplot as plt\n",
    "\n",
    "plt.rcParams['figure.figsize'] = (6, 4)\n",
    "plt.rcParams['axes.grid'] = False\n",
    "\n",
    "%load_ext autoreload\n",
    "%autoreload 2\n"
   ]
  },
  {
   "cell_type": "code",
   "execution_count": 32,
   "id": "3e32816c-d5a5-41d7-8e81-c18bc9cfb485",
   "metadata": {},
   "outputs": [
    {
     "name": "stdout",
     "output_type": "stream",
     "text": [
      "USING DEVICE: cuda\n"
     ]
    }
   ],
   "source": [
    "device = 'cuda' if torch.cuda.is_available() else 'cpu'\n",
    "print(f'USING DEVICE: {device}')"
   ]
  },
  {
   "cell_type": "markdown",
   "id": "b68fc81c-e54d-49a2-8fe4-c8eb2a35f98d",
   "metadata": {
    "tags": [],
    "toc-hr-collapsed": true
   },
   "source": [
    "## Hyperparameters"
   ]
  },
  {
   "cell_type": "code",
   "execution_count": 33,
   "id": "257ef7f1-2af4-4849-b08f-fe20c17198b7",
   "metadata": {
    "tags": []
   },
   "outputs": [],
   "source": [
    "hyperparameters = {\n",
    "    'test_dir' : './images/test',\n",
    "    'train_dir' : './images/train',\n",
    "    'seed' : 9999,\n",
    "    'dataloader' :{\n",
    "        'batch_size' : 8,\n",
    "        'num_workers' : 4,\n",
    "        'pin_memory' : False, \n",
    "    },\n",
    "    'optimizer' :{\n",
    "        'lr' : 1e-4,\n",
    "        'betas' : (0.9, 0.999),\n",
    "        'weight_decay' : 1e-4,\n",
    "    },\n",
    "    'epochs' : 150,\n",
    "    'training_size' : 0,\n",
    "    'test_size': 0,\n",
    "    'gradient_clipping' : 1.0,\n",
    "    'vgg19': {\n",
    "        'in_channels': 3,\n",
    "        'out_channels': 1,\n",
    "        'features': 64,\n",
    "    }, \n",
    "    'pre_trained_path': 'checkpoints/pretrained/pretrained_best.pth.tar',\n",
    "    'checkpoints_dir': './checkpoints/daft/',\n",
    "    'output_dir':{\n",
    "        'results':'./generated_examples/',\n",
    "        'model':'./generated_examples/daft/',\n",
    "    },\n",
    "}"
   ]
  },
  {
   "cell_type": "markdown",
   "id": "3f40d01a-077b-4636-a943-b4af5c4a9707",
   "metadata": {},
   "source": [
    "## Seed Everything"
   ]
  },
  {
   "cell_type": "code",
   "execution_count": 34,
   "id": "a96b2438-498a-4cc8-884b-8b771fdfe5c7",
   "metadata": {
    "tags": []
   },
   "outputs": [],
   "source": [
    "def seed_everything(seed):\n",
    "    random.seed(seed)\n",
    "    os.environ['PYTHONHASHSEED'] = str(seed)\n",
    "    np.random.seed(seed)\n",
    "    torch.manual_seed(seed)\n",
    "    torch.cuda.manual_seed(seed)\n",
    "    torch.backends.cudnn.deterministic = True\n",
    "    torch.backends.cudnn.benchmark = False\n",
    "\n",
    "seed_everything(hyperparameters['seed'])"
   ]
  },
  {
   "cell_type": "markdown",
   "id": "6cdc7d29-c352-4976-8c43-38b98447cc24",
   "metadata": {},
   "source": [
    "# Data Preprocessing"
   ]
  },
  {
   "cell_type": "markdown",
   "id": "ab1c9e6d-8643-4c67-ba5e-bd7e154b930d",
   "metadata": {
    "tags": []
   },
   "source": [
    "## Data Augmentation"
   ]
  },
  {
   "cell_type": "code",
   "execution_count": 35,
   "id": "51ecc03a-e76e-402b-a2ad-264413cdac2f",
   "metadata": {
    "tags": []
   },
   "outputs": [],
   "source": [
    "train_transforms = A.Compose([\n",
    "    A.HorizontalFlip(p=0.5),\n",
    "    A.VerticalFlip(p=0.5),\n",
    "    A.Rotate(p=0.5),\n",
    "    A.Normalize(mean=[0.485, 0.456, 0.406], std=[0.229, 0.224, 0.225]),\n",
    "    A.Resize(512, 512),\n",
    "])\n",
    "\n",
    "test_transforms = A.Compose([\n",
    "    A.Normalize(mean=[0.485, 0.456, 0.406], std=[0.229, 0.224, 0.225]),\n",
    "    A.Resize(512, 512),\n",
    "])"
   ]
  },
  {
   "cell_type": "markdown",
   "id": "82f54681-bf8e-4383-a844-14dc115fc8fd",
   "metadata": {
    "tags": []
   },
   "source": [
    "## Dataset"
   ]
  },
  {
   "cell_type": "code",
   "execution_count": 36,
   "id": "3615270c-9966-409e-ac2c-2617725d202d",
   "metadata": {
    "tags": []
   },
   "outputs": [
    {
     "data": {
      "text/plain": [
       "(104, 27)"
      ]
     },
     "execution_count": 36,
     "metadata": {},
     "output_type": "execute_result"
    }
   ],
   "source": [
    "from dataset.dataset import seg_datasets\n",
    "\n",
    "train_dataset = seg_datasets(hyperparameters['train_dir'], train_transforms)\n",
    "test_dataset = seg_datasets(hyperparameters['test_dir'], test_transforms)\n",
    "\n",
    "len(train_dataset), len(test_dataset)"
   ]
  },
  {
   "cell_type": "raw",
   "id": "c1e342dd-9564-496d-ac41-7fbfda3bc76e",
   "metadata": {},
   "source": [
    "print(test_dataset.img_files)"
   ]
  },
  {
   "cell_type": "code",
   "execution_count": 37,
   "id": "d5c239e4-e1e1-4e3b-981b-0c9abc1a574f",
   "metadata": {},
   "outputs": [],
   "source": [
    "hyperparameters['training_size'] = len(train_dataset)\n",
    "hyperparameters['test_size'] = len(test_dataset)"
   ]
  },
  {
   "cell_type": "code",
   "execution_count": 38,
   "id": "fcf1e448-7d23-4fa4-b716-5e9c0f1decfd",
   "metadata": {
    "tags": []
   },
   "outputs": [
    {
     "data": {
      "text/plain": [
       "tensor([0., 1., 2., 3., 4.])"
      ]
     },
     "execution_count": 38,
     "metadata": {},
     "output_type": "execute_result"
    }
   ],
   "source": [
    "sample = train_dataset[30]\n",
    "torch.unique(sample[1])"
   ]
  },
  {
   "cell_type": "code",
   "execution_count": 39,
   "id": "5b88b398-95e6-4a73-b69c-f4f4fff7c6d8",
   "metadata": {},
   "outputs": [
    {
     "data": {
      "text/plain": [
       "(torch.Size([3, 512, 512]), torch.Size([1, 512, 512]))"
      ]
     },
     "execution_count": 39,
     "metadata": {},
     "output_type": "execute_result"
    }
   ],
   "source": [
    "img, mask = train_dataset[20]\n",
    "img.shape, mask.shape"
   ]
  },
  {
   "cell_type": "code",
   "execution_count": 40,
   "id": "bf6408d7-4b26-485d-b956-cea0f3b3452c",
   "metadata": {
    "tags": []
   },
   "outputs": [
    {
     "name": "stderr",
     "output_type": "stream",
     "text": [
      "Clipping input data to the valid range for imshow with RGB data ([0..1] for floats or [0..255] for integers). Got range [-2.117904..2.6399999].\n"
     ]
    },
    {
     "data": {
      "text/plain": [
       "<matplotlib.image.AxesImage at 0x2a13665a3c0>"
      ]
     },
     "execution_count": 40,
     "metadata": {},
     "output_type": "execute_result"
    },
    {
     "data": {
      "image/png": "[encoded data removed]",
      "text/plain": [
       "<Figure size 800x800 with 2 Axes>"
      ]
     },
     "metadata": {},
     "output_type": "display_data"
    }
   ],
   "source": [
    "fig, (ax1, ax2) = plt.subplots(1, 2, figsize=(8, 8))\n",
    "fig.tight_layout()\n",
    "ax1.axis('off')\n",
    "ax1.set_title('Plan Image/Input')\n",
    "ax1.imshow(img.permute(1, 2, 0).numpy())\n",
    "    \n",
    "ax2.axis('off')\n",
    "ax2.set_title('Actual Masks')\n",
    "ax2.imshow(mask.numpy().transpose(1,2,0))"
   ]
  },
  {
   "cell_type": "markdown",
   "id": "da60d3d1-3eda-4862-98e0-78ab6025fa87",
   "metadata": {},
   "source": [
    "## Color Mapping"
   ]
  },
  {
   "cell_type": "code",
   "execution_count": 41,
   "id": "58260b59-e833-4886-924f-a4af6ea01cb5",
   "metadata": {
    "tags": []
   },
   "outputs": [],
   "source": [
    "color_mapping = {\n",
    "    0: (0, 0, 0),         # Walls\n",
    "    1: (255, 80, 80),     # Iwan\n",
    "    2: (80, 80, 255),     # Room\n",
    "    3: (255, 255, 255),   # Background\n",
    "    4: (255, 255, 0),     # Stairs\n",
    "}"
   ]
  },
  {
   "cell_type": "code",
   "execution_count": 42,
   "id": "2f11ff65-fb49-4566-bef6-767c562d0512",
   "metadata": {
    "tags": []
   },
   "outputs": [
    {
     "name": "stderr",
     "output_type": "stream",
     "text": [
      "Clipping input data to the valid range for imshow with RGB data ([0..1] for floats or [0..255] for integers). Got range [-2.117904..2.6399999].\n"
     ]
    },
    {
     "data": {
      "text/plain": [
       "(np.float64(-0.5), np.float64(511.5), np.float64(511.5), np.float64(-0.5))"
      ]
     },
     "execution_count": 42,
     "metadata": {},
     "output_type": "execute_result"
    },
    {
     "data": {
      "image/png": "[encoded data removed]",
      "text/plain": [
       "<Figure size 800x800 with 2 Axes>"
      ]
     },
     "metadata": {},
     "output_type": "display_data"
    }
   ],
   "source": [
    "visualization = visualize_segmentation(mask, color_mapping, from_tensor=True)\n",
    "\n",
    "fig, (ax1, ax2) = plt.subplots(1, 2, figsize=(8, 8))\n",
    "\n",
    "ax1.imshow(img.permute(1, 2, 0).numpy())\n",
    "ax1.set_title('Plan Image/Input')\n",
    "ax1.axis('off')\n",
    "\n",
    "ax2.imshow(visualization)\n",
    "ax2.set_title('Actual Masks')\n",
    "ax2.axis('off')"
   ]
  },
  {
   "cell_type": "markdown",
   "id": "45ccb3b0-b65d-481f-b803-4db558a67ae6",
   "metadata": {},
   "source": [
    "## Dataloader"
   ]
  },
  {
   "cell_type": "code",
   "execution_count": 43,
   "id": "bdd89b08-6209-467e-b3a2-7b509bd46d92",
   "metadata": {
    "tags": []
   },
   "outputs": [
    {
     "data": {
      "text/plain": [
       "(13, 4)"
      ]
     },
     "execution_count": 43,
     "metadata": {},
     "output_type": "execute_result"
    }
   ],
   "source": [
    "from utils.dataloader_utils import get_loader\n",
    "\n",
    "train_dataloader, test_dataloader = get_loader(\n",
    "    train_dir = hyperparameters['train_dir'],\n",
    "    test_dir = hyperparameters['test_dir'],\n",
    "    batch_size = hyperparameters['dataloader']['batch_size'],\n",
    "    train_transform = train_transforms,\n",
    "    test_transform = test_transforms,\n",
    "    num_workers = hyperparameters['dataloader']['num_workers'],\n",
    "    pin_memory = hyperparameters['dataloader']['pin_memory']\n",
    ")\n",
    "\n",
    "len(train_dataloader), len(test_dataloader)"
   ]
  },
  {
   "cell_type": "code",
   "execution_count": 44,
   "id": "870c24cb-2758-4321-b743-63551fa32ee8",
   "metadata": {
    "tags": []
   },
   "outputs": [
    {
     "name": "stdout",
     "output_type": "stream",
     "text": [
      "torch.Size([8, 3, 512, 512]) torch.Size([8, 1, 512, 512])\n",
      "8\n"
     ]
    }
   ],
   "source": [
    "img_a_batch, img_b_batch = next(iter(train_dataloader))\n",
    "print(img_a_batch.shape, img_b_batch.shape)\n",
    "print(img_a_batch.size(0))"
   ]
  },
  {
   "cell_type": "markdown",
   "id": "9c4ce4c7-9ebb-4b12-8762-6c9ec701d885",
   "metadata": {},
   "source": [
    "# Model"
   ]
  },
  {
   "cell_type": "markdown",
   "id": "9ee49c40-5ce7-448d-b85d-9025e19725db",
   "metadata": {},
   "source": [
    "## Model Loading"
   ]
  },
  {
   "cell_type": "code",
   "execution_count": 45,
   "id": "acee5cce-3d3a-44b2-9c0c-bab8761e9e09",
   "metadata": {
    "tags": []
   },
   "outputs": [],
   "source": [
    "from models.vgg19 import VGGUNET19\n",
    "\n",
    "model = VGGUNET19(\n",
    "    features = hyperparameters['vgg19']['features'], \n",
    "    in_channels=hyperparameters['vgg19']['in_channels'], \n",
    "    out_channels=hyperparameters['vgg19']['out_channels']\n",
    ")"
   ]
  },
  {
   "cell_type": "code",
   "execution_count": 46,
   "id": "de3501c6-3239-4836-a029-b869cc74a9f0",
   "metadata": {},
   "outputs": [
    {
     "data": {
      "text/plain": [
       "\"\\ncheckpoint = torch.load(hyperparameters['pre_trained_path'])\\nmodel.load_state_dict(checkpoint['model_state_dict'], strict=True)\\n\\nmodel.to(device)\\n\""
      ]
     },
     "execution_count": 46,
     "metadata": {},
     "output_type": "execute_result"
    }
   ],
   "source": [
    "\"\"\"\n",
    "checkpoint = torch.load(hyperparameters['pre_trained_path'])\n",
    "model.load_state_dict(checkpoint['model_state_dict'], strict=True)\n",
    "\n",
    "model.to(device)\n",
    "\"\"\""
   ]
  },
  {
   "cell_type": "code",
   "execution_count": 47,
   "id": "3fd2d1a6-970d-4e79-bf70-912e86adce91",
   "metadata": {},
   "outputs": [
    {
     "data": {
      "text/plain": [
       "'\\n# Tüm katmanları serbest bırakmak yerine yalnızca son birkaç katmanı güncellemek için \"requires_grad\" ayarı yapılır.\\nfor param in model.parameters():\\n    param.requires_grad = False\\n\\n# Yeni veri bölgesine uyum sağlamak için encoder\\'ın en üst katmanları ve decoder katmanları açılır\\nfor layer in [model.inc, model.down1, model.down2, model.up3, model.up4, model.out]:\\n    for param in layer.parameters():\\n        param.requires_grad = True\\n'"
      ]
     },
     "execution_count": 47,
     "metadata": {},
     "output_type": "execute_result"
    }
   ],
   "source": [
    "\"\"\"\n",
    "# Tüm katmanları serbest bırakmak yerine yalnızca son birkaç katmanı güncellemek için \"requires_grad\" ayarı yapılır.\n",
    "for param in model.parameters():\n",
    "    param.requires_grad = False\n",
    "\n",
    "# Yeni veri bölgesine uyum sağlamak için encoder'ın en üst katmanları ve decoder katmanları açılır\n",
    "for layer in [model.inc, model.down1, model.down2, model.up3, model.up4, model.out]:\n",
    "    for param in layer.parameters():\n",
    "        param.requires_grad = True\n",
    "\"\"\""
   ]
  },
  {
   "cell_type": "markdown",
   "id": "ecddd488-3586-46e7-99dc-34070da1e1e3",
   "metadata": {},
   "source": [
    "## Number of Parameters"
   ]
  },
  {
   "cell_type": "code",
   "execution_count": 48,
   "id": "64e9ca96-84c1-493e-90c1-bea3cdbffc62",
   "metadata": {
    "tags": []
   },
   "outputs": [
    {
     "name": "stdout",
     "output_type": "stream",
     "text": [
      "Model input size: torch.Size([1, 3, 512, 512])\n",
      "Model output size: torch.Size([1, 1, 512, 512])\n"
     ]
    }
   ],
   "source": [
    "### Dummy Data\n",
    "__batch_size = 1\n",
    "__in_channels = hyperparameters['vgg19']['in_channels']\n",
    "__width = 512\n",
    "__height = 512\n",
    "\n",
    "dummy_input = torch.randn((__batch_size, __in_channels, __height, __width))\n",
    "dummy_out = model(dummy_input)\n",
    "\n",
    "print(f'Model input size: {dummy_input.shape}')\n",
    "print(f'Model output size: {dummy_out.shape}')"
   ]
  },
  {
   "cell_type": "code",
   "execution_count": 49,
   "id": "f0bd5554-c7c4-4a58-97fb-7eeffbd52287",
   "metadata": {
    "tags": []
   },
   "outputs": [
    {
     "name": "stdout",
     "output_type": "stream",
     "text": [
      "Number of Parameters: 25,427,968\n"
     ]
    }
   ],
   "source": [
    "print(f'Number of Parameters: {sum(dummy_out.numel() for p in model.parameters()):,}')"
   ]
  },
  {
   "cell_type": "markdown",
   "id": "fe41c2d1-ba7d-4cdb-937a-fec2ff59a67d",
   "metadata": {},
   "source": [
    "# Loss & Optimizer"
   ]
  },
  {
   "cell_type": "markdown",
   "id": "ee62385f-dd21-49bc-90ab-69cafb655d93",
   "metadata": {},
   "source": [
    "## Loss Function"
   ]
  },
  {
   "cell_type": "code",
   "execution_count": 50,
   "id": "1f2409a7-f4c6-48de-8c90-3e37ac0504ce",
   "metadata": {
    "tags": []
   },
   "outputs": [],
   "source": [
    "criterion = nn.MSELoss(reduction='none')\n",
    "\n",
    "def loss_fn(pred, mask, alpha=0.01):\n",
    "    \n",
    "    loss_by_pixel = criterion(pred, mask)\n",
    "    loss = loss_by_pixel.mean()\n",
    "    \n",
    "    return loss"
   ]
  },
  {
   "cell_type": "markdown",
   "id": "a1231945-8f22-4d96-9b60-deefe5175715",
   "metadata": {},
   "source": [
    "## Optimizer & Scheduler"
   ]
  },
  {
   "cell_type": "code",
   "execution_count": 51,
   "id": "0851eeb9-61cd-48fa-9620-07251aedacf9",
   "metadata": {
    "tags": []
   },
   "outputs": [],
   "source": [
    "learning_rate = hyperparameters['optimizer']['lr']\n",
    "betas = hyperparameters['optimizer']['betas']\n",
    "\n",
    "optimizer = torch.optim.Adam(\n",
    "    model.parameters(),\n",
    "    lr = learning_rate,\n",
    "    betas = betas, \n",
    ")\n",
    "\n",
    "scheduler = torch.optim.lr_scheduler.ReduceLROnPlateau(optimizer, mode='min', patience=40, factor=0.1)"
   ]
  },
  {
   "cell_type": "markdown",
   "id": "5b01ec41-0d9d-4053-a7d2-b5fc6e159419",
   "metadata": {
    "tags": []
   },
   "source": [
    "# Training"
   ]
  },
  {
   "cell_type": "markdown",
   "id": "950951ef-d511-424c-b4a4-36cabc7dda67",
   "metadata": {},
   "source": [
    "## Train/Evaluation Function"
   ]
  },
  {
   "cell_type": "code",
   "execution_count": 52,
   "id": "7070db60-a7d2-44b7-a3cb-d03187d2b709",
   "metadata": {
    "tags": []
   },
   "outputs": [],
   "source": [
    "from train_eval_func import train_fn, eval_fn"
   ]
  },
  {
   "cell_type": "markdown",
   "id": "3f029069-9b68-45f0-b595-0f77c79cc70e",
   "metadata": {},
   "source": [
    "## Start Training"
   ]
  },
  {
   "cell_type": "code",
   "execution_count": 53,
   "id": "99160c94-cd3b-473a-83e2-a15d60ecc79a",
   "metadata": {
    "tags": []
   },
   "outputs": [],
   "source": [
    "best_model = {\n",
    "    'best_state_dict' : None,\n",
    "    'best_epoch' : None,\n",
    "    'best_eval_loss' : None,\n",
    "    'best_eval_miou' : 0.0,\n",
    "    'best_eval_acc' : None,\n",
    "}\n",
    "\n",
    "history = {\n",
    "    'train_loss': [],\n",
    "    'eval_loss' : [],\n",
    "    'eval_miou' : [],\n",
    "    'eval_acc' : [],\n",
    "}"
   ]
  },
  {
   "cell_type": "code",
   "execution_count": 54,
   "id": "a5a10022-5c83-4329-b232-58cdb4076f04",
   "metadata": {
    "tags": []
   },
   "outputs": [],
   "source": [
    "def train_start():\n",
    "    model.to(device)\n",
    "    \n",
    "    for epoch in range(1, hyperparameters['epochs']+1):  \n",
    "        \n",
    "        train_loss = train_fn(\n",
    "            epoch = epoch,\n",
    "            train_size = hyperparameters['training_size'], \n",
    "            model = model,\n",
    "            dataloader = train_dataloader, \n",
    "            optimizer = optimizer, \n",
    "            criterion = loss_fn, \n",
    "            device = device,\n",
    "            gradient_clipping = hyperparameters['gradient_clipping'],\n",
    "        )\n",
    "        \n",
    "        eval_loss, eval_miou, eval_acc = eval_fn(\n",
    "            epoch = epoch,\n",
    "            test_size = hyperparameters['test_size'], \n",
    "            model = model, \n",
    "            dataloader = test_dataloader, \n",
    "            criterion = loss_fn, \n",
    "            device = device,\n",
    "            color_mapping = color_mapping,\n",
    "        )\n",
    "\n",
    "        print(f\"\"\"\"\n",
    "        Epoch: {epoch}, \n",
    "        Average Train Loss: {train_loss:.4f} |\n",
    "        Average Test Loss: {eval_loss:.4f} |\n",
    "        Average Test mIoU: {eval_miou:.2f}\n",
    "        Average Test Accuracy: {eval_acc}\"\"\")\n",
    "        \n",
    "        history['train_loss'].append(train_loss)\n",
    "        history['eval_loss'].append(eval_loss)\n",
    "        history['eval_miou'].append(eval_miou)\n",
    "        history['eval_acc'].append(eval_acc)\n",
    "        \n",
    "        save_model(\n",
    "            model=model, \n",
    "            optimizer=optimizer, \n",
    "            root_folder=hyperparameters['checkpoints_dir'], \n",
    "            file_name='Daft_Segmentation_checkpoint', \n",
    "            hyperparameter_dict=hyperparameters, \n",
    "            best_model=best_model, \n",
    "            last_epoch=epoch, \n",
    "            verbose=False)\n",
    "        \n",
    "        if eval_miou > best_model['best_eval_miou']:\n",
    "            best_model['best_state_dict'] = model.state_dict().copy()\n",
    "            best_model['best_epoch'] = epoch\n",
    "            best_model['best_eval_loss'] = eval_loss\n",
    "            best_model['best_eval_miou'] = eval_miou\n",
    "            best_model['best_eval_acc'] = eval_acc\n",
    "            \n",
    "            save_model(\n",
    "                model=model, \n",
    "                optimizer=optimizer, \n",
    "                root_folder=hyperparameters['checkpoints_dir'], \n",
    "                file_name='Daft_Segmentation_best', \n",
    "                hyperparameter_dict=hyperparameters, \n",
    "                best_model=best_model, \n",
    "                last_epoch=epoch, \n",
    "                verbose=True)\n",
    "            \n",
    "            save_model(\n",
    "                model=model, \n",
    "                optimizer=optimizer, \n",
    "                root_folder='./checkpoints/unsupervised/', \n",
    "                file_name='UL_Segmentation',\n",
    "                hyperparameter_dict=hyperparameters, \n",
    "                best_model=best_model, \n",
    "                last_epoch=epoch, )\n",
    "            \n",
    "        scheduler.step(eval_loss)"
   ]
  },
  {
   "cell_type": "markdown",
   "id": "423a7147-80e2-42b3-82dd-33aead6fe302",
   "metadata": {},
   "source": [
    "## Model Training"
   ]
  },
  {
   "cell_type": "code",
   "execution_count": 55,
   "id": "73dc2d6a-9bbb-468b-b373-94e56514b425",
   "metadata": {},
   "outputs": [
    {
     "name": "stderr",
     "output_type": "stream",
     "text": [
      "Train/Epoch 1/150: 100%|██████████| 104/104 [00:08<00:00, 11.74img/s]\n",
      "Eval/Epoch 1/150: 100%|██████████| 27/27 [00:03<00:00,  7.21img/s]\n"
     ]
    },
    {
     "name": "stdout",
     "output_type": "stream",
     "text": [
      "\"\n",
      "        Epoch: 1, \n",
      "        Average Train Loss: 5.2590 |\n",
      "        Average Test Loss: 6.4403 |\n",
      "        Average Test mIoU: 1.21\n",
      "        Average Test Accuracy: 6.1298370361328125\n",
      "Checkpoint: Daft_Segmentation_best is saved successfully\n"
     ]
    },
    {
     "name": "stderr",
     "output_type": "stream",
     "text": [
      "Train/Epoch 2/150: 100%|██████████| 104/104 [00:13<00:00,  7.53img/s]\n",
      "Eval/Epoch 2/150: 100%|██████████| 27/27 [00:03<00:00,  7.58img/s]\n"
     ]
    },
    {
     "name": "stdout",
     "output_type": "stream",
     "text": [
      "\"\n",
      "        Epoch: 2, \n",
      "        Average Train Loss: 3.8528 |\n",
      "        Average Test Loss: 4.0515 |\n",
      "        Average Test mIoU: 7.55\n",
      "        Average Test Accuracy: 33.62312316894531\n",
      "Checkpoint: Daft_Segmentation_best is saved successfully\n"
     ]
    },
    {
     "name": "stderr",
     "output_type": "stream",
     "text": [
      "Train/Epoch 3/150: 100%|██████████| 104/104 [00:11<00:00,  9.31img/s]\n",
      "Eval/Epoch 3/150: 100%|██████████| 27/27 [00:03<00:00,  7.61img/s]\n"
     ]
    },
    {
     "name": "stdout",
     "output_type": "stream",
     "text": [
      "\"\n",
      "        Epoch: 3, \n",
      "        Average Train Loss: 2.8928 |\n",
      "        Average Test Loss: 2.6888 |\n",
      "        Average Test mIoU: 3.55\n",
      "        Average Test Accuracy: 9.473419189453125\n"
     ]
    },
    {
     "name": "stderr",
     "output_type": "stream",
     "text": [
      "Train/Epoch 4/150: 100%|██████████| 104/104 [00:13<00:00,  7.64img/s]\n",
      "Eval/Epoch 4/150: 100%|██████████| 27/27 [00:04<00:00,  5.49img/s]\n"
     ]
    },
    {
     "name": "stdout",
     "output_type": "stream",
     "text": [
      "\"\n",
      "        Epoch: 4, \n",
      "        Average Train Loss: 2.4701 |\n",
      "        Average Test Loss: 2.4593 |\n",
      "        Average Test mIoU: 0.50\n",
      "        Average Test Accuracy: 1.19781494140625\n"
     ]
    },
    {
     "name": "stderr",
     "output_type": "stream",
     "text": [
      "Train/Epoch 5/150: 100%|██████████| 104/104 [00:13<00:00,  7.48img/s]\n",
      "Eval/Epoch 5/150: 100%|██████████| 27/27 [00:04<00:00,  5.78img/s]\n"
     ]
    },
    {
     "name": "stdout",
     "output_type": "stream",
     "text": [
      "\"\n",
      "        Epoch: 5, \n",
      "        Average Train Loss: 2.1894 |\n",
      "        Average Test Loss: 1.9099 |\n",
      "        Average Test mIoU: 1.27\n",
      "        Average Test Accuracy: 2.20794677734375\n"
     ]
    },
    {
     "name": "stderr",
     "output_type": "stream",
     "text": [
      "Train/Epoch 6/150: 100%|██████████| 104/104 [00:14<00:00,  7.28img/s]\n",
      "Eval/Epoch 6/150: 100%|██████████| 27/27 [00:03<00:00,  7.00img/s]\n"
     ]
    },
    {
     "name": "stdout",
     "output_type": "stream",
     "text": [
      "\"\n",
      "        Epoch: 6, \n",
      "        Average Train Loss: 1.9978 |\n",
      "        Average Test Loss: 1.5656 |\n",
      "        Average Test mIoU: 3.66\n",
      "        Average Test Accuracy: 6.416066646575928\n"
     ]
    },
    {
     "name": "stderr",
     "output_type": "stream",
     "text": [
      "Train/Epoch 7/150: 100%|██████████| 104/104 [00:10<00:00,  9.95img/s]\n",
      "Eval/Epoch 7/150: 100%|██████████| 27/27 [00:04<00:00,  5.66img/s]\n"
     ]
    },
    {
     "name": "stdout",
     "output_type": "stream",
     "text": [
      "\"\n",
      "        Epoch: 7, \n",
      "        Average Train Loss: 1.8124 |\n",
      "        Average Test Loss: 1.5483 |\n",
      "        Average Test mIoU: 5.90\n",
      "        Average Test Accuracy: 12.199783325195312\n"
     ]
    },
    {
     "name": "stderr",
     "output_type": "stream",
     "text": [
      "Train/Epoch 8/150: 100%|██████████| 104/104 [00:09<00:00, 11.46img/s]\n",
      "Eval/Epoch 8/150: 100%|██████████| 27/27 [00:03<00:00,  7.46img/s]\n"
     ]
    },
    {
     "name": "stdout",
     "output_type": "stream",
     "text": [
      "\"\n",
      "        Epoch: 8, \n",
      "        Average Train Loss: 1.6991 |\n",
      "        Average Test Loss: 1.5164 |\n",
      "        Average Test mIoU: 2.48\n",
      "        Average Test Accuracy: 5.234654903411865\n"
     ]
    },
    {
     "name": "stderr",
     "output_type": "stream",
     "text": [
      "Train/Epoch 9/150: 100%|██████████| 104/104 [00:08<00:00, 12.91img/s]\n",
      "Eval/Epoch 9/150: 100%|██████████| 27/27 [00:03<00:00,  7.44img/s]\n"
     ]
    },
    {
     "name": "stdout",
     "output_type": "stream",
     "text": [
      "\"\n",
      "        Epoch: 9, \n",
      "        Average Train Loss: 1.5286 |\n",
      "        Average Test Loss: 1.3878 |\n",
      "        Average Test mIoU: 1.95\n",
      "        Average Test Accuracy: 3.5509746074676514\n"
     ]
    },
    {
     "name": "stderr",
     "output_type": "stream",
     "text": [
      "Train/Epoch 10/150: 100%|██████████| 104/104 [00:07<00:00, 13.28img/s]\n",
      "Eval/Epoch 10/150: 100%|██████████| 27/27 [00:03<00:00,  7.85img/s]\n"
     ]
    },
    {
     "name": "stdout",
     "output_type": "stream",
     "text": [
      "\"\n",
      "        Epoch: 10, \n",
      "        Average Train Loss: 1.4061 |\n",
      "        Average Test Loss: 1.3188 |\n",
      "        Average Test mIoU: 2.21\n",
      "        Average Test Accuracy: 3.8194022178649902\n"
     ]
    },
    {
     "name": "stderr",
     "output_type": "stream",
     "text": [
      "Train/Epoch 11/150: 100%|██████████| 104/104 [00:07<00:00, 13.44img/s]\n",
      "Eval/Epoch 11/150: 100%|██████████| 27/27 [00:03<00:00,  7.50img/s]\n"
     ]
    },
    {
     "name": "stdout",
     "output_type": "stream",
     "text": [
      "\"\n",
      "        Epoch: 11, \n",
      "        Average Train Loss: 1.2731 |\n",
      "        Average Test Loss: 1.3091 |\n",
      "        Average Test mIoU: 2.81\n",
      "        Average Test Accuracy: 5.315272331237793\n"
     ]
    },
    {
     "name": "stderr",
     "output_type": "stream",
     "text": [
      "Train/Epoch 12/150: 100%|██████████| 104/104 [00:07<00:00, 13.28img/s]\n",
      "Eval/Epoch 12/150: 100%|██████████| 27/27 [00:03<00:00,  7.80img/s]\n"
     ]
    },
    {
     "name": "stdout",
     "output_type": "stream",
     "text": [
      "\"\n",
      "        Epoch: 12, \n",
      "        Average Train Loss: 1.1684 |\n",
      "        Average Test Loss: 0.8461 |\n",
      "        Average Test mIoU: 12.80\n",
      "        Average Test Accuracy: 27.839534759521484\n",
      "Checkpoint: Daft_Segmentation_best is saved successfully\n"
     ]
    },
    {
     "name": "stderr",
     "output_type": "stream",
     "text": [
      "Train/Epoch 13/150: 100%|██████████| 104/104 [00:07<00:00, 13.51img/s]\n",
      "Eval/Epoch 13/150: 100%|██████████| 27/27 [00:04<00:00,  5.95img/s]\n"
     ]
    },
    {
     "name": "stdout",
     "output_type": "stream",
     "text": [
      "\"\n",
      "        Epoch: 13, \n",
      "        Average Train Loss: 1.0775 |\n",
      "        Average Test Loss: 1.0133 |\n",
      "        Average Test mIoU: 7.05\n",
      "        Average Test Accuracy: 13.94831371307373\n"
     ]
    },
    {
     "name": "stderr",
     "output_type": "stream",
     "text": [
      "Train/Epoch 14/150: 100%|██████████| 104/104 [00:08<00:00, 12.27img/s]\n",
      "Eval/Epoch 14/150: 100%|██████████| 27/27 [00:03<00:00,  7.29img/s]\n"
     ]
    },
    {
     "name": "stdout",
     "output_type": "stream",
     "text": [
      "\"\n",
      "        Epoch: 14, \n",
      "        Average Train Loss: 0.9704 |\n",
      "        Average Test Loss: 0.8402 |\n",
      "        Average Test mIoU: 7.82\n",
      "        Average Test Accuracy: 16.707611083984375\n"
     ]
    },
    {
     "name": "stderr",
     "output_type": "stream",
     "text": [
      "Train/Epoch 15/150: 100%|██████████| 104/104 [00:07<00:00, 13.20img/s]\n",
      "Eval/Epoch 15/150: 100%|██████████| 27/27 [00:03<00:00,  7.19img/s]\n"
     ]
    },
    {
     "name": "stdout",
     "output_type": "stream",
     "text": [
      "\"\n",
      "        Epoch: 15, \n",
      "        Average Train Loss: 0.8661 |\n",
      "        Average Test Loss: 0.7176 |\n",
      "        Average Test mIoU: 10.72\n",
      "        Average Test Accuracy: 21.134313583374023\n"
     ]
    },
    {
     "name": "stderr",
     "output_type": "stream",
     "text": [
      "Train/Epoch 16/150: 100%|██████████| 104/104 [00:07<00:00, 13.90img/s]\n",
      "Eval/Epoch 16/150: 100%|██████████| 27/27 [00:03<00:00,  7.63img/s]\n"
     ]
    },
    {
     "name": "stdout",
     "output_type": "stream",
     "text": [
      "\"\n",
      "        Epoch: 16, \n",
      "        Average Train Loss: 0.7661 |\n",
      "        Average Test Loss: 0.8036 |\n",
      "        Average Test mIoU: 8.52\n",
      "        Average Test Accuracy: 19.69820785522461\n"
     ]
    },
    {
     "name": "stderr",
     "output_type": "stream",
     "text": [
      "Train/Epoch 17/150: 100%|██████████| 104/104 [00:07<00:00, 13.52img/s]\n",
      "Eval/Epoch 17/150: 100%|██████████| 27/27 [00:03<00:00,  7.70img/s]\n"
     ]
    },
    {
     "name": "stdout",
     "output_type": "stream",
     "text": [
      "\"\n",
      "        Epoch: 17, \n",
      "        Average Train Loss: 0.6940 |\n",
      "        Average Test Loss: 0.7743 |\n",
      "        Average Test mIoU: 5.96\n",
      "        Average Test Accuracy: 10.829290390014648\n"
     ]
    },
    {
     "name": "stderr",
     "output_type": "stream",
     "text": [
      "Train/Epoch 18/150: 100%|██████████| 104/104 [00:07<00:00, 13.39img/s]\n",
      "Eval/Epoch 18/150: 100%|██████████| 27/27 [00:03<00:00,  7.83img/s]\n"
     ]
    },
    {
     "name": "stdout",
     "output_type": "stream",
     "text": [
      "\"\n",
      "        Epoch: 18, \n",
      "        Average Train Loss: 0.6447 |\n",
      "        Average Test Loss: 2.1116 |\n",
      "        Average Test mIoU: 16.91\n",
      "        Average Test Accuracy: 8.810806274414062\n",
      "Checkpoint: Daft_Segmentation_best is saved successfully\n"
     ]
    },
    {
     "name": "stderr",
     "output_type": "stream",
     "text": [
      "Train/Epoch 19/150: 100%|██████████| 104/104 [00:07<00:00, 13.37img/s]\n",
      "Eval/Epoch 19/150: 100%|██████████| 27/27 [00:03<00:00,  7.71img/s]\n"
     ]
    },
    {
     "name": "stdout",
     "output_type": "stream",
     "text": [
      "\"\n",
      "        Epoch: 19, \n",
      "        Average Train Loss: 0.6451 |\n",
      "        Average Test Loss: 0.6088 |\n",
      "        Average Test mIoU: 21.98\n",
      "        Average Test Accuracy: 36.28959655761719\n",
      "Checkpoint: Daft_Segmentation_best is saved successfully\n"
     ]
    },
    {
     "name": "stderr",
     "output_type": "stream",
     "text": [
      "Train/Epoch 20/150: 100%|██████████| 104/104 [00:07<00:00, 13.72img/s]\n",
      "Eval/Epoch 20/150: 100%|██████████| 27/27 [00:03<00:00,  7.69img/s]\n"
     ]
    },
    {
     "name": "stdout",
     "output_type": "stream",
     "text": [
      "\"\n",
      "        Epoch: 20, \n",
      "        Average Train Loss: 0.5755 |\n",
      "        Average Test Loss: 0.6203 |\n",
      "        Average Test mIoU: 22.52\n",
      "        Average Test Accuracy: 41.4675407409668\n",
      "Checkpoint: Daft_Segmentation_best is saved successfully\n"
     ]
    },
    {
     "name": "stderr",
     "output_type": "stream",
     "text": [
      "Train/Epoch 21/150: 100%|██████████| 104/104 [00:07<00:00, 13.86img/s]\n",
      "Eval/Epoch 21/150: 100%|██████████| 27/27 [00:03<00:00,  7.51img/s]\n"
     ]
    },
    {
     "name": "stdout",
     "output_type": "stream",
     "text": [
      "\"\n",
      "        Epoch: 21, \n",
      "        Average Train Loss: 0.5115 |\n",
      "        Average Test Loss: 0.7994 |\n",
      "        Average Test mIoU: 6.56\n",
      "        Average Test Accuracy: 11.292013168334961\n"
     ]
    },
    {
     "name": "stderr",
     "output_type": "stream",
     "text": [
      "Train/Epoch 22/150: 100%|██████████| 104/104 [00:07<00:00, 13.56img/s]\n",
      "Eval/Epoch 22/150: 100%|██████████| 27/27 [00:03<00:00,  7.65img/s]\n"
     ]
    },
    {
     "name": "stdout",
     "output_type": "stream",
     "text": [
      "\"\n",
      "        Epoch: 22, \n",
      "        Average Train Loss: 0.4306 |\n",
      "        Average Test Loss: 0.2767 |\n",
      "        Average Test mIoU: 48.91\n",
      "        Average Test Accuracy: 59.02582931518555\n",
      "Checkpoint: Daft_Segmentation_best is saved successfully\n"
     ]
    },
    {
     "name": "stderr",
     "output_type": "stream",
     "text": [
      "Train/Epoch 23/150: 100%|██████████| 104/104 [00:07<00:00, 13.39img/s]\n",
      "Eval/Epoch 23/150: 100%|██████████| 27/27 [00:04<00:00,  5.76img/s]\n"
     ]
    },
    {
     "name": "stdout",
     "output_type": "stream",
     "text": [
      "\"\n",
      "        Epoch: 23, \n",
      "        Average Train Loss: 0.3850 |\n",
      "        Average Test Loss: 1.7635 |\n",
      "        Average Test mIoU: 35.00\n",
      "        Average Test Accuracy: 50.02352523803711\n"
     ]
    },
    {
     "name": "stderr",
     "output_type": "stream",
     "text": [
      "Train/Epoch 24/150: 100%|██████████| 104/104 [00:13<00:00,  7.77img/s]\n",
      "Eval/Epoch 24/150: 100%|██████████| 27/27 [00:05<00:00,  5.24img/s]\n"
     ]
    },
    {
     "name": "stdout",
     "output_type": "stream",
     "text": [
      "\"\n",
      "        Epoch: 24, \n",
      "        Average Train Loss: 0.3612 |\n",
      "        Average Test Loss: 0.2684 |\n",
      "        Average Test mIoU: 48.65\n",
      "        Average Test Accuracy: 59.53165817260742\n"
     ]
    },
    {
     "name": "stderr",
     "output_type": "stream",
     "text": [
      "Train/Epoch 25/150: 100%|██████████| 104/104 [00:13<00:00,  7.45img/s]\n",
      "Eval/Epoch 25/150: 100%|██████████| 27/27 [00:05<00:00,  5.32img/s]\n"
     ]
    },
    {
     "name": "stdout",
     "output_type": "stream",
     "text": [
      "\"\n",
      "        Epoch: 25, \n",
      "        Average Train Loss: 0.3109 |\n",
      "        Average Test Loss: 0.3343 |\n",
      "        Average Test mIoU: 37.17\n",
      "        Average Test Accuracy: 39.685951232910156\n"
     ]
    },
    {
     "name": "stderr",
     "output_type": "stream",
     "text": [
      "Train/Epoch 26/150: 100%|██████████| 104/104 [00:14<00:00,  7.08img/s]\n",
      "Eval/Epoch 26/150: 100%|██████████| 27/27 [00:04<00:00,  6.60img/s]\n"
     ]
    },
    {
     "name": "stdout",
     "output_type": "stream",
     "text": [
      "\"\n",
      "        Epoch: 26, \n",
      "        Average Train Loss: 0.3189 |\n",
      "        Average Test Loss: 0.2331 |\n",
      "        Average Test mIoU: 63.08\n",
      "        Average Test Accuracy: 88.44833374023438\n",
      "Checkpoint: Daft_Segmentation_best is saved successfully\n"
     ]
    },
    {
     "name": "stderr",
     "output_type": "stream",
     "text": [
      "Train/Epoch 27/150: 100%|██████████| 104/104 [00:14<00:00,  7.32img/s]\n",
      "Eval/Epoch 27/150: 100%|██████████| 27/27 [00:04<00:00,  5.61img/s]\n"
     ]
    },
    {
     "name": "stdout",
     "output_type": "stream",
     "text": [
      "\"\n",
      "        Epoch: 27, \n",
      "        Average Train Loss: 0.2663 |\n",
      "        Average Test Loss: 0.2225 |\n",
      "        Average Test mIoU: 70.48\n",
      "        Average Test Accuracy: 91.63169860839844\n",
      "Checkpoint: Daft_Segmentation_best is saved successfully\n"
     ]
    },
    {
     "name": "stderr",
     "output_type": "stream",
     "text": [
      "Train/Epoch 28/150: 100%|██████████| 104/104 [00:13<00:00,  7.86img/s]\n",
      "Eval/Epoch 28/150: 100%|██████████| 27/27 [00:04<00:00,  5.74img/s]\n"
     ]
    },
    {
     "name": "stdout",
     "output_type": "stream",
     "text": [
      "\"\n",
      "        Epoch: 28, \n",
      "        Average Train Loss: 0.2264 |\n",
      "        Average Test Loss: 0.2136 |\n",
      "        Average Test mIoU: 64.15\n",
      "        Average Test Accuracy: 91.6161880493164\n"
     ]
    },
    {
     "name": "stderr",
     "output_type": "stream",
     "text": [
      "Train/Epoch 29/150: 100%|██████████| 104/104 [00:13<00:00,  7.93img/s]\n",
      "Eval/Epoch 29/150: 100%|██████████| 27/27 [00:04<00:00,  5.66img/s]\n"
     ]
    },
    {
     "name": "stdout",
     "output_type": "stream",
     "text": [
      "\"\n",
      "        Epoch: 29, \n",
      "        Average Train Loss: 0.1987 |\n",
      "        Average Test Loss: 1.8276 |\n",
      "        Average Test mIoU: 41.06\n",
      "        Average Test Accuracy: 60.779571533203125\n"
     ]
    },
    {
     "name": "stderr",
     "output_type": "stream",
     "text": [
      "Train/Epoch 30/150: 100%|██████████| 104/104 [00:13<00:00,  7.87img/s]\n",
      "Eval/Epoch 30/150: 100%|██████████| 27/27 [00:04<00:00,  5.67img/s]\n"
     ]
    },
    {
     "name": "stdout",
     "output_type": "stream",
     "text": [
      "\"\n",
      "        Epoch: 30, \n",
      "        Average Train Loss: 0.1922 |\n",
      "        Average Test Loss: 0.1128 |\n",
      "        Average Test mIoU: 76.68\n",
      "        Average Test Accuracy: 93.9385757446289\n",
      "Checkpoint: Daft_Segmentation_best is saved successfully\n"
     ]
    },
    {
     "name": "stderr",
     "output_type": "stream",
     "text": [
      "Train/Epoch 31/150: 100%|██████████| 104/104 [00:13<00:00,  7.80img/s]\n",
      "Eval/Epoch 31/150: 100%|██████████| 27/27 [00:04<00:00,  5.60img/s]\n"
     ]
    },
    {
     "name": "stdout",
     "output_type": "stream",
     "text": [
      "\"\n",
      "        Epoch: 31, \n",
      "        Average Train Loss: 0.2008 |\n",
      "        Average Test Loss: 0.1676 |\n",
      "        Average Test mIoU: 72.18\n",
      "        Average Test Accuracy: 91.10272979736328\n"
     ]
    },
    {
     "name": "stderr",
     "output_type": "stream",
     "text": [
      "Train/Epoch 32/150: 100%|██████████| 104/104 [00:13<00:00,  7.52img/s]\n",
      "Eval/Epoch 32/150: 100%|██████████| 27/27 [00:04<00:00,  5.68img/s]\n"
     ]
    },
    {
     "name": "stdout",
     "output_type": "stream",
     "text": [
      "\"\n",
      "        Epoch: 32, \n",
      "        Average Train Loss: 0.1730 |\n",
      "        Average Test Loss: 0.1364 |\n",
      "        Average Test mIoU: 71.13\n",
      "        Average Test Accuracy: 89.2791748046875\n"
     ]
    },
    {
     "name": "stderr",
     "output_type": "stream",
     "text": [
      "Train/Epoch 33/150: 100%|██████████| 104/104 [00:13<00:00,  7.67img/s]\n",
      "Eval/Epoch 33/150: 100%|██████████| 27/27 [00:04<00:00,  5.59img/s]\n"
     ]
    },
    {
     "name": "stdout",
     "output_type": "stream",
     "text": [
      "\"\n",
      "        Epoch: 33, \n",
      "        Average Train Loss: 0.1566 |\n",
      "        Average Test Loss: 0.1420 |\n",
      "        Average Test mIoU: 70.64\n",
      "        Average Test Accuracy: 88.23865509033203\n"
     ]
    },
    {
     "name": "stderr",
     "output_type": "stream",
     "text": [
      "Train/Epoch 34/150: 100%|██████████| 104/104 [00:13<00:00,  7.69img/s]\n",
      "Eval/Epoch 34/150: 100%|██████████| 27/27 [00:04<00:00,  5.54img/s]\n"
     ]
    },
    {
     "name": "stdout",
     "output_type": "stream",
     "text": [
      "\"\n",
      "        Epoch: 34, \n",
      "        Average Train Loss: 0.1620 |\n",
      "        Average Test Loss: 0.2163 |\n",
      "        Average Test mIoU: 68.64\n",
      "        Average Test Accuracy: 90.97455596923828\n"
     ]
    },
    {
     "name": "stderr",
     "output_type": "stream",
     "text": [
      "Train/Epoch 35/150: 100%|██████████| 104/104 [00:13<00:00,  7.76img/s]\n",
      "Eval/Epoch 35/150: 100%|██████████| 27/27 [00:04<00:00,  5.64img/s]\n"
     ]
    },
    {
     "name": "stdout",
     "output_type": "stream",
     "text": [
      "\"\n",
      "        Epoch: 35, \n",
      "        Average Train Loss: 0.1502 |\n",
      "        Average Test Loss: 0.0980 |\n",
      "        Average Test mIoU: 78.84\n",
      "        Average Test Accuracy: 95.3125\n",
      "Checkpoint: Daft_Segmentation_best is saved successfully\n"
     ]
    },
    {
     "name": "stderr",
     "output_type": "stream",
     "text": [
      "Train/Epoch 36/150: 100%|██████████| 104/104 [00:13<00:00,  7.79img/s]\n",
      "Eval/Epoch 36/150: 100%|██████████| 27/27 [00:04<00:00,  5.67img/s]\n"
     ]
    },
    {
     "name": "stdout",
     "output_type": "stream",
     "text": [
      "\"\n",
      "        Epoch: 36, \n",
      "        Average Train Loss: 0.1554 |\n",
      "        Average Test Loss: 0.0970 |\n",
      "        Average Test mIoU: 79.80\n",
      "        Average Test Accuracy: 93.71770477294922\n",
      "Checkpoint: Daft_Segmentation_best is saved successfully\n"
     ]
    },
    {
     "name": "stderr",
     "output_type": "stream",
     "text": [
      "Train/Epoch 37/150: 100%|██████████| 104/104 [00:08<00:00, 12.95img/s]\n",
      "Eval/Epoch 37/150: 100%|██████████| 27/27 [00:03<00:00,  7.57img/s]\n"
     ]
    },
    {
     "name": "stdout",
     "output_type": "stream",
     "text": [
      "\"\n",
      "        Epoch: 37, \n",
      "        Average Train Loss: 0.1567 |\n",
      "        Average Test Loss: 0.1478 |\n",
      "        Average Test mIoU: 69.47\n",
      "        Average Test Accuracy: 84.11344146728516\n"
     ]
    },
    {
     "name": "stderr",
     "output_type": "stream",
     "text": [
      "Train/Epoch 38/150: 100%|██████████| 104/104 [00:07<00:00, 13.57img/s]\n",
      "Eval/Epoch 38/150: 100%|██████████| 27/27 [00:03<00:00,  7.55img/s]\n"
     ]
    },
    {
     "name": "stdout",
     "output_type": "stream",
     "text": [
      "\"\n",
      "        Epoch: 38, \n",
      "        Average Train Loss: 0.1683 |\n",
      "        Average Test Loss: 0.0895 |\n",
      "        Average Test mIoU: 76.91\n",
      "        Average Test Accuracy: 93.60478973388672\n"
     ]
    },
    {
     "name": "stderr",
     "output_type": "stream",
     "text": [
      "Train/Epoch 39/150: 100%|██████████| 104/104 [00:07<00:00, 13.55img/s]\n",
      "Eval/Epoch 39/150: 100%|██████████| 27/27 [00:03<00:00,  7.45img/s]\n"
     ]
    },
    {
     "name": "stdout",
     "output_type": "stream",
     "text": [
      "\"\n",
      "        Epoch: 39, \n",
      "        Average Train Loss: 0.1426 |\n",
      "        Average Test Loss: 0.1383 |\n",
      "        Average Test mIoU: 70.26\n",
      "        Average Test Accuracy: 83.77532958984375\n"
     ]
    },
    {
     "name": "stderr",
     "output_type": "stream",
     "text": [
      "Train/Epoch 40/150: 100%|██████████| 104/104 [00:13<00:00,  7.73img/s]\n",
      "Eval/Epoch 40/150: 100%|██████████| 27/27 [00:04<00:00,  5.48img/s]\n"
     ]
    },
    {
     "name": "stdout",
     "output_type": "stream",
     "text": [
      "\"\n",
      "        Epoch: 40, \n",
      "        Average Train Loss: 0.1202 |\n",
      "        Average Test Loss: 0.0951 |\n",
      "        Average Test mIoU: 77.98\n",
      "        Average Test Accuracy: 94.55223083496094\n"
     ]
    },
    {
     "name": "stderr",
     "output_type": "stream",
     "text": [
      "Train/Epoch 41/150: 100%|██████████| 104/104 [00:13<00:00,  7.69img/s]\n",
      "Eval/Epoch 41/150: 100%|██████████| 27/27 [00:04<00:00,  5.60img/s]\n"
     ]
    },
    {
     "name": "stdout",
     "output_type": "stream",
     "text": [
      "\"\n",
      "        Epoch: 41, \n",
      "        Average Train Loss: 0.1299 |\n",
      "        Average Test Loss: 0.0868 |\n",
      "        Average Test mIoU: 80.75\n",
      "        Average Test Accuracy: 95.72944641113281\n",
      "Checkpoint: Daft_Segmentation_best is saved successfully\n"
     ]
    },
    {
     "name": "stderr",
     "output_type": "stream",
     "text": [
      "Train/Epoch 42/150: 100%|██████████| 104/104 [00:13<00:00,  7.65img/s]\n",
      "Eval/Epoch 42/150: 100%|██████████| 27/27 [00:04<00:00,  5.56img/s]\n"
     ]
    },
    {
     "name": "stdout",
     "output_type": "stream",
     "text": [
      "\"\n",
      "        Epoch: 42, \n",
      "        Average Train Loss: 0.1260 |\n",
      "        Average Test Loss: 0.0710 |\n",
      "        Average Test mIoU: 82.52\n",
      "        Average Test Accuracy: 95.62581634521484\n",
      "Checkpoint: Daft_Segmentation_best is saved successfully\n"
     ]
    },
    {
     "name": "stderr",
     "output_type": "stream",
     "text": [
      "Train/Epoch 43/150: 100%|██████████| 104/104 [00:13<00:00,  7.65img/s]\n",
      "Eval/Epoch 43/150: 100%|██████████| 27/27 [00:04<00:00,  5.62img/s]\n"
     ]
    },
    {
     "name": "stdout",
     "output_type": "stream",
     "text": [
      "\"\n",
      "        Epoch: 43, \n",
      "        Average Train Loss: 0.1414 |\n",
      "        Average Test Loss: 0.0761 |\n",
      "        Average Test mIoU: 82.73\n",
      "        Average Test Accuracy: 96.21162414550781\n",
      "Checkpoint: Daft_Segmentation_best is saved successfully\n"
     ]
    },
    {
     "name": "stderr",
     "output_type": "stream",
     "text": [
      "Train/Epoch 44/150: 100%|██████████| 104/104 [00:13<00:00,  7.45img/s]\n",
      "Eval/Epoch 44/150: 100%|██████████| 27/27 [00:04<00:00,  5.54img/s]\n"
     ]
    },
    {
     "name": "stdout",
     "output_type": "stream",
     "text": [
      "\"\n",
      "        Epoch: 44, \n",
      "        Average Train Loss: 0.1220 |\n",
      "        Average Test Loss: 0.0726 |\n",
      "        Average Test mIoU: 85.10\n",
      "        Average Test Accuracy: 97.5945816040039\n",
      "Checkpoint: Daft_Segmentation_best is saved successfully\n"
     ]
    },
    {
     "name": "stderr",
     "output_type": "stream",
     "text": [
      "Train/Epoch 45/150: 100%|██████████| 104/104 [00:13<00:00,  7.64img/s]\n",
      "Eval/Epoch 45/150: 100%|██████████| 27/27 [00:04<00:00,  5.74img/s]\n"
     ]
    },
    {
     "name": "stdout",
     "output_type": "stream",
     "text": [
      "\"\n",
      "        Epoch: 45, \n",
      "        Average Train Loss: 0.1126 |\n",
      "        Average Test Loss: 0.0589 |\n",
      "        Average Test mIoU: 86.82\n",
      "        Average Test Accuracy: 97.38642883300781\n",
      "Checkpoint: Daft_Segmentation_best is saved successfully\n"
     ]
    },
    {
     "name": "stderr",
     "output_type": "stream",
     "text": [
      "Train/Epoch 46/150: 100%|██████████| 104/104 [00:14<00:00,  7.37img/s]\n",
      "Eval/Epoch 46/150: 100%|██████████| 27/27 [00:04<00:00,  5.72img/s]\n"
     ]
    },
    {
     "name": "stdout",
     "output_type": "stream",
     "text": [
      "\"\n",
      "        Epoch: 46, \n",
      "        Average Train Loss: 0.1019 |\n",
      "        Average Test Loss: 0.0636 |\n",
      "        Average Test mIoU: 85.43\n",
      "        Average Test Accuracy: 96.88517761230469\n"
     ]
    },
    {
     "name": "stderr",
     "output_type": "stream",
     "text": [
      "Train/Epoch 47/150: 100%|██████████| 104/104 [00:14<00:00,  7.08img/s]\n",
      "Eval/Epoch 47/150: 100%|██████████| 27/27 [00:04<00:00,  5.50img/s]\n"
     ]
    },
    {
     "name": "stdout",
     "output_type": "stream",
     "text": [
      "\"\n",
      "        Epoch: 47, \n",
      "        Average Train Loss: 0.1197 |\n",
      "        Average Test Loss: 0.0709 |\n",
      "        Average Test mIoU: 84.26\n",
      "        Average Test Accuracy: 96.94900512695312\n"
     ]
    },
    {
     "name": "stderr",
     "output_type": "stream",
     "text": [
      "Train/Epoch 48/150: 100%|██████████| 104/104 [00:14<00:00,  7.32img/s]\n",
      "Eval/Epoch 48/150: 100%|██████████| 27/27 [00:04<00:00,  5.48img/s]\n"
     ]
    },
    {
     "name": "stdout",
     "output_type": "stream",
     "text": [
      "\"\n",
      "        Epoch: 48, \n",
      "        Average Train Loss: 0.0938 |\n",
      "        Average Test Loss: 0.0591 |\n",
      "        Average Test mIoU: 85.92\n",
      "        Average Test Accuracy: 97.14228820800781\n"
     ]
    },
    {
     "name": "stderr",
     "output_type": "stream",
     "text": [
      "Train/Epoch 49/150: 100%|██████████| 104/104 [00:13<00:00,  7.59img/s]\n",
      "Eval/Epoch 49/150: 100%|██████████| 27/27 [00:04<00:00,  5.44img/s]\n"
     ]
    },
    {
     "name": "stdout",
     "output_type": "stream",
     "text": [
      "\"\n",
      "        Epoch: 49, \n",
      "        Average Train Loss: 0.1015 |\n",
      "        Average Test Loss: 0.1236 |\n",
      "        Average Test mIoU: 77.93\n",
      "        Average Test Accuracy: 94.61682891845703\n"
     ]
    },
    {
     "name": "stderr",
     "output_type": "stream",
     "text": [
      "Train/Epoch 50/150: 100%|██████████| 104/104 [00:13<00:00,  7.63img/s]\n",
      "Eval/Epoch 50/150: 100%|██████████| 27/27 [00:04<00:00,  5.48img/s]\n"
     ]
    },
    {
     "name": "stdout",
     "output_type": "stream",
     "text": [
      "\"\n",
      "        Epoch: 50, \n",
      "        Average Train Loss: 0.1090 |\n",
      "        Average Test Loss: 0.0605 |\n",
      "        Average Test mIoU: 86.30\n",
      "        Average Test Accuracy: 97.24986267089844\n"
     ]
    },
    {
     "name": "stderr",
     "output_type": "stream",
     "text": [
      "Train/Epoch 51/150: 100%|██████████| 104/104 [00:08<00:00, 12.93img/s]\n",
      "Eval/Epoch 51/150: 100%|██████████| 27/27 [00:03<00:00,  7.47img/s]\n"
     ]
    },
    {
     "name": "stdout",
     "output_type": "stream",
     "text": [
      "\"\n",
      "        Epoch: 51, \n",
      "        Average Train Loss: 0.0934 |\n",
      "        Average Test Loss: 0.0554 |\n",
      "        Average Test mIoU: 86.18\n",
      "        Average Test Accuracy: 97.59674072265625\n"
     ]
    },
    {
     "name": "stderr",
     "output_type": "stream",
     "text": [
      "Train/Epoch 52/150: 100%|██████████| 104/104 [00:07<00:00, 13.16img/s]\n",
      "Eval/Epoch 52/150: 100%|██████████| 27/27 [00:04<00:00,  6.63img/s]\n"
     ]
    },
    {
     "name": "stdout",
     "output_type": "stream",
     "text": [
      "\"\n",
      "        Epoch: 52, \n",
      "        Average Train Loss: 0.0942 |\n",
      "        Average Test Loss: 0.0832 |\n",
      "        Average Test mIoU: 79.44\n",
      "        Average Test Accuracy: 95.06797790527344\n"
     ]
    },
    {
     "name": "stderr",
     "output_type": "stream",
     "text": [
      "Train/Epoch 53/150: 100%|██████████| 104/104 [00:13<00:00,  7.44img/s]\n",
      "Eval/Epoch 53/150: 100%|██████████| 27/27 [00:04<00:00,  5.59img/s]\n"
     ]
    },
    {
     "name": "stdout",
     "output_type": "stream",
     "text": [
      "\"\n",
      "        Epoch: 53, \n",
      "        Average Train Loss: 0.1070 |\n",
      "        Average Test Loss: 0.1011 |\n",
      "        Average Test mIoU: 78.20\n",
      "        Average Test Accuracy: 90.46720123291016\n"
     ]
    },
    {
     "name": "stderr",
     "output_type": "stream",
     "text": [
      "Train/Epoch 54/150: 100%|██████████| 104/104 [00:14<00:00,  7.04img/s]\n",
      "Eval/Epoch 54/150: 100%|██████████| 27/27 [00:04<00:00,  5.63img/s]\n"
     ]
    },
    {
     "name": "stdout",
     "output_type": "stream",
     "text": [
      "\"\n",
      "        Epoch: 54, \n",
      "        Average Train Loss: 0.0846 |\n",
      "        Average Test Loss: 0.0595 |\n",
      "        Average Test mIoU: 85.01\n",
      "        Average Test Accuracy: 98.16754913330078\n"
     ]
    },
    {
     "name": "stderr",
     "output_type": "stream",
     "text": [
      "Train/Epoch 55/150: 100%|██████████| 104/104 [00:11<00:00,  9.13img/s]\n",
      "Eval/Epoch 55/150: 100%|██████████| 27/27 [00:03<00:00,  7.61img/s]\n"
     ]
    },
    {
     "name": "stdout",
     "output_type": "stream",
     "text": [
      "\"\n",
      "        Epoch: 55, \n",
      "        Average Train Loss: 0.0925 |\n",
      "        Average Test Loss: 0.0661 |\n",
      "        Average Test mIoU: 83.47\n",
      "        Average Test Accuracy: 94.79840850830078\n"
     ]
    },
    {
     "name": "stderr",
     "output_type": "stream",
     "text": [
      "Train/Epoch 56/150: 100%|██████████| 104/104 [00:07<00:00, 13.26img/s]\n",
      "Eval/Epoch 56/150: 100%|██████████| 27/27 [00:03<00:00,  7.45img/s]\n"
     ]
    },
    {
     "name": "stdout",
     "output_type": "stream",
     "text": [
      "\"\n",
      "        Epoch: 56, \n",
      "        Average Train Loss: 0.0829 |\n",
      "        Average Test Loss: 0.0563 |\n",
      "        Average Test mIoU: 86.61\n",
      "        Average Test Accuracy: 97.54613494873047\n"
     ]
    },
    {
     "name": "stderr",
     "output_type": "stream",
     "text": [
      "Train/Epoch 57/150: 100%|██████████| 104/104 [00:14<00:00,  7.29img/s]\n",
      "Eval/Epoch 57/150: 100%|██████████| 27/27 [00:04<00:00,  5.50img/s]\n"
     ]
    },
    {
     "name": "stdout",
     "output_type": "stream",
     "text": [
      "\"\n",
      "        Epoch: 57, \n",
      "        Average Train Loss: 0.0720 |\n",
      "        Average Test Loss: 0.0650 |\n",
      "        Average Test mIoU: 85.41\n",
      "        Average Test Accuracy: 97.18272399902344\n"
     ]
    },
    {
     "name": "stderr",
     "output_type": "stream",
     "text": [
      "Train/Epoch 58/150: 100%|██████████| 104/104 [00:14<00:00,  7.43img/s]\n",
      "Eval/Epoch 58/150: 100%|██████████| 27/27 [00:04<00:00,  5.51img/s]\n"
     ]
    },
    {
     "name": "stdout",
     "output_type": "stream",
     "text": [
      "\"\n",
      "        Epoch: 58, \n",
      "        Average Train Loss: 0.1003 |\n",
      "        Average Test Loss: 0.0677 |\n",
      "        Average Test mIoU: 84.11\n",
      "        Average Test Accuracy: 97.03585815429688\n"
     ]
    },
    {
     "name": "stderr",
     "output_type": "stream",
     "text": [
      "Train/Epoch 59/150: 100%|██████████| 104/104 [00:14<00:00,  6.99img/s]\n",
      "Eval/Epoch 59/150: 100%|██████████| 27/27 [00:04<00:00,  5.57img/s]\n"
     ]
    },
    {
     "name": "stdout",
     "output_type": "stream",
     "text": [
      "\"\n",
      "        Epoch: 59, \n",
      "        Average Train Loss: 0.0904 |\n",
      "        Average Test Loss: 0.0735 |\n",
      "        Average Test mIoU: 83.69\n",
      "        Average Test Accuracy: 95.00579833984375\n"
     ]
    },
    {
     "name": "stderr",
     "output_type": "stream",
     "text": [
      "Train/Epoch 60/150: 100%|██████████| 104/104 [00:14<00:00,  7.04img/s]\n",
      "Eval/Epoch 60/150: 100%|██████████| 27/27 [00:04<00:00,  5.71img/s]\n"
     ]
    },
    {
     "name": "stdout",
     "output_type": "stream",
     "text": [
      "\"\n",
      "        Epoch: 60, \n",
      "        Average Train Loss: 0.0867 |\n",
      "        Average Test Loss: 0.0464 |\n",
      "        Average Test mIoU: 88.87\n",
      "        Average Test Accuracy: 98.46471405029297\n",
      "Checkpoint: Daft_Segmentation_best is saved successfully\n"
     ]
    },
    {
     "name": "stderr",
     "output_type": "stream",
     "text": [
      "Train/Epoch 61/150: 100%|██████████| 104/104 [00:14<00:00,  7.13img/s]\n",
      "Eval/Epoch 61/150: 100%|██████████| 27/27 [00:04<00:00,  5.82img/s]\n"
     ]
    },
    {
     "name": "stdout",
     "output_type": "stream",
     "text": [
      "\"\n",
      "        Epoch: 61, \n",
      "        Average Train Loss: 0.0932 |\n",
      "        Average Test Loss: 0.0828 |\n",
      "        Average Test mIoU: 82.17\n",
      "        Average Test Accuracy: 97.14889526367188\n"
     ]
    },
    {
     "name": "stderr",
     "output_type": "stream",
     "text": [
      "Train/Epoch 62/150: 100%|██████████| 104/104 [00:14<00:00,  7.18img/s]\n",
      "Eval/Epoch 62/150: 100%|██████████| 27/27 [00:04<00:00,  5.54img/s]\n"
     ]
    },
    {
     "name": "stdout",
     "output_type": "stream",
     "text": [
      "\"\n",
      "        Epoch: 62, \n",
      "        Average Train Loss: 0.0863 |\n",
      "        Average Test Loss: 0.0706 |\n",
      "        Average Test mIoU: 84.34\n",
      "        Average Test Accuracy: 95.38600158691406\n"
     ]
    },
    {
     "name": "stderr",
     "output_type": "stream",
     "text": [
      "Train/Epoch 63/150: 100%|██████████| 104/104 [00:14<00:00,  6.94img/s]\n",
      "Eval/Epoch 63/150: 100%|██████████| 27/27 [00:04<00:00,  5.53img/s]\n"
     ]
    },
    {
     "name": "stdout",
     "output_type": "stream",
     "text": [
      "\"\n",
      "        Epoch: 63, \n",
      "        Average Train Loss: 0.0973 |\n",
      "        Average Test Loss: 0.0982 |\n",
      "        Average Test mIoU: 79.36\n",
      "        Average Test Accuracy: 94.95862579345703\n"
     ]
    },
    {
     "name": "stderr",
     "output_type": "stream",
     "text": [
      "Train/Epoch 64/150: 100%|██████████| 104/104 [00:14<00:00,  6.99img/s]\n",
      "Eval/Epoch 64/150: 100%|██████████| 27/27 [00:04<00:00,  5.92img/s]\n"
     ]
    },
    {
     "name": "stdout",
     "output_type": "stream",
     "text": [
      "\"\n",
      "        Epoch: 64, \n",
      "        Average Train Loss: 0.0850 |\n",
      "        Average Test Loss: 0.0527 |\n",
      "        Average Test mIoU: 88.22\n",
      "        Average Test Accuracy: 98.6443862915039\n"
     ]
    },
    {
     "name": "stderr",
     "output_type": "stream",
     "text": [
      "Train/Epoch 65/150: 100%|██████████| 104/104 [00:13<00:00,  7.88img/s]\n",
      "Eval/Epoch 65/150: 100%|██████████| 27/27 [00:04<00:00,  5.55img/s]\n"
     ]
    },
    {
     "name": "stdout",
     "output_type": "stream",
     "text": [
      "\"\n",
      "        Epoch: 65, \n",
      "        Average Train Loss: 0.0894 |\n",
      "        Average Test Loss: 0.0428 |\n",
      "        Average Test mIoU: 89.21\n",
      "        Average Test Accuracy: 98.73326873779297\n",
      "Checkpoint: Daft_Segmentation_best is saved successfully\n"
     ]
    },
    {
     "name": "stderr",
     "output_type": "stream",
     "text": [
      "Train/Epoch 66/150: 100%|██████████| 104/104 [00:14<00:00,  7.17img/s]\n",
      "Eval/Epoch 66/150: 100%|██████████| 27/27 [00:04<00:00,  5.56img/s]\n"
     ]
    },
    {
     "name": "stdout",
     "output_type": "stream",
     "text": [
      "\"\n",
      "        Epoch: 66, \n",
      "        Average Train Loss: 0.0759 |\n",
      "        Average Test Loss: 0.0439 |\n",
      "        Average Test mIoU: 88.30\n",
      "        Average Test Accuracy: 98.49446868896484\n"
     ]
    },
    {
     "name": "stderr",
     "output_type": "stream",
     "text": [
      "Train/Epoch 67/150: 100%|██████████| 104/104 [00:14<00:00,  7.12img/s]\n",
      "Eval/Epoch 67/150: 100%|██████████| 27/27 [00:04<00:00,  5.60img/s]\n"
     ]
    },
    {
     "name": "stdout",
     "output_type": "stream",
     "text": [
      "\"\n",
      "        Epoch: 67, \n",
      "        Average Train Loss: 0.0858 |\n",
      "        Average Test Loss: 0.0498 |\n",
      "        Average Test mIoU: 86.45\n",
      "        Average Test Accuracy: 96.71542358398438\n"
     ]
    },
    {
     "name": "stderr",
     "output_type": "stream",
     "text": [
      "Train/Epoch 68/150: 100%|██████████| 104/104 [00:14<00:00,  7.40img/s]\n",
      "Eval/Epoch 68/150: 100%|██████████| 27/27 [00:05<00:00,  5.39img/s]\n"
     ]
    },
    {
     "name": "stdout",
     "output_type": "stream",
     "text": [
      "\"\n",
      "        Epoch: 68, \n",
      "        Average Train Loss: 0.0859 |\n",
      "        Average Test Loss: 0.0442 |\n",
      "        Average Test mIoU: 88.22\n",
      "        Average Test Accuracy: 97.27973937988281\n"
     ]
    },
    {
     "name": "stderr",
     "output_type": "stream",
     "text": [
      "Train/Epoch 69/150: 100%|██████████| 104/104 [00:13<00:00,  7.92img/s]\n",
      "Eval/Epoch 69/150: 100%|██████████| 27/27 [00:05<00:00,  5.37img/s]\n"
     ]
    },
    {
     "name": "stdout",
     "output_type": "stream",
     "text": [
      "\"\n",
      "        Epoch: 69, \n",
      "        Average Train Loss: 0.0769 |\n",
      "        Average Test Loss: 0.0496 |\n",
      "        Average Test mIoU: 89.67\n",
      "        Average Test Accuracy: 98.77790069580078\n",
      "Checkpoint: Daft_Segmentation_best is saved successfully\n"
     ]
    },
    {
     "name": "stderr",
     "output_type": "stream",
     "text": [
      "Train/Epoch 70/150: 100%|██████████| 104/104 [00:15<00:00,  6.89img/s]\n",
      "Eval/Epoch 70/150: 100%|██████████| 27/27 [00:04<00:00,  5.61img/s]\n"
     ]
    },
    {
     "name": "stdout",
     "output_type": "stream",
     "text": [
      "\"\n",
      "        Epoch: 70, \n",
      "        Average Train Loss: 0.0893 |\n",
      "        Average Test Loss: 0.0629 |\n",
      "        Average Test mIoU: 85.82\n",
      "        Average Test Accuracy: 95.4003677368164\n"
     ]
    },
    {
     "name": "stderr",
     "output_type": "stream",
     "text": [
      "Train/Epoch 71/150: 100%|██████████| 104/104 [00:14<00:00,  6.94img/s]\n",
      "Eval/Epoch 71/150: 100%|██████████| 27/27 [00:04<00:00,  5.56img/s]\n"
     ]
    },
    {
     "name": "stdout",
     "output_type": "stream",
     "text": [
      "\"\n",
      "        Epoch: 71, \n",
      "        Average Train Loss: 0.0672 |\n",
      "        Average Test Loss: 0.0560 |\n",
      "        Average Test mIoU: 88.77\n",
      "        Average Test Accuracy: 97.42991638183594\n"
     ]
    },
    {
     "name": "stderr",
     "output_type": "stream",
     "text": [
      "Train/Epoch 72/150: 100%|██████████| 104/104 [00:14<00:00,  6.97img/s]\n",
      "Eval/Epoch 72/150: 100%|██████████| 27/27 [00:04<00:00,  5.53img/s]\n"
     ]
    },
    {
     "name": "stdout",
     "output_type": "stream",
     "text": [
      "\"\n",
      "        Epoch: 72, \n",
      "        Average Train Loss: 0.0805 |\n",
      "        Average Test Loss: 0.0478 |\n",
      "        Average Test mIoU: 89.60\n",
      "        Average Test Accuracy: 99.05255889892578\n"
     ]
    },
    {
     "name": "stderr",
     "output_type": "stream",
     "text": [
      "Train/Epoch 73/150: 100%|██████████| 104/104 [00:15<00:00,  6.91img/s]\n",
      "Eval/Epoch 73/150: 100%|██████████| 27/27 [00:04<00:00,  5.70img/s]\n"
     ]
    },
    {
     "name": "stdout",
     "output_type": "stream",
     "text": [
      "\"\n",
      "        Epoch: 73, \n",
      "        Average Train Loss: 0.0768 |\n",
      "        Average Test Loss: 0.0518 |\n",
      "        Average Test mIoU: 88.04\n",
      "        Average Test Accuracy: 97.07095336914062\n"
     ]
    },
    {
     "name": "stderr",
     "output_type": "stream",
     "text": [
      "Train/Epoch 74/150: 100%|██████████| 104/104 [00:14<00:00,  7.01img/s]\n",
      "Eval/Epoch 74/150: 100%|██████████| 27/27 [00:04<00:00,  5.69img/s]\n"
     ]
    },
    {
     "name": "stdout",
     "output_type": "stream",
     "text": [
      "\"\n",
      "        Epoch: 74, \n",
      "        Average Train Loss: 0.0712 |\n",
      "        Average Test Loss: 0.0442 |\n",
      "        Average Test mIoU: 89.55\n",
      "        Average Test Accuracy: 98.81846618652344\n"
     ]
    },
    {
     "name": "stderr",
     "output_type": "stream",
     "text": [
      "Train/Epoch 75/150: 100%|██████████| 104/104 [00:14<00:00,  7.14img/s]\n",
      "Eval/Epoch 75/150: 100%|██████████| 27/27 [00:04<00:00,  5.58img/s]\n"
     ]
    },
    {
     "name": "stdout",
     "output_type": "stream",
     "text": [
      "\"\n",
      "        Epoch: 75, \n",
      "        Average Train Loss: 0.0717 |\n",
      "        Average Test Loss: 0.0464 |\n",
      "        Average Test mIoU: 89.45\n",
      "        Average Test Accuracy: 97.70724487304688\n"
     ]
    },
    {
     "name": "stderr",
     "output_type": "stream",
     "text": [
      "Train/Epoch 76/150: 100%|██████████| 104/104 [00:14<00:00,  7.30img/s]\n",
      "Eval/Epoch 76/150: 100%|██████████| 27/27 [00:04<00:00,  5.82img/s]\n"
     ]
    },
    {
     "name": "stdout",
     "output_type": "stream",
     "text": [
      "\"\n",
      "        Epoch: 76, \n",
      "        Average Train Loss: 0.0749 |\n",
      "        Average Test Loss: 0.0536 |\n",
      "        Average Test mIoU: 87.47\n",
      "        Average Test Accuracy: 97.20624542236328\n"
     ]
    },
    {
     "name": "stderr",
     "output_type": "stream",
     "text": [
      "Train/Epoch 77/150: 100%|██████████| 104/104 [00:14<00:00,  7.43img/s]\n",
      "Eval/Epoch 77/150: 100%|██████████| 27/27 [00:04<00:00,  5.76img/s]\n"
     ]
    },
    {
     "name": "stdout",
     "output_type": "stream",
     "text": [
      "\"\n",
      "        Epoch: 77, \n",
      "        Average Train Loss: 0.0712 |\n",
      "        Average Test Loss: 0.0655 |\n",
      "        Average Test mIoU: 86.36\n",
      "        Average Test Accuracy: 97.84648132324219\n"
     ]
    },
    {
     "name": "stderr",
     "output_type": "stream",
     "text": [
      "Train/Epoch 78/150: 100%|██████████| 104/104 [00:14<00:00,  7.10img/s]\n",
      "Eval/Epoch 78/150: 100%|██████████| 27/27 [00:04<00:00,  5.70img/s]\n"
     ]
    },
    {
     "name": "stdout",
     "output_type": "stream",
     "text": [
      "\"\n",
      "        Epoch: 78, \n",
      "        Average Train Loss: 0.0674 |\n",
      "        Average Test Loss: 0.0608 |\n",
      "        Average Test mIoU: 87.44\n",
      "        Average Test Accuracy: 97.09880065917969\n"
     ]
    },
    {
     "name": "stderr",
     "output_type": "stream",
     "text": [
      "Train/Epoch 79/150: 100%|██████████| 104/104 [00:13<00:00,  7.53img/s]\n",
      "Eval/Epoch 79/150: 100%|██████████| 27/27 [00:04<00:00,  5.66img/s]\n"
     ]
    },
    {
     "name": "stdout",
     "output_type": "stream",
     "text": [
      "\"\n",
      "        Epoch: 79, \n",
      "        Average Train Loss: 0.0593 |\n",
      "        Average Test Loss: 0.0436 |\n",
      "        Average Test mIoU: 89.74\n",
      "        Average Test Accuracy: 98.17695617675781\n",
      "Checkpoint: Daft_Segmentation_best is saved successfully\n"
     ]
    },
    {
     "name": "stderr",
     "output_type": "stream",
     "text": [
      "Train/Epoch 80/150: 100%|██████████| 104/104 [00:13<00:00,  7.69img/s]\n",
      "Eval/Epoch 80/150: 100%|██████████| 27/27 [00:04<00:00,  5.49img/s]\n"
     ]
    },
    {
     "name": "stdout",
     "output_type": "stream",
     "text": [
      "\"\n",
      "        Epoch: 80, \n",
      "        Average Train Loss: 0.0727 |\n",
      "        Average Test Loss: 0.0482 |\n",
      "        Average Test mIoU: 89.80\n",
      "        Average Test Accuracy: 98.0798110961914\n",
      "Checkpoint: Daft_Segmentation_best is saved successfully\n"
     ]
    },
    {
     "name": "stderr",
     "output_type": "stream",
     "text": [
      "Train/Epoch 81/150: 100%|██████████| 104/104 [00:13<00:00,  7.95img/s]\n",
      "Eval/Epoch 81/150: 100%|██████████| 27/27 [00:04<00:00,  5.72img/s]\n"
     ]
    },
    {
     "name": "stdout",
     "output_type": "stream",
     "text": [
      "\"\n",
      "        Epoch: 81, \n",
      "        Average Train Loss: 0.0677 |\n",
      "        Average Test Loss: 0.0497 |\n",
      "        Average Test mIoU: 88.35\n",
      "        Average Test Accuracy: 97.32030487060547\n"
     ]
    },
    {
     "name": "stderr",
     "output_type": "stream",
     "text": [
      "Train/Epoch 82/150: 100%|██████████| 104/104 [00:12<00:00,  8.03img/s]\n",
      "Eval/Epoch 82/150: 100%|██████████| 27/27 [00:04<00:00,  5.53img/s]\n"
     ]
    },
    {
     "name": "stdout",
     "output_type": "stream",
     "text": [
      "\"\n",
      "        Epoch: 82, \n",
      "        Average Train Loss: 0.0649 |\n",
      "        Average Test Loss: 0.0540 |\n",
      "        Average Test mIoU: 87.11\n",
      "        Average Test Accuracy: 97.47098541259766\n"
     ]
    },
    {
     "name": "stderr",
     "output_type": "stream",
     "text": [
      "Train/Epoch 83/150: 100%|██████████| 104/104 [00:13<00:00,  7.93img/s]\n",
      "Eval/Epoch 83/150: 100%|██████████| 27/27 [00:04<00:00,  6.15img/s]\n"
     ]
    },
    {
     "name": "stdout",
     "output_type": "stream",
     "text": [
      "\"\n",
      "        Epoch: 83, \n",
      "        Average Train Loss: 0.0698 |\n",
      "        Average Test Loss: 0.0453 |\n",
      "        Average Test mIoU: 88.72\n",
      "        Average Test Accuracy: 98.6932144165039\n"
     ]
    },
    {
     "name": "stderr",
     "output_type": "stream",
     "text": [
      "Train/Epoch 84/150: 100%|██████████| 104/104 [00:07<00:00, 13.84img/s]\n",
      "Eval/Epoch 84/150: 100%|██████████| 27/27 [00:03<00:00,  7.63img/s]\n"
     ]
    },
    {
     "name": "stdout",
     "output_type": "stream",
     "text": [
      "\"\n",
      "        Epoch: 84, \n",
      "        Average Train Loss: 0.0630 |\n",
      "        Average Test Loss: 0.0513 |\n",
      "        Average Test mIoU: 88.50\n",
      "        Average Test Accuracy: 97.39354705810547\n"
     ]
    },
    {
     "name": "stderr",
     "output_type": "stream",
     "text": [
      "Train/Epoch 85/150: 100%|██████████| 104/104 [00:07<00:00, 14.07img/s]\n",
      "Eval/Epoch 85/150: 100%|██████████| 27/27 [00:03<00:00,  7.59img/s]\n"
     ]
    },
    {
     "name": "stdout",
     "output_type": "stream",
     "text": [
      "\"\n",
      "        Epoch: 85, \n",
      "        Average Train Loss: 0.0765 |\n",
      "        Average Test Loss: 0.0469 |\n",
      "        Average Test mIoU: 89.94\n",
      "        Average Test Accuracy: 98.7126693725586\n",
      "Checkpoint: Daft_Segmentation_best is saved successfully\n"
     ]
    },
    {
     "name": "stderr",
     "output_type": "stream",
     "text": [
      "Train/Epoch 86/150: 100%|██████████| 104/104 [00:07<00:00, 13.89img/s]\n",
      "Eval/Epoch 86/150: 100%|██████████| 27/27 [00:04<00:00,  5.88img/s]\n"
     ]
    },
    {
     "name": "stdout",
     "output_type": "stream",
     "text": [
      "\"\n",
      "        Epoch: 86, \n",
      "        Average Train Loss: 0.0732 |\n",
      "        Average Test Loss: 0.0440 |\n",
      "        Average Test mIoU: 89.39\n",
      "        Average Test Accuracy: 97.71182250976562\n"
     ]
    },
    {
     "name": "stderr",
     "output_type": "stream",
     "text": [
      "Train/Epoch 87/150: 100%|██████████| 104/104 [00:13<00:00,  7.97img/s]\n",
      "Eval/Epoch 87/150: 100%|██████████| 27/27 [00:04<00:00,  5.47img/s]\n"
     ]
    },
    {
     "name": "stdout",
     "output_type": "stream",
     "text": [
      "\"\n",
      "        Epoch: 87, \n",
      "        Average Train Loss: 0.0799 |\n",
      "        Average Test Loss: 0.0451 |\n",
      "        Average Test mIoU: 89.61\n",
      "        Average Test Accuracy: 97.72021484375\n"
     ]
    },
    {
     "name": "stderr",
     "output_type": "stream",
     "text": [
      "Train/Epoch 88/150: 100%|██████████| 104/104 [00:14<00:00,  7.24img/s]\n",
      "Eval/Epoch 88/150: 100%|██████████| 27/27 [00:04<00:00,  5.47img/s]\n"
     ]
    },
    {
     "name": "stdout",
     "output_type": "stream",
     "text": [
      "\"\n",
      "        Epoch: 88, \n",
      "        Average Train Loss: 0.0653 |\n",
      "        Average Test Loss: 0.0436 |\n",
      "        Average Test mIoU: 89.87\n",
      "        Average Test Accuracy: 98.40495300292969\n"
     ]
    },
    {
     "name": "stderr",
     "output_type": "stream",
     "text": [
      "Train/Epoch 89/150: 100%|██████████| 104/104 [00:13<00:00,  7.45img/s]\n",
      "Eval/Epoch 89/150: 100%|██████████| 27/27 [00:04<00:00,  5.59img/s]\n"
     ]
    },
    {
     "name": "stdout",
     "output_type": "stream",
     "text": [
      "\"\n",
      "        Epoch: 89, \n",
      "        Average Train Loss: 0.0669 |\n",
      "        Average Test Loss: 0.0480 |\n",
      "        Average Test mIoU: 87.85\n",
      "        Average Test Accuracy: 97.81316375732422\n"
     ]
    },
    {
     "name": "stderr",
     "output_type": "stream",
     "text": [
      "Train/Epoch 90/150: 100%|██████████| 104/104 [00:14<00:00,  7.38img/s]\n",
      "Eval/Epoch 90/150: 100%|██████████| 27/27 [00:04<00:00,  5.58img/s]\n"
     ]
    },
    {
     "name": "stdout",
     "output_type": "stream",
     "text": [
      "\"\n",
      "        Epoch: 90, \n",
      "        Average Train Loss: 0.0783 |\n",
      "        Average Test Loss: 0.1371 |\n",
      "        Average Test mIoU: 73.95\n",
      "        Average Test Accuracy: 82.81593322753906\n"
     ]
    },
    {
     "name": "stderr",
     "output_type": "stream",
     "text": [
      "Train/Epoch 91/150: 100%|██████████| 104/104 [00:14<00:00,  6.98img/s]\n",
      "Eval/Epoch 91/150: 100%|██████████| 27/27 [00:04<00:00,  5.66img/s]\n"
     ]
    },
    {
     "name": "stdout",
     "output_type": "stream",
     "text": [
      "\"\n",
      "        Epoch: 91, \n",
      "        Average Train Loss: 0.0696 |\n",
      "        Average Test Loss: 0.0601 |\n",
      "        Average Test mIoU: 85.84\n",
      "        Average Test Accuracy: 96.7071533203125\n"
     ]
    },
    {
     "name": "stderr",
     "output_type": "stream",
     "text": [
      "Train/Epoch 92/150: 100%|██████████| 104/104 [00:13<00:00,  7.95img/s]\n",
      "Eval/Epoch 92/150: 100%|██████████| 27/27 [00:04<00:00,  5.84img/s]\n"
     ]
    },
    {
     "name": "stdout",
     "output_type": "stream",
     "text": [
      "\"\n",
      "        Epoch: 92, \n",
      "        Average Train Loss: 0.0759 |\n",
      "        Average Test Loss: 0.0393 |\n",
      "        Average Test mIoU: 91.03\n",
      "        Average Test Accuracy: 98.93290710449219\n",
      "Checkpoint: Daft_Segmentation_best is saved successfully\n"
     ]
    },
    {
     "name": "stderr",
     "output_type": "stream",
     "text": [
      "Train/Epoch 93/150: 100%|██████████| 104/104 [00:13<00:00,  7.56img/s]\n",
      "Eval/Epoch 93/150: 100%|██████████| 27/27 [00:04<00:00,  5.71img/s]\n"
     ]
    },
    {
     "name": "stdout",
     "output_type": "stream",
     "text": [
      "\"\n",
      "        Epoch: 93, \n",
      "        Average Train Loss: 0.0612 |\n",
      "        Average Test Loss: 0.0531 |\n",
      "        Average Test mIoU: 88.12\n",
      "        Average Test Accuracy: 96.28995513916016\n"
     ]
    },
    {
     "name": "stderr",
     "output_type": "stream",
     "text": [
      "Train/Epoch 94/150: 100%|██████████| 104/104 [00:10<00:00, 10.15img/s]\n",
      "Eval/Epoch 94/150: 100%|██████████| 27/27 [00:03<00:00,  7.69img/s]\n"
     ]
    },
    {
     "name": "stdout",
     "output_type": "stream",
     "text": [
      "\"\n",
      "        Epoch: 94, \n",
      "        Average Train Loss: 0.0601 |\n",
      "        Average Test Loss: 0.0447 |\n",
      "        Average Test mIoU: 89.85\n",
      "        Average Test Accuracy: 97.99372863769531\n"
     ]
    },
    {
     "name": "stderr",
     "output_type": "stream",
     "text": [
      "Train/Epoch 95/150: 100%|██████████| 104/104 [00:11<00:00,  9.24img/s]\n",
      "Eval/Epoch 95/150: 100%|██████████| 27/27 [00:03<00:00,  7.67img/s]\n"
     ]
    },
    {
     "name": "stdout",
     "output_type": "stream",
     "text": [
      "\"\n",
      "        Epoch: 95, \n",
      "        Average Train Loss: 0.0701 |\n",
      "        Average Test Loss: 0.0399 |\n",
      "        Average Test mIoU: 90.68\n",
      "        Average Test Accuracy: 98.71991729736328\n"
     ]
    },
    {
     "name": "stderr",
     "output_type": "stream",
     "text": [
      "Train/Epoch 96/150: 100%|██████████| 104/104 [00:08<00:00, 12.70img/s]\n",
      "Eval/Epoch 96/150: 100%|██████████| 27/27 [00:03<00:00,  7.46img/s]\n"
     ]
    },
    {
     "name": "stdout",
     "output_type": "stream",
     "text": [
      "\"\n",
      "        Epoch: 96, \n",
      "        Average Train Loss: 0.0630 |\n",
      "        Average Test Loss: 0.0407 |\n",
      "        Average Test mIoU: 89.94\n",
      "        Average Test Accuracy: 98.45708465576172\n"
     ]
    },
    {
     "name": "stderr",
     "output_type": "stream",
     "text": [
      "Train/Epoch 97/150: 100%|██████████| 104/104 [00:07<00:00, 13.17img/s]\n",
      "Eval/Epoch 97/150: 100%|██████████| 27/27 [00:04<00:00,  5.74img/s]\n"
     ]
    },
    {
     "name": "stdout",
     "output_type": "stream",
     "text": [
      "\"\n",
      "        Epoch: 97, \n",
      "        Average Train Loss: 0.0553 |\n",
      "        Average Test Loss: 0.0415 |\n",
      "        Average Test mIoU: 90.51\n",
      "        Average Test Accuracy: 96.92726135253906\n"
     ]
    },
    {
     "name": "stderr",
     "output_type": "stream",
     "text": [
      "Train/Epoch 98/150: 100%|██████████| 104/104 [00:12<00:00,  8.15img/s]\n",
      "Eval/Epoch 98/150: 100%|██████████| 27/27 [00:04<00:00,  5.86img/s]\n"
     ]
    },
    {
     "name": "stdout",
     "output_type": "stream",
     "text": [
      "\"\n",
      "        Epoch: 98, \n",
      "        Average Train Loss: 0.0654 |\n",
      "        Average Test Loss: 0.0512 |\n",
      "        Average Test mIoU: 87.53\n",
      "        Average Test Accuracy: 96.25155639648438\n"
     ]
    },
    {
     "name": "stderr",
     "output_type": "stream",
     "text": [
      "Train/Epoch 99/150: 100%|██████████| 104/104 [00:13<00:00,  7.63img/s]\n",
      "Eval/Epoch 99/150: 100%|██████████| 27/27 [00:04<00:00,  5.63img/s]\n"
     ]
    },
    {
     "name": "stdout",
     "output_type": "stream",
     "text": [
      "\"\n",
      "        Epoch: 99, \n",
      "        Average Train Loss: 0.0628 |\n",
      "        Average Test Loss: 0.0445 |\n",
      "        Average Test mIoU: 89.77\n",
      "        Average Test Accuracy: 98.58729553222656\n"
     ]
    },
    {
     "name": "stderr",
     "output_type": "stream",
     "text": [
      "Train/Epoch 100/150: 100%|██████████| 104/104 [00:13<00:00,  7.53img/s]\n",
      "Eval/Epoch 100/150: 100%|██████████| 27/27 [00:04<00:00,  5.58img/s]\n"
     ]
    },
    {
     "name": "stdout",
     "output_type": "stream",
     "text": [
      "\"\n",
      "        Epoch: 100, \n",
      "        Average Train Loss: 0.0664 |\n",
      "        Average Test Loss: 0.0497 |\n",
      "        Average Test mIoU: 88.60\n",
      "        Average Test Accuracy: 96.6339111328125\n"
     ]
    },
    {
     "name": "stderr",
     "output_type": "stream",
     "text": [
      "Train/Epoch 101/150: 100%|██████████| 104/104 [00:13<00:00,  7.46img/s]\n",
      "Eval/Epoch 101/150: 100%|██████████| 27/27 [00:04<00:00,  5.87img/s]\n"
     ]
    },
    {
     "name": "stdout",
     "output_type": "stream",
     "text": [
      "\"\n",
      "        Epoch: 101, \n",
      "        Average Train Loss: 0.0657 |\n",
      "        Average Test Loss: 0.0367 |\n",
      "        Average Test mIoU: 91.35\n",
      "        Average Test Accuracy: 99.01301574707031\n",
      "Checkpoint: Daft_Segmentation_best is saved successfully\n"
     ]
    },
    {
     "name": "stderr",
     "output_type": "stream",
     "text": [
      "Train/Epoch 102/150: 100%|██████████| 104/104 [00:13<00:00,  7.62img/s]\n",
      "Eval/Epoch 102/150: 100%|██████████| 27/27 [00:04<00:00,  5.64img/s]\n"
     ]
    },
    {
     "name": "stdout",
     "output_type": "stream",
     "text": [
      "\"\n",
      "        Epoch: 102, \n",
      "        Average Train Loss: 0.0611 |\n",
      "        Average Test Loss: 0.0604 |\n",
      "        Average Test mIoU: 86.57\n",
      "        Average Test Accuracy: 94.88551330566406\n"
     ]
    },
    {
     "name": "stderr",
     "output_type": "stream",
     "text": [
      "Train/Epoch 103/150: 100%|██████████| 104/104 [00:12<00:00,  8.38img/s]\n",
      "Eval/Epoch 103/150: 100%|██████████| 27/27 [00:03<00:00,  7.49img/s]\n"
     ]
    },
    {
     "name": "stdout",
     "output_type": "stream",
     "text": [
      "\"\n",
      "        Epoch: 103, \n",
      "        Average Train Loss: 0.0537 |\n",
      "        Average Test Loss: 0.0374 |\n",
      "        Average Test mIoU: 91.06\n",
      "        Average Test Accuracy: 98.01406860351562\n"
     ]
    },
    {
     "name": "stderr",
     "output_type": "stream",
     "text": [
      "Train/Epoch 104/150: 100%|██████████| 104/104 [00:13<00:00,  7.75img/s]\n",
      "Eval/Epoch 104/150: 100%|██████████| 27/27 [00:04<00:00,  5.70img/s]\n"
     ]
    },
    {
     "name": "stdout",
     "output_type": "stream",
     "text": [
      "\"\n",
      "        Epoch: 104, \n",
      "        Average Train Loss: 0.0596 |\n",
      "        Average Test Loss: 0.0450 |\n",
      "        Average Test mIoU: 90.45\n",
      "        Average Test Accuracy: 97.7630615234375\n"
     ]
    },
    {
     "name": "stderr",
     "output_type": "stream",
     "text": [
      "Train/Epoch 105/150: 100%|██████████| 104/104 [00:07<00:00, 13.55img/s]\n",
      "Eval/Epoch 105/150: 100%|██████████| 27/27 [00:03<00:00,  7.65img/s]\n"
     ]
    },
    {
     "name": "stdout",
     "output_type": "stream",
     "text": [
      "\"\n",
      "        Epoch: 105, \n",
      "        Average Train Loss: 0.0593 |\n",
      "        Average Test Loss: 0.0482 |\n",
      "        Average Test mIoU: 88.73\n",
      "        Average Test Accuracy: 97.23193359375\n"
     ]
    },
    {
     "name": "stderr",
     "output_type": "stream",
     "text": [
      "Train/Epoch 106/150: 100%|██████████| 104/104 [00:08<00:00, 12.77img/s]\n",
      "Eval/Epoch 106/150: 100%|██████████| 27/27 [00:03<00:00,  7.16img/s]\n"
     ]
    },
    {
     "name": "stdout",
     "output_type": "stream",
     "text": [
      "\"\n",
      "        Epoch: 106, \n",
      "        Average Train Loss: 0.0668 |\n",
      "        Average Test Loss: 0.0590 |\n",
      "        Average Test mIoU: 85.91\n",
      "        Average Test Accuracy: 95.22908782958984\n"
     ]
    },
    {
     "name": "stderr",
     "output_type": "stream",
     "text": [
      "Train/Epoch 107/150: 100%|██████████| 104/104 [00:13<00:00,  7.52img/s]\n",
      "Eval/Epoch 107/150: 100%|██████████| 27/27 [00:04<00:00,  5.60img/s]\n"
     ]
    },
    {
     "name": "stdout",
     "output_type": "stream",
     "text": [
      "\"\n",
      "        Epoch: 107, \n",
      "        Average Train Loss: 0.0686 |\n",
      "        Average Test Loss: 0.0494 |\n",
      "        Average Test mIoU: 87.95\n",
      "        Average Test Accuracy: 97.52782440185547\n"
     ]
    },
    {
     "name": "stderr",
     "output_type": "stream",
     "text": [
      "Train/Epoch 108/150: 100%|██████████| 104/104 [00:13<00:00,  7.54img/s]\n",
      "Eval/Epoch 108/150: 100%|██████████| 27/27 [00:04<00:00,  5.78img/s]\n"
     ]
    },
    {
     "name": "stdout",
     "output_type": "stream",
     "text": [
      "\"\n",
      "        Epoch: 108, \n",
      "        Average Train Loss: 0.0599 |\n",
      "        Average Test Loss: 1.7268 |\n",
      "        Average Test mIoU: 52.32\n",
      "        Average Test Accuracy: 72.10578918457031\n"
     ]
    },
    {
     "name": "stderr",
     "output_type": "stream",
     "text": [
      "Train/Epoch 109/150: 100%|██████████| 104/104 [00:14<00:00,  7.37img/s]\n",
      "Eval/Epoch 109/150: 100%|██████████| 27/27 [00:04<00:00,  5.71img/s]\n"
     ]
    },
    {
     "name": "stdout",
     "output_type": "stream",
     "text": [
      "\"\n",
      "        Epoch: 109, \n",
      "        Average Train Loss: 0.0648 |\n",
      "        Average Test Loss: 0.4595 |\n",
      "        Average Test mIoU: 72.93\n",
      "        Average Test Accuracy: 95.10778045654297\n"
     ]
    },
    {
     "name": "stderr",
     "output_type": "stream",
     "text": [
      "Train/Epoch 110/150: 100%|██████████| 104/104 [00:13<00:00,  7.53img/s]\n",
      "Eval/Epoch 110/150: 100%|██████████| 27/27 [00:04<00:00,  5.93img/s]\n"
     ]
    },
    {
     "name": "stdout",
     "output_type": "stream",
     "text": [
      "\"\n",
      "        Epoch: 110, \n",
      "        Average Train Loss: 0.0633 |\n",
      "        Average Test Loss: 0.0528 |\n",
      "        Average Test mIoU: 87.91\n",
      "        Average Test Accuracy: 97.69618225097656\n"
     ]
    },
    {
     "name": "stderr",
     "output_type": "stream",
     "text": [
      "Train/Epoch 111/150: 100%|██████████| 104/104 [00:13<00:00,  7.84img/s]\n",
      "Eval/Epoch 111/150: 100%|██████████| 27/27 [00:04<00:00,  5.70img/s]\n"
     ]
    },
    {
     "name": "stdout",
     "output_type": "stream",
     "text": [
      "\"\n",
      "        Epoch: 111, \n",
      "        Average Train Loss: 0.0604 |\n",
      "        Average Test Loss: 0.0452 |\n",
      "        Average Test mIoU: 89.80\n",
      "        Average Test Accuracy: 98.5600814819336\n"
     ]
    },
    {
     "name": "stderr",
     "output_type": "stream",
     "text": [
      "Train/Epoch 112/150: 100%|██████████| 104/104 [00:08<00:00, 11.79img/s]\n",
      "Eval/Epoch 112/150: 100%|██████████| 27/27 [00:04<00:00,  5.74img/s]\n"
     ]
    },
    {
     "name": "stdout",
     "output_type": "stream",
     "text": [
      "\"\n",
      "        Epoch: 112, \n",
      "        Average Train Loss: 0.0602 |\n",
      "        Average Test Loss: 0.1162 |\n",
      "        Average Test mIoU: 77.92\n",
      "        Average Test Accuracy: 87.3662338256836\n"
     ]
    },
    {
     "name": "stderr",
     "output_type": "stream",
     "text": [
      "Train/Epoch 113/150: 100%|██████████| 104/104 [00:14<00:00,  7.27img/s]\n",
      "Eval/Epoch 113/150: 100%|██████████| 27/27 [00:04<00:00,  5.84img/s]\n"
     ]
    },
    {
     "name": "stdout",
     "output_type": "stream",
     "text": [
      "\"\n",
      "        Epoch: 113, \n",
      "        Average Train Loss: 0.0576 |\n",
      "        Average Test Loss: 0.0475 |\n",
      "        Average Test mIoU: 89.06\n",
      "        Average Test Accuracy: 97.90471649169922\n"
     ]
    },
    {
     "name": "stderr",
     "output_type": "stream",
     "text": [
      "Train/Epoch 114/150: 100%|██████████| 104/104 [00:14<00:00,  7.26img/s]\n",
      "Eval/Epoch 114/150: 100%|██████████| 27/27 [00:04<00:00,  5.74img/s]\n"
     ]
    },
    {
     "name": "stdout",
     "output_type": "stream",
     "text": [
      "\"\n",
      "        Epoch: 114, \n",
      "        Average Train Loss: 0.0642 |\n",
      "        Average Test Loss: 0.0432 |\n",
      "        Average Test mIoU: 89.03\n",
      "        Average Test Accuracy: 98.15496063232422\n"
     ]
    },
    {
     "name": "stderr",
     "output_type": "stream",
     "text": [
      "Train/Epoch 115/150: 100%|██████████| 104/104 [00:13<00:00,  7.57img/s]\n",
      "Eval/Epoch 115/150: 100%|██████████| 27/27 [00:04<00:00,  5.89img/s]\n"
     ]
    },
    {
     "name": "stdout",
     "output_type": "stream",
     "text": [
      "\"\n",
      "        Epoch: 115, \n",
      "        Average Train Loss: 0.0698 |\n",
      "        Average Test Loss: 0.0370 |\n",
      "        Average Test mIoU: 90.79\n",
      "        Average Test Accuracy: 99.38418579101562\n"
     ]
    },
    {
     "name": "stderr",
     "output_type": "stream",
     "text": [
      "Train/Epoch 116/150: 100%|██████████| 104/104 [00:15<00:00,  6.74img/s]\n",
      "Eval/Epoch 116/150: 100%|██████████| 27/27 [00:04<00:00,  5.55img/s]\n"
     ]
    },
    {
     "name": "stdout",
     "output_type": "stream",
     "text": [
      "\"\n",
      "        Epoch: 116, \n",
      "        Average Train Loss: 0.0675 |\n",
      "        Average Test Loss: 0.0429 |\n",
      "        Average Test mIoU: 88.47\n",
      "        Average Test Accuracy: 98.07701110839844\n"
     ]
    },
    {
     "name": "stderr",
     "output_type": "stream",
     "text": [
      "Train/Epoch 117/150: 100%|██████████| 104/104 [00:13<00:00,  7.66img/s]\n",
      "Eval/Epoch 117/150: 100%|██████████| 27/27 [00:04<00:00,  6.09img/s]\n"
     ]
    },
    {
     "name": "stdout",
     "output_type": "stream",
     "text": [
      "\"\n",
      "        Epoch: 117, \n",
      "        Average Train Loss: 0.0487 |\n",
      "        Average Test Loss: 0.0417 |\n",
      "        Average Test mIoU: 90.08\n",
      "        Average Test Accuracy: 98.21586608886719\n"
     ]
    },
    {
     "name": "stderr",
     "output_type": "stream",
     "text": [
      "Train/Epoch 118/150: 100%|██████████| 104/104 [00:13<00:00,  7.63img/s]\n",
      "Eval/Epoch 118/150: 100%|██████████| 27/27 [00:04<00:00,  5.80img/s]\n"
     ]
    },
    {
     "name": "stdout",
     "output_type": "stream",
     "text": [
      "\"\n",
      "        Epoch: 118, \n",
      "        Average Train Loss: 0.0561 |\n",
      "        Average Test Loss: 0.0351 |\n",
      "        Average Test mIoU: 90.38\n",
      "        Average Test Accuracy: 98.56580352783203\n"
     ]
    },
    {
     "name": "stderr",
     "output_type": "stream",
     "text": [
      "Train/Epoch 119/150: 100%|██████████| 104/104 [00:13<00:00,  7.43img/s]\n",
      "Eval/Epoch 119/150: 100%|██████████| 27/27 [00:04<00:00,  5.78img/s]\n"
     ]
    },
    {
     "name": "stdout",
     "output_type": "stream",
     "text": [
      "\"\n",
      "        Epoch: 119, \n",
      "        Average Train Loss: 0.0600 |\n",
      "        Average Test Loss: 0.0462 |\n",
      "        Average Test mIoU: 88.73\n",
      "        Average Test Accuracy: 97.80782318115234\n"
     ]
    },
    {
     "name": "stderr",
     "output_type": "stream",
     "text": [
      "Train/Epoch 120/150: 100%|██████████| 104/104 [00:13<00:00,  7.74img/s]\n",
      "Eval/Epoch 120/150: 100%|██████████| 27/27 [00:04<00:00,  5.90img/s]\n"
     ]
    },
    {
     "name": "stdout",
     "output_type": "stream",
     "text": [
      "\"\n",
      "        Epoch: 120, \n",
      "        Average Train Loss: 0.0590 |\n",
      "        Average Test Loss: 0.0474 |\n",
      "        Average Test mIoU: 88.91\n",
      "        Average Test Accuracy: 97.31979370117188\n"
     ]
    },
    {
     "name": "stderr",
     "output_type": "stream",
     "text": [
      "Train/Epoch 121/150: 100%|██████████| 104/104 [00:13<00:00,  7.63img/s]\n",
      "Eval/Epoch 121/150: 100%|██████████| 27/27 [00:04<00:00,  5.80img/s]\n"
     ]
    },
    {
     "name": "stdout",
     "output_type": "stream",
     "text": [
      "\"\n",
      "        Epoch: 121, \n",
      "        Average Train Loss: 0.0527 |\n",
      "        Average Test Loss: 0.0383 |\n",
      "        Average Test mIoU: 89.78\n",
      "        Average Test Accuracy: 98.45645141601562\n"
     ]
    },
    {
     "name": "stderr",
     "output_type": "stream",
     "text": [
      "Train/Epoch 122/150: 100%|██████████| 104/104 [00:13<00:00,  7.60img/s]\n",
      "Eval/Epoch 122/150: 100%|██████████| 27/27 [00:04<00:00,  5.85img/s]\n"
     ]
    },
    {
     "name": "stdout",
     "output_type": "stream",
     "text": [
      "\"\n",
      "        Epoch: 122, \n",
      "        Average Train Loss: 0.0516 |\n",
      "        Average Test Loss: 0.0343 |\n",
      "        Average Test mIoU: 91.03\n",
      "        Average Test Accuracy: 98.61602783203125\n"
     ]
    },
    {
     "name": "stderr",
     "output_type": "stream",
     "text": [
      "Train/Epoch 123/150: 100%|██████████| 104/104 [00:13<00:00,  7.73img/s]\n",
      "Eval/Epoch 123/150: 100%|██████████| 27/27 [00:04<00:00,  5.76img/s]\n"
     ]
    },
    {
     "name": "stdout",
     "output_type": "stream",
     "text": [
      "\"\n",
      "        Epoch: 123, \n",
      "        Average Train Loss: 0.0518 |\n",
      "        Average Test Loss: 0.0377 |\n",
      "        Average Test mIoU: 90.66\n",
      "        Average Test Accuracy: 98.81070709228516\n"
     ]
    },
    {
     "name": "stderr",
     "output_type": "stream",
     "text": [
      "Train/Epoch 124/150: 100%|██████████| 104/104 [00:13<00:00,  7.71img/s]\n",
      "Eval/Epoch 124/150: 100%|██████████| 27/27 [00:04<00:00,  5.90img/s]\n"
     ]
    },
    {
     "name": "stdout",
     "output_type": "stream",
     "text": [
      "\"\n",
      "        Epoch: 124, \n",
      "        Average Train Loss: 0.0411 |\n",
      "        Average Test Loss: 0.0414 |\n",
      "        Average Test mIoU: 89.84\n",
      "        Average Test Accuracy: 98.00008392333984\n"
     ]
    },
    {
     "name": "stderr",
     "output_type": "stream",
     "text": [
      "Train/Epoch 125/150: 100%|██████████| 104/104 [00:13<00:00,  7.63img/s]\n",
      "Eval/Epoch 125/150: 100%|██████████| 27/27 [00:04<00:00,  5.98img/s]\n"
     ]
    },
    {
     "name": "stdout",
     "output_type": "stream",
     "text": [
      "\"\n",
      "        Epoch: 125, \n",
      "        Average Train Loss: 0.0573 |\n",
      "        Average Test Loss: 0.0418 |\n",
      "        Average Test mIoU: 90.46\n",
      "        Average Test Accuracy: 97.94019317626953\n"
     ]
    },
    {
     "name": "stderr",
     "output_type": "stream",
     "text": [
      "Train/Epoch 126/150: 100%|██████████| 104/104 [00:13<00:00,  7.78img/s]\n",
      "Eval/Epoch 126/150: 100%|██████████| 27/27 [00:04<00:00,  5.84img/s]\n"
     ]
    },
    {
     "name": "stdout",
     "output_type": "stream",
     "text": [
      "\"\n",
      "        Epoch: 126, \n",
      "        Average Train Loss: 0.0575 |\n",
      "        Average Test Loss: 0.0691 |\n",
      "        Average Test mIoU: 84.55\n",
      "        Average Test Accuracy: 92.73147583007812\n"
     ]
    },
    {
     "name": "stderr",
     "output_type": "stream",
     "text": [
      "Train/Epoch 127/150: 100%|██████████| 104/104 [00:13<00:00,  7.68img/s]\n",
      "Eval/Epoch 127/150: 100%|██████████| 27/27 [00:04<00:00,  5.64img/s]\n"
     ]
    },
    {
     "name": "stdout",
     "output_type": "stream",
     "text": [
      "\"\n",
      "        Epoch: 127, \n",
      "        Average Train Loss: 0.0544 |\n",
      "        Average Test Loss: 0.0446 |\n",
      "        Average Test mIoU: 90.51\n",
      "        Average Test Accuracy: 98.67871856689453\n"
     ]
    },
    {
     "name": "stderr",
     "output_type": "stream",
     "text": [
      "Train/Epoch 128/150: 100%|██████████| 104/104 [00:13<00:00,  7.46img/s]\n",
      "Eval/Epoch 128/150: 100%|██████████| 27/27 [00:04<00:00,  5.75img/s]\n"
     ]
    },
    {
     "name": "stdout",
     "output_type": "stream",
     "text": [
      "\"\n",
      "        Epoch: 128, \n",
      "        Average Train Loss: 0.0524 |\n",
      "        Average Test Loss: 0.0374 |\n",
      "        Average Test mIoU: 90.84\n",
      "        Average Test Accuracy: 98.38664245605469\n"
     ]
    },
    {
     "name": "stderr",
     "output_type": "stream",
     "text": [
      "Train/Epoch 129/150: 100%|██████████| 104/104 [00:14<00:00,  7.14img/s]\n",
      "Eval/Epoch 129/150: 100%|██████████| 27/27 [00:04<00:00,  6.13img/s]\n"
     ]
    },
    {
     "name": "stdout",
     "output_type": "stream",
     "text": [
      "\"\n",
      "        Epoch: 129, \n",
      "        Average Train Loss: 0.0467 |\n",
      "        Average Test Loss: 0.0406 |\n",
      "        Average Test mIoU: 90.56\n",
      "        Average Test Accuracy: 97.66680908203125\n"
     ]
    },
    {
     "name": "stderr",
     "output_type": "stream",
     "text": [
      "Train/Epoch 130/150: 100%|██████████| 104/104 [00:08<00:00, 12.93img/s]\n",
      "Eval/Epoch 130/150: 100%|██████████| 27/27 [00:03<00:00,  7.44img/s]\n"
     ]
    },
    {
     "name": "stdout",
     "output_type": "stream",
     "text": [
      "\"\n",
      "        Epoch: 130, \n",
      "        Average Train Loss: 0.0548 |\n",
      "        Average Test Loss: 0.0573 |\n",
      "        Average Test mIoU: 85.77\n",
      "        Average Test Accuracy: 96.26083374023438\n"
     ]
    },
    {
     "name": "stderr",
     "output_type": "stream",
     "text": [
      "Train/Epoch 131/150: 100%|██████████| 104/104 [00:07<00:00, 13.32img/s]\n",
      "Eval/Epoch 131/150: 100%|██████████| 27/27 [00:03<00:00,  7.85img/s]\n"
     ]
    },
    {
     "name": "stdout",
     "output_type": "stream",
     "text": [
      "\"\n",
      "        Epoch: 131, \n",
      "        Average Train Loss: 0.0578 |\n",
      "        Average Test Loss: 0.0420 |\n",
      "        Average Test mIoU: 89.29\n",
      "        Average Test Accuracy: 97.72720336914062\n"
     ]
    },
    {
     "name": "stderr",
     "output_type": "stream",
     "text": [
      "Train/Epoch 132/150: 100%|██████████| 104/104 [00:07<00:00, 13.48img/s]\n",
      "Eval/Epoch 132/150: 100%|██████████| 27/27 [00:04<00:00,  5.90img/s]\n"
     ]
    },
    {
     "name": "stdout",
     "output_type": "stream",
     "text": [
      "\"\n",
      "        Epoch: 132, \n",
      "        Average Train Loss: 0.0524 |\n",
      "        Average Test Loss: 0.0428 |\n",
      "        Average Test mIoU: 89.24\n",
      "        Average Test Accuracy: 97.44962310791016\n"
     ]
    },
    {
     "name": "stderr",
     "output_type": "stream",
     "text": [
      "Train/Epoch 133/150: 100%|██████████| 104/104 [00:14<00:00,  7.33img/s]\n",
      "Eval/Epoch 133/150: 100%|██████████| 27/27 [00:04<00:00,  5.72img/s]\n"
     ]
    },
    {
     "name": "stdout",
     "output_type": "stream",
     "text": [
      "\"\n",
      "        Epoch: 133, \n",
      "        Average Train Loss: 0.0418 |\n",
      "        Average Test Loss: 0.0434 |\n",
      "        Average Test mIoU: 88.58\n",
      "        Average Test Accuracy: 97.665283203125\n"
     ]
    },
    {
     "name": "stderr",
     "output_type": "stream",
     "text": [
      "Train/Epoch 134/150: 100%|██████████| 104/104 [00:14<00:00,  7.34img/s]\n",
      "Eval/Epoch 134/150: 100%|██████████| 27/27 [00:04<00:00,  5.73img/s]\n"
     ]
    },
    {
     "name": "stdout",
     "output_type": "stream",
     "text": [
      "\"\n",
      "        Epoch: 134, \n",
      "        Average Train Loss: 0.0433 |\n",
      "        Average Test Loss: 0.0467 |\n",
      "        Average Test mIoU: 88.75\n",
      "        Average Test Accuracy: 98.65977478027344\n"
     ]
    },
    {
     "name": "stderr",
     "output_type": "stream",
     "text": [
      "Train/Epoch 135/150: 100%|██████████| 104/104 [00:13<00:00,  7.47img/s]\n",
      "Eval/Epoch 135/150: 100%|██████████| 27/27 [00:04<00:00,  5.61img/s]\n"
     ]
    },
    {
     "name": "stdout",
     "output_type": "stream",
     "text": [
      "\"\n",
      "        Epoch: 135, \n",
      "        Average Train Loss: 0.0459 |\n",
      "        Average Test Loss: 0.0531 |\n",
      "        Average Test mIoU: 86.78\n",
      "        Average Test Accuracy: 97.89340209960938\n"
     ]
    },
    {
     "name": "stderr",
     "output_type": "stream",
     "text": [
      "Train/Epoch 136/150: 100%|██████████| 104/104 [00:14<00:00,  7.21img/s]\n",
      "Eval/Epoch 136/150: 100%|██████████| 27/27 [00:04<00:00,  5.61img/s]\n"
     ]
    },
    {
     "name": "stdout",
     "output_type": "stream",
     "text": [
      "\"\n",
      "        Epoch: 136, \n",
      "        Average Train Loss: 0.0419 |\n",
      "        Average Test Loss: 0.0333 |\n",
      "        Average Test mIoU: 91.13\n",
      "        Average Test Accuracy: 98.78005981445312\n"
     ]
    },
    {
     "name": "stderr",
     "output_type": "stream",
     "text": [
      "Train/Epoch 137/150: 100%|██████████| 104/104 [00:14<00:00,  7.15img/s]\n",
      "Eval/Epoch 137/150: 100%|██████████| 27/27 [00:04<00:00,  5.64img/s]\n"
     ]
    },
    {
     "name": "stdout",
     "output_type": "stream",
     "text": [
      "\"\n",
      "        Epoch: 137, \n",
      "        Average Train Loss: 0.0394 |\n",
      "        Average Test Loss: 0.0419 |\n",
      "        Average Test mIoU: 89.52\n",
      "        Average Test Accuracy: 98.36654663085938\n"
     ]
    },
    {
     "name": "stderr",
     "output_type": "stream",
     "text": [
      "Train/Epoch 138/150: 100%|██████████| 104/104 [00:14<00:00,  7.43img/s]\n",
      "Eval/Epoch 138/150: 100%|██████████| 27/27 [00:04<00:00,  5.79img/s]\n"
     ]
    },
    {
     "name": "stdout",
     "output_type": "stream",
     "text": [
      "\"\n",
      "        Epoch: 138, \n",
      "        Average Train Loss: 0.0435 |\n",
      "        Average Test Loss: 0.0377 |\n",
      "        Average Test mIoU: 90.10\n",
      "        Average Test Accuracy: 98.97537231445312\n"
     ]
    },
    {
     "name": "stderr",
     "output_type": "stream",
     "text": [
      "Train/Epoch 139/150: 100%|██████████| 104/104 [00:11<00:00,  8.83img/s]\n",
      "Eval/Epoch 139/150: 100%|██████████| 27/27 [00:04<00:00,  5.60img/s]\n"
     ]
    },
    {
     "name": "stdout",
     "output_type": "stream",
     "text": [
      "\"\n",
      "        Epoch: 139, \n",
      "        Average Train Loss: 0.0470 |\n",
      "        Average Test Loss: 0.0442 |\n",
      "        Average Test mIoU: 88.86\n",
      "        Average Test Accuracy: 99.24964904785156\n"
     ]
    },
    {
     "name": "stderr",
     "output_type": "stream",
     "text": [
      "Train/Epoch 140/150: 100%|██████████| 104/104 [00:13<00:00,  7.77img/s]\n",
      "Eval/Epoch 140/150: 100%|██████████| 27/27 [00:04<00:00,  5.53img/s]\n"
     ]
    },
    {
     "name": "stdout",
     "output_type": "stream",
     "text": [
      "\"\n",
      "        Epoch: 140, \n",
      "        Average Train Loss: 0.0494 |\n",
      "        Average Test Loss: 0.0436 |\n",
      "        Average Test mIoU: 88.10\n",
      "        Average Test Accuracy: 98.35713958740234\n"
     ]
    },
    {
     "name": "stderr",
     "output_type": "stream",
     "text": [
      "Train/Epoch 141/150: 100%|██████████| 104/104 [00:13<00:00,  7.58img/s]\n",
      "Eval/Epoch 141/150: 100%|██████████| 27/27 [00:04<00:00,  5.50img/s]\n"
     ]
    },
    {
     "name": "stdout",
     "output_type": "stream",
     "text": [
      "\"\n",
      "        Epoch: 141, \n",
      "        Average Train Loss: 0.0499 |\n",
      "        Average Test Loss: 0.0399 |\n",
      "        Average Test mIoU: 89.56\n",
      "        Average Test Accuracy: 98.35485076904297\n"
     ]
    },
    {
     "name": "stderr",
     "output_type": "stream",
     "text": [
      "Train/Epoch 142/150: 100%|██████████| 104/104 [00:13<00:00,  7.69img/s]\n",
      "Eval/Epoch 142/150: 100%|██████████| 27/27 [00:04<00:00,  5.58img/s]\n"
     ]
    },
    {
     "name": "stdout",
     "output_type": "stream",
     "text": [
      "\"\n",
      "        Epoch: 142, \n",
      "        Average Train Loss: 0.0457 |\n",
      "        Average Test Loss: 0.0371 |\n",
      "        Average Test mIoU: 90.67\n",
      "        Average Test Accuracy: 99.02242279052734\n"
     ]
    },
    {
     "name": "stderr",
     "output_type": "stream",
     "text": [
      "Train/Epoch 143/150: 100%|██████████| 104/104 [00:13<00:00,  7.73img/s]\n",
      "Eval/Epoch 143/150: 100%|██████████| 27/27 [00:04<00:00,  5.69img/s]\n"
     ]
    },
    {
     "name": "stdout",
     "output_type": "stream",
     "text": [
      "\"\n",
      "        Epoch: 143, \n",
      "        Average Train Loss: 0.0459 |\n",
      "        Average Test Loss: 0.0346 |\n",
      "        Average Test mIoU: 91.34\n",
      "        Average Test Accuracy: 98.52867126464844\n"
     ]
    },
    {
     "name": "stderr",
     "output_type": "stream",
     "text": [
      "Train/Epoch 144/150: 100%|██████████| 104/104 [00:13<00:00,  7.86img/s]\n",
      "Eval/Epoch 144/150: 100%|██████████| 27/27 [00:04<00:00,  5.65img/s]\n"
     ]
    },
    {
     "name": "stdout",
     "output_type": "stream",
     "text": [
      "\"\n",
      "        Epoch: 144, \n",
      "        Average Train Loss: 0.0492 |\n",
      "        Average Test Loss: 0.0343 |\n",
      "        Average Test mIoU: 92.11\n",
      "        Average Test Accuracy: 98.98580169677734\n",
      "Checkpoint: Daft_Segmentation_best is saved successfully\n"
     ]
    },
    {
     "name": "stderr",
     "output_type": "stream",
     "text": [
      "Train/Epoch 145/150: 100%|██████████| 104/104 [00:14<00:00,  7.21img/s]\n",
      "Eval/Epoch 145/150: 100%|██████████| 27/27 [00:04<00:00,  5.72img/s]\n"
     ]
    },
    {
     "name": "stdout",
     "output_type": "stream",
     "text": [
      "\"\n",
      "        Epoch: 145, \n",
      "        Average Train Loss: 0.0516 |\n",
      "        Average Test Loss: 0.0854 |\n",
      "        Average Test mIoU: 81.86\n",
      "        Average Test Accuracy: 89.4170150756836\n"
     ]
    },
    {
     "name": "stderr",
     "output_type": "stream",
     "text": [
      "Train/Epoch 146/150: 100%|██████████| 104/104 [00:14<00:00,  7.30img/s]\n",
      "Eval/Epoch 146/150: 100%|██████████| 27/27 [00:04<00:00,  5.51img/s]\n"
     ]
    },
    {
     "name": "stdout",
     "output_type": "stream",
     "text": [
      "\"\n",
      "        Epoch: 146, \n",
      "        Average Train Loss: 0.0497 |\n",
      "        Average Test Loss: 0.0672 |\n",
      "        Average Test mIoU: 83.23\n",
      "        Average Test Accuracy: 96.8175277709961\n"
     ]
    },
    {
     "name": "stderr",
     "output_type": "stream",
     "text": [
      "Train/Epoch 147/150: 100%|██████████| 104/104 [00:14<00:00,  7.31img/s]\n",
      "Eval/Epoch 147/150: 100%|██████████| 27/27 [00:05<00:00,  5.31img/s]\n"
     ]
    },
    {
     "name": "stdout",
     "output_type": "stream",
     "text": [
      "\"\n",
      "        Epoch: 147, \n",
      "        Average Train Loss: 0.0584 |\n",
      "        Average Test Loss: 0.0399 |\n",
      "        Average Test mIoU: 89.50\n",
      "        Average Test Accuracy: 99.53422546386719\n"
     ]
    },
    {
     "name": "stderr",
     "output_type": "stream",
     "text": [
      "Train/Epoch 148/150: 100%|██████████| 104/104 [00:13<00:00,  7.90img/s]\n",
      "Eval/Epoch 148/150: 100%|██████████| 27/27 [00:04<00:00,  5.41img/s]\n"
     ]
    },
    {
     "name": "stdout",
     "output_type": "stream",
     "text": [
      "\"\n",
      "        Epoch: 148, \n",
      "        Average Train Loss: 0.0510 |\n",
      "        Average Test Loss: 0.0531 |\n",
      "        Average Test mIoU: 88.37\n",
      "        Average Test Accuracy: 98.47285461425781\n"
     ]
    },
    {
     "name": "stderr",
     "output_type": "stream",
     "text": [
      "Train/Epoch 149/150: 100%|██████████| 104/104 [00:14<00:00,  7.32img/s]\n",
      "Eval/Epoch 149/150: 100%|██████████| 27/27 [00:04<00:00,  5.48img/s]\n"
     ]
    },
    {
     "name": "stdout",
     "output_type": "stream",
     "text": [
      "\"\n",
      "        Epoch: 149, \n",
      "        Average Train Loss: 0.0490 |\n",
      "        Average Test Loss: 0.0428 |\n",
      "        Average Test mIoU: 90.26\n",
      "        Average Test Accuracy: 99.08002471923828\n"
     ]
    },
    {
     "name": "stderr",
     "output_type": "stream",
     "text": [
      "Train/Epoch 150/150: 100%|██████████| 104/104 [00:11<00:00,  8.81img/s]\n",
      "Eval/Epoch 150/150: 100%|██████████| 27/27 [00:03<00:00,  7.05img/s]\n"
     ]
    },
    {
     "name": "stdout",
     "output_type": "stream",
     "text": [
      "\"\n",
      "        Epoch: 150, \n",
      "        Average Train Loss: 0.0602 |\n",
      "        Average Test Loss: 0.0411 |\n",
      "        Average Test mIoU: 89.29\n",
      "        Average Test Accuracy: 99.0563735961914\n"
     ]
    }
   ],
   "source": [
    "train_start()"
   ]
  },
  {
   "cell_type": "markdown",
   "id": "9755bb0d-4513-4e1f-9172-05b96ff6e060",
   "metadata": {},
   "source": [
    "# Result"
   ]
  },
  {
   "cell_type": "markdown",
   "id": "62e94807-3c5b-454c-919b-feae833168a7",
   "metadata": {},
   "source": [
    "## Print Result Comparison"
   ]
  },
  {
   "cell_type": "code",
   "execution_count": 56,
   "id": "eedbb828-4c65-4ad2-a5cd-ef642e19e2ce",
   "metadata": {},
   "outputs": [
    {
     "name": "stdout",
     "output_type": "stream",
     "text": [
      "\n",
      "    Best of Model:\n",
      "        - Epoch Number: 144\n",
      "        - Evaluation Loss: 0.03430954250507057\n",
      "        - Evaluation mIoU: 92.10824203491211\n",
      "        - Evaluation Accuracy: 98.98580169677734\n",
      "\n",
      "    \n"
     ]
    }
   ],
   "source": [
    "print(\n",
    "    f\"\"\"\n",
    "    Best of Model:\n",
    "        - Epoch Number: {best_model['best_epoch']}\n",
    "        - Evaluation Loss: {best_model['best_eval_loss']}\n",
    "        - Evaluation mIoU: {best_model['best_eval_miou']}\n",
    "        - Evaluation Accuracy: {best_model['best_eval_acc']}\n",
    "\n",
    "    \"\"\"\n",
    ")"
   ]
  },
  {
   "cell_type": "markdown",
   "id": "a3c0969a-58c7-44f9-a117-43b91e030521",
   "metadata": {},
   "source": [
    "## Plot Comparisons"
   ]
  },
  {
   "cell_type": "code",
   "execution_count": 57,
   "id": "75b86c7c-d4ec-4f01-864e-353c9a3faca9",
   "metadata": {
    "tags": []
   },
   "outputs": [
    {
     "name": "stderr",
     "output_type": "stream",
     "text": [
      "Clipping input data to the valid range for imshow with RGB data ([0..1] for floats or [0..255] for integers). Got range [-2.117904..2.6399999].\n"
     ]
    },
    {
     "data": {
      "image/png": "[encoded data removed]",
      "text/plain": [
       "<Figure size 1200x1200 with 3 Axes>"
      ]
     },
     "metadata": {},
     "output_type": "display_data"
    }
   ],
   "source": [
    "plot_segmentation(\n",
    "    model=model, \n",
    "    dataset=test_dataset, \n",
    "    color_mapping=color_mapping, \n",
    "    save_fig=True, \n",
    "    #save_root_dir='../generated_examples/', \n",
    "    save_root_dir = hyperparameters['output_dir']['results'],\n",
    "    save_filename='daft_seg_fig', \n",
    "    save_format='png', \n",
    "    close_img=False\n",
    ")"
   ]
  },
  {
   "cell_type": "markdown",
   "id": "fe0c565b-6265-4ad3-81a0-1203c1051cee",
   "metadata": {},
   "source": [
    "## Save Predictions"
   ]
  },
  {
   "cell_type": "code",
   "execution_count": 58,
   "id": "51418ee7-a95e-4af0-81a8-f23407263dad",
   "metadata": {},
   "outputs": [],
   "source": [
    "# Model1 Saving\n",
    "save_pred_masks(\n",
    "    model=model,\n",
    "    transform=test_transforms,\n",
    "    save_folder=hyperparameters['output_dir']['model'],\n",
    "    input_folder='./images/test',\n",
    "    color_mapping=color_mapping,\n",
    "    hyperparameters=hyperparameters,\n",
    ")\n",
    "\n",
    "save_pred_masks(\n",
    "    model=model,\n",
    "    transform=test_transforms,\n",
    "    save_folder=hyperparameters['output_dir']['model'],\n",
    "    input_folder='./images/train',\n",
    "    color_mapping=color_mapping,\n",
    "    hyperparameters=hyperparameters,\n",
    ")"
   ]
  },
  {
   "cell_type": "markdown",
   "id": "bf9503e0-0842-4842-869c-916bb9109dbf",
   "metadata": {},
   "source": [
    "## History Graphs"
   ]
  },
  {
   "cell_type": "code",
   "execution_count": 62,
   "id": "194d138b-9bf6-47b8-b05e-4872c472b0e7",
   "metadata": {},
   "outputs": [
    {
     "data": {
      "image/png": "[encoded data removed]",
      "text/plain": [
       "<Figure size 1500x600 with 1 Axes>"
      ]
     },
     "metadata": {},
     "output_type": "display_data"
    }
   ],
   "source": [
    "plt.figure(figsize = (15,6))\n",
    "plt.title(\"Loss\")\n",
    "plt.plot(epoch_range, history['train_loss'], label=\"Train Loss\")\n",
    "plt.plot(epoch_range, history['eval_loss'], label=\"Eval Loss\")\n",
    "plt.xlabel(\"Epochs\")\n",
    "plt.ylabel(\"Loss\")\n",
    "plt.legend()\n",
    "\n",
    "loss_dir = os.path.join(hyperparameters['output_dir']['results'], 'loss_graph.png')\n",
    "plt.savefig(loss_dir, format='png', bbox_inches='tight')\n",
    "plt.show()\n"
   ]
  },
  {
   "cell_type": "code",
   "execution_count": 60,
   "id": "8af2cdf3-05aa-482a-a024-a7366a4ee87e",
   "metadata": {},
   "outputs": [
    {
     "data": {
      "image/png": "[encoded data removed]",
      "text/plain": [
       "<Figure size 1500x600 with 1 Axes>"
      ]
     },
     "metadata": {},
     "output_type": "display_data"
    }
   ],
   "source": [
    "plt.figure(figsize = (15,6))\n",
    "plt.title(f\"Eval mIoU\")\n",
    "plt.plot(epoch_range, history['eval_miou'], label=\"Model mIoU\")\n",
    "plt.xlabel(\"Epochs\")\n",
    "plt.ylabel(\"mIoU\")\n",
    "plt.legend();\n",
    "miou_dir = os.path.join(hyperparameters['output_dir']['results'], 'miou_graph.png')\n",
    "plt.savefig(miou_dir, format='png', bbox_inches='tight')"
   ]
  },
  {
   "cell_type": "code",
   "execution_count": 61,
   "id": "13a355c2-440f-4daa-a9a3-bc41c0b19a99",
   "metadata": {},
   "outputs": [
    {
     "data": {
      "image/png": "[encoded data removed]",
      "text/plain": [
       "<Figure size 1500x600 with 1 Axes>"
      ]
     },
     "metadata": {},
     "output_type": "display_data"
    }
   ],
   "source": [
    "acc_tensor = torch.tensor(history['eval_acc'])\n",
    "acc_tensor = acc_tensor.to('cpu')\n",
    "acc_list = acc_tensor.tolist()\n",
    "\n",
    "plt.figure(figsize = (15,6))\n",
    "plt.title(f\"Eval Accuracy\")\n",
    "plt.plot(epoch_range, acc_list, label=\"Model-Eval Acc\")\n",
    "plt.xlabel(\"Epochs\")\n",
    "plt.ylabel(\"Accuracy\")\n",
    "plt.legend();\n",
    "acc_dir = os.path.join(hyperparameters['output_dir']['results'], 'accuracy_graph.png')\n",
    "plt.savefig(acc_dir, format='png', bbox_inches='tight')"
   ]
  }
 ],
 "metadata": {
  "kernelspec": {
   "display_name": "Python 3",
   "language": "python",
   "name": "python3"
  },
  "language_info": {
   "codemirror_mode": {
    "name": "ipython",
    "version": 3
   },
   "file_extension": ".py",
   "mimetype": "text/x-python",
   "name": "python",
   "nbconvert_exporter": "python",
   "pygments_lexer": "ipython3",
   "version": "3.12.8"
  },
  "toc-autonumbering": true,
  "toc-showcode": false,
  "toc-showmarkdowntxt": false
 },
 "nbformat": 4,
 "nbformat_minor": 5
}
