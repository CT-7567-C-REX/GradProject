{
 "cells": [
  {
   "cell_type": "markdown",
   "id": "d6829cf1-863a-4663-80a0-ada546e0f565",
   "metadata": {},
   "source": [
    "# Initialization"
   ]
  },
  {
   "cell_type": "markdown",
   "id": "721c578d-f496-420f-aeef-3fa0cd5fd814",
   "metadata": {},
   "source": [
    "## Import"
   ]
  },
  {
   "cell_type": "code",
   "execution_count": 47,
   "id": "52e2f05b-be98-4229-9a4b-19da4cbfc215",
   "metadata": {},
   "outputs": [
    {
     "name": "stdout",
     "output_type": "stream",
     "text": [
      "The autoreload extension is already loaded. To reload it, use:\n",
      "  %reload_ext autoreload\n"
     ]
    }
   ],
   "source": [
    "import torch\n",
    "import torch.nn as nn\n",
    "import torch.nn.functional as F\n",
    "from torchvision import transforms\n",
    "from torch.utils.data import random_split\n",
    "    \n",
    "import torchvision.transforms.functional as tF\n",
    "\n",
    "from utils.save_load_utils import save_model, load_model\n",
    "from utils.visualization_utils import save_pred_masks, visualize_segmentation, plot_segmentation\n",
    "from utils.evaluation_utils import calculate_miou, check_acc\n",
    "                                                                     \n",
    "import albumentations as A\n",
    "\n",
    "%matplotlib inline\n",
    "import os\n",
    "import time\n",
    "import random\n",
    "import numpy as np\n",
    "from tqdm import tqdm\n",
    "from PIL import Image, ImageOps\n",
    "import matplotlib.pyplot as plt\n",
    "\n",
    "plt.rcParams['figure.figsize'] = (6, 4)\n",
    "plt.rcParams['axes.grid'] = False\n",
    "\n",
    "%load_ext autoreload\n",
    "%autoreload 2\n"
   ]
  },
  {
   "cell_type": "code",
   "execution_count": 48,
   "id": "3e32816c-d5a5-41d7-8e81-c18bc9cfb485",
   "metadata": {},
   "outputs": [
    {
     "name": "stdout",
     "output_type": "stream",
     "text": [
      "USING DEVICE: cuda\n"
     ]
    }
   ],
   "source": [
    "device = 'cuda' if torch.cuda.is_available() else 'cpu'\n",
    "print(f'USING DEVICE: {device}')"
   ]
  },
  {
   "cell_type": "markdown",
   "id": "b68fc81c-e54d-49a2-8fe4-c8eb2a35f98d",
   "metadata": {
    "tags": [],
    "toc-hr-collapsed": true
   },
   "source": [
    "## Hyperparameters"
   ]
  },
  {
   "cell_type": "code",
   "execution_count": 49,
   "id": "257ef7f1-2af4-4849-b08f-fe20c17198b7",
   "metadata": {
    "tags": []
   },
   "outputs": [],
   "source": [
    "hyperparameters = {\n",
    "    'test_dir' : './images/newTest',\n",
    "    'train_dir' : './images/newTrain',\n",
    "    'seed' : 9999,\n",
    "    'dataloader' :{\n",
    "        'batch_size' : 8,\n",
    "        'num_workers' : 4,\n",
    "        'pin_memory' : False, \n",
    "    },\n",
    "    'optimizer' :{\n",
    "        'lr' : 1e-4,\n",
    "        'betas' : (0.9, 0.999),\n",
    "        'weight_decay' : 1e-4,\n",
    "    },\n",
    "    'epochs' : 150,\n",
    "    'training_size' : 0,\n",
    "    'test_size': 0,\n",
    "    'gradient_clipping' : 1.0,\n",
    "    'vgg19': {\n",
    "        'in_channels': 3,\n",
    "        'out_channels': 1,\n",
    "        'features': 64,\n",
    "    }, \n",
    "    'pre_trained_path': 'checkpoints/pretrained/newBest.pth.tar',\n",
    "    'checkpoints_dir': './checkpoints/daft/',\n",
    "    'output_dir':{\n",
    "        'results':'./generated_examples/',\n",
    "        'model':'./generated_examples/daft/',\n",
    "    },\n",
    "}"
   ]
  },
  {
   "cell_type": "markdown",
   "id": "3f40d01a-077b-4636-a943-b4af5c4a9707",
   "metadata": {},
   "source": [
    "## Seed Everything"
   ]
  },
  {
   "cell_type": "code",
   "execution_count": 50,
   "id": "a96b2438-498a-4cc8-884b-8b771fdfe5c7",
   "metadata": {
    "tags": []
   },
   "outputs": [],
   "source": [
    "def seed_everything(seed):\n",
    "    random.seed(seed)\n",
    "    os.environ['PYTHONHASHSEED'] = str(seed)\n",
    "    np.random.seed(seed)\n",
    "    torch.manual_seed(seed)\n",
    "    torch.cuda.manual_seed(seed)\n",
    "    torch.backends.cudnn.deterministic = True\n",
    "    torch.backends.cudnn.benchmark = False\n",
    "\n",
    "seed_everything(hyperparameters['seed'])"
   ]
  },
  {
   "cell_type": "markdown",
   "id": "6cdc7d29-c352-4976-8c43-38b98447cc24",
   "metadata": {},
   "source": [
    "# Data Preprocessing"
   ]
  },
  {
   "cell_type": "markdown",
   "id": "ab1c9e6d-8643-4c67-ba5e-bd7e154b930d",
   "metadata": {
    "tags": []
   },
   "source": [
    "## Data Augmentation"
   ]
  },
  {
   "cell_type": "code",
   "execution_count": 51,
   "id": "51ecc03a-e76e-402b-a2ad-264413cdac2f",
   "metadata": {
    "tags": []
   },
   "outputs": [],
   "source": [
    "train_transforms = A.Compose([\n",
    "    A.HorizontalFlip(p=0.5),\n",
    "    A.VerticalFlip(p=0.5),\n",
    "    A.Rotate(p=0.5),\n",
    "    A.Normalize(mean=[0.485, 0.456, 0.406], std=[0.229, 0.224, 0.225]),\n",
    "    A.Resize(512, 512),\n",
    "])\n",
    "\n",
    "test_transforms = A.Compose([\n",
    "    A.Normalize(mean=[0.485, 0.456, 0.406], std=[0.229, 0.224, 0.225]),\n",
    "    A.Resize(512, 512),\n",
    "])"
   ]
  },
  {
   "cell_type": "markdown",
   "id": "82f54681-bf8e-4383-a844-14dc115fc8fd",
   "metadata": {
    "tags": []
   },
   "source": [
    "## Dataset"
   ]
  },
  {
   "cell_type": "code",
   "execution_count": 52,
   "id": "3615270c-9966-409e-ac2c-2617725d202d",
   "metadata": {
    "tags": []
   },
   "outputs": [
    {
     "data": {
      "text/plain": [
       "(84, 21)"
      ]
     },
     "execution_count": 52,
     "metadata": {},
     "output_type": "execute_result"
    }
   ],
   "source": [
    "from dataset.dataset import seg_datasets\n",
    "\n",
    "train_dataset = seg_datasets(hyperparameters['train_dir'], train_transforms)\n",
    "test_dataset = seg_datasets(hyperparameters['test_dir'], test_transforms)\n",
    "\n",
    "len(train_dataset), len(test_dataset)"
   ]
  },
  {
   "cell_type": "raw",
   "id": "c1e342dd-9564-496d-ac41-7fbfda3bc76e",
   "metadata": {},
   "source": [
    "print(test_dataset.img_files)"
   ]
  },
  {
   "cell_type": "code",
   "execution_count": 53,
   "id": "d5c239e4-e1e1-4e3b-981b-0c9abc1a574f",
   "metadata": {},
   "outputs": [],
   "source": [
    "hyperparameters['training_size'] = len(train_dataset)\n",
    "hyperparameters['test_size'] = len(test_dataset)"
   ]
  },
  {
   "cell_type": "code",
   "execution_count": 54,
   "id": "fcf1e448-7d23-4fa4-b716-5e9c0f1decfd",
   "metadata": {
    "tags": []
   },
   "outputs": [
    {
     "data": {
      "text/plain": [
       "tensor([0., 1., 2., 3., 4.])"
      ]
     },
     "execution_count": 54,
     "metadata": {},
     "output_type": "execute_result"
    }
   ],
   "source": [
    "sample = train_dataset[30]\n",
    "torch.unique(sample[1])"
   ]
  },
  {
   "cell_type": "code",
   "execution_count": 55,
   "id": "5b88b398-95e6-4a73-b69c-f4f4fff7c6d8",
   "metadata": {},
   "outputs": [
    {
     "data": {
      "text/plain": [
       "(torch.Size([3, 512, 512]), torch.Size([1, 512, 512]))"
      ]
     },
     "execution_count": 55,
     "metadata": {},
     "output_type": "execute_result"
    }
   ],
   "source": [
    "img, mask = train_dataset[20]\n",
    "img.shape, mask.shape"
   ]
  },
  {
   "cell_type": "code",
   "execution_count": 56,
   "id": "bf6408d7-4b26-485d-b956-cea0f3b3452c",
   "metadata": {
    "tags": []
   },
   "outputs": [
    {
     "name": "stderr",
     "output_type": "stream",
     "text": [
      "Clipping input data to the valid range for imshow with RGB data ([0..1] for floats or [0..255] for integers). Got range [-2.117904..2.6399999].\n"
     ]
    },
    {
     "data": {
      "text/plain": [
       "<matplotlib.image.AxesImage at 0x1cf14c88c50>"
      ]
     },
     "execution_count": 56,
     "metadata": {},
     "output_type": "execute_result"
    },
    {
     "data": {
      "image/png": "[encoded data removed]",
      "text/plain": [
       "<Figure size 800x800 with 2 Axes>"
      ]
     },
     "metadata": {},
     "output_type": "display_data"
    }
   ],
   "source": [
    "fig, (ax1, ax2) = plt.subplots(1, 2, figsize=(8, 8))\n",
    "fig.tight_layout()\n",
    "ax1.axis('off')\n",
    "ax1.set_title('Plan Image/Input')\n",
    "ax1.imshow(img.permute(1, 2, 0).numpy())\n",
    "    \n",
    "ax2.axis('off')\n",
    "ax2.set_title('Actual Masks')\n",
    "ax2.imshow(mask.numpy().transpose(1,2,0))"
   ]
  },
  {
   "cell_type": "markdown",
   "id": "da60d3d1-3eda-4862-98e0-78ab6025fa87",
   "metadata": {},
   "source": [
    "## Color Mapping"
   ]
  },
  {
   "cell_type": "code",
   "execution_count": 57,
   "id": "58260b59-e833-4886-924f-a4af6ea01cb5",
   "metadata": {
    "tags": []
   },
   "outputs": [],
   "source": [
    "color_mapping = {\n",
    "    0: (0, 0, 0),         # Walls\n",
    "    1: (255, 80, 80),     # Iwan\n",
    "    2: (80, 80, 255),     # Room\n",
    "    3: (255, 255, 255),   # Background\n",
    "    4: (255, 255, 0),     # Stairs\n",
    "}"
   ]
  },
  {
   "cell_type": "code",
   "execution_count": 58,
   "id": "2f11ff65-fb49-4566-bef6-767c562d0512",
   "metadata": {
    "tags": []
   },
   "outputs": [
    {
     "name": "stderr",
     "output_type": "stream",
     "text": [
      "Clipping input data to the valid range for imshow with RGB data ([0..1] for floats or [0..255] for integers). Got range [-2.117904..2.6399999].\n"
     ]
    },
    {
     "data": {
      "text/plain": [
       "(np.float64(-0.5), np.float64(511.5), np.float64(511.5), np.float64(-0.5))"
      ]
     },
     "execution_count": 58,
     "metadata": {},
     "output_type": "execute_result"
    },
    {
     "data": {
      "image/png": "[encoded data removed]",
      "text/plain": [
       "<Figure size 800x800 with 2 Axes>"
      ]
     },
     "metadata": {},
     "output_type": "display_data"
    }
   ],
   "source": [
    "visualization = visualize_segmentation(mask, color_mapping, from_tensor=True)\n",
    "\n",
    "fig, (ax1, ax2) = plt.subplots(1, 2, figsize=(8, 8))\n",
    "\n",
    "ax1.imshow(img.permute(1, 2, 0).numpy())\n",
    "ax1.set_title('Plan Image/Input')\n",
    "ax1.axis('off')\n",
    "\n",
    "ax2.imshow(visualization)\n",
    "ax2.set_title('Actual Masks')\n",
    "ax2.axis('off')"
   ]
  },
  {
   "cell_type": "markdown",
   "id": "45ccb3b0-b65d-481f-b803-4db558a67ae6",
   "metadata": {},
   "source": [
    "## Dataloader"
   ]
  },
  {
   "cell_type": "code",
   "execution_count": 59,
   "id": "bdd89b08-6209-467e-b3a2-7b509bd46d92",
   "metadata": {
    "tags": []
   },
   "outputs": [
    {
     "data": {
      "text/plain": [
       "(11, 3)"
      ]
     },
     "execution_count": 59,
     "metadata": {},
     "output_type": "execute_result"
    }
   ],
   "source": [
    "from utils.dataloader_utils import get_loader\n",
    "\n",
    "train_dataloader, test_dataloader = get_loader(\n",
    "    train_dir = hyperparameters['train_dir'],\n",
    "    test_dir = hyperparameters['test_dir'],\n",
    "    batch_size = hyperparameters['dataloader']['batch_size'],\n",
    "    train_transform = train_transforms,\n",
    "    test_transform = test_transforms,\n",
    "    num_workers = hyperparameters['dataloader']['num_workers'],\n",
    "    pin_memory = hyperparameters['dataloader']['pin_memory']\n",
    ")\n",
    "\n",
    "len(train_dataloader), len(test_dataloader)"
   ]
  },
  {
   "cell_type": "code",
   "execution_count": 60,
   "id": "870c24cb-2758-4321-b743-63551fa32ee8",
   "metadata": {
    "tags": []
   },
   "outputs": [
    {
     "name": "stdout",
     "output_type": "stream",
     "text": [
      "torch.Size([8, 3, 512, 512]) torch.Size([8, 1, 512, 512])\n",
      "8\n"
     ]
    }
   ],
   "source": [
    "img_a_batch, img_b_batch = next(iter(train_dataloader))\n",
    "print(img_a_batch.shape, img_b_batch.shape)\n",
    "print(img_a_batch.size(0))"
   ]
  },
  {
   "cell_type": "markdown",
   "id": "9c4ce4c7-9ebb-4b12-8762-6c9ec701d885",
   "metadata": {},
   "source": [
    "# Model"
   ]
  },
  {
   "cell_type": "markdown",
   "id": "9ee49c40-5ce7-448d-b85d-9025e19725db",
   "metadata": {},
   "source": [
    "## Model Loading"
   ]
  },
  {
   "cell_type": "code",
   "execution_count": 61,
   "id": "acee5cce-3d3a-44b2-9c0c-bab8761e9e09",
   "metadata": {
    "tags": []
   },
   "outputs": [],
   "source": [
    "from models.vgg19 import VGGUNET19\n",
    "\n",
    "model = VGGUNET19(\n",
    "    features = hyperparameters['vgg19']['features'], \n",
    "    in_channels=hyperparameters['vgg19']['in_channels'], \n",
    "    out_channels=hyperparameters['vgg19']['out_channels']\n",
    ")"
   ]
  },
  {
   "cell_type": "code",
   "execution_count": 62,
   "id": "de3501c6-3239-4836-a029-b869cc74a9f0",
   "metadata": {},
   "outputs": [
    {
     "name": "stderr",
     "output_type": "stream",
     "text": [
      "C:\\Users\\sungur daştan\\AppData\\Local\\Temp\\ipykernel_12100\\1320677305.py:1: FutureWarning: You are using `torch.load` with `weights_only=False` (the current default value), which uses the default pickle module implicitly. It is possible to construct malicious pickle data which will execute arbitrary code during unpickling (See https://github.com/pytorch/pytorch/blob/main/SECURITY.md#untrusted-models for more details). In a future release, the default value for `weights_only` will be flipped to `True`. This limits the functions that could be executed during unpickling. Arbitrary objects will no longer be allowed to be loaded via this mode unless they are explicitly allowlisted by the user via `torch.serialization.add_safe_globals`. We recommend you start setting `weights_only=True` for any use case where you don't have full control of the loaded file. Please open an issue on GitHub for any issues related to this experimental feature.\n",
      "  checkpoint = torch.load(hyperparameters['pre_trained_path'])\n"
     ]
    },
    {
     "data": {
      "text/plain": [
       "VGGUNET19(\n",
       "  (inc): DoubleConv(\n",
       "    (DoubleConv): Sequential(\n",
       "      (0): Conv2d(3, 64, kernel_size=(3, 3), stride=(1, 1), padding=(1, 1), bias=False)\n",
       "      (1): BatchNorm2d(64, eps=1e-05, momentum=0.1, affine=True, track_running_stats=True)\n",
       "      (2): ReLU(inplace=True)\n",
       "      (3): Conv2d(64, 64, kernel_size=(3, 3), stride=(1, 1), padding=(1, 1), bias=False)\n",
       "      (4): BatchNorm2d(64, eps=1e-05, momentum=0.1, affine=True, track_running_stats=True)\n",
       "      (5): ReLU(inplace=True)\n",
       "    )\n",
       "  )\n",
       "  (down1): Sequential(\n",
       "    (0): MaxPool2d(kernel_size=2, stride=2, padding=0, dilation=1, ceil_mode=False)\n",
       "    (1): DoubleConv(\n",
       "      (DoubleConv): Sequential(\n",
       "        (0): Conv2d(64, 128, kernel_size=(3, 3), stride=(1, 1), padding=(1, 1), bias=False)\n",
       "        (1): BatchNorm2d(128, eps=1e-05, momentum=0.1, affine=True, track_running_stats=True)\n",
       "        (2): ReLU(inplace=True)\n",
       "        (3): Conv2d(128, 128, kernel_size=(3, 3), stride=(1, 1), padding=(1, 1), bias=False)\n",
       "        (4): BatchNorm2d(128, eps=1e-05, momentum=0.1, affine=True, track_running_stats=True)\n",
       "        (5): ReLU(inplace=True)\n",
       "      )\n",
       "    )\n",
       "  )\n",
       "  (down2): Sequential(\n",
       "    (0): MaxPool2d(kernel_size=2, stride=2, padding=0, dilation=1, ceil_mode=False)\n",
       "    (1): DoubleConv(\n",
       "      (DoubleConv): Sequential(\n",
       "        (0): Conv2d(128, 128, kernel_size=(3, 3), stride=(1, 1), padding=(1, 1), bias=False)\n",
       "        (1): BatchNorm2d(128, eps=1e-05, momentum=0.1, affine=True, track_running_stats=True)\n",
       "        (2): ReLU(inplace=True)\n",
       "        (3): Conv2d(128, 128, kernel_size=(3, 3), stride=(1, 1), padding=(1, 1), bias=False)\n",
       "        (4): BatchNorm2d(128, eps=1e-05, momentum=0.1, affine=True, track_running_stats=True)\n",
       "        (5): ReLU(inplace=True)\n",
       "      )\n",
       "    )\n",
       "    (2): DoubleConv(\n",
       "      (DoubleConv): Sequential(\n",
       "        (0): Conv2d(128, 256, kernel_size=(3, 3), stride=(1, 1), padding=(1, 1), bias=False)\n",
       "        (1): BatchNorm2d(256, eps=1e-05, momentum=0.1, affine=True, track_running_stats=True)\n",
       "        (2): ReLU(inplace=True)\n",
       "        (3): Conv2d(256, 256, kernel_size=(3, 3), stride=(1, 1), padding=(1, 1), bias=False)\n",
       "        (4): BatchNorm2d(256, eps=1e-05, momentum=0.1, affine=True, track_running_stats=True)\n",
       "        (5): ReLU(inplace=True)\n",
       "      )\n",
       "    )\n",
       "  )\n",
       "  (down3): Sequential(\n",
       "    (0): MaxPool2d(kernel_size=2, stride=2, padding=0, dilation=1, ceil_mode=False)\n",
       "    (1): DoubleConv(\n",
       "      (DoubleConv): Sequential(\n",
       "        (0): Conv2d(256, 256, kernel_size=(3, 3), stride=(1, 1), padding=(1, 1), bias=False)\n",
       "        (1): BatchNorm2d(256, eps=1e-05, momentum=0.1, affine=True, track_running_stats=True)\n",
       "        (2): ReLU(inplace=True)\n",
       "        (3): Conv2d(256, 256, kernel_size=(3, 3), stride=(1, 1), padding=(1, 1), bias=False)\n",
       "        (4): BatchNorm2d(256, eps=1e-05, momentum=0.1, affine=True, track_running_stats=True)\n",
       "        (5): ReLU(inplace=True)\n",
       "      )\n",
       "    )\n",
       "    (2): DoubleConv(\n",
       "      (DoubleConv): Sequential(\n",
       "        (0): Conv2d(256, 512, kernel_size=(3, 3), stride=(1, 1), padding=(1, 1), bias=False)\n",
       "        (1): BatchNorm2d(512, eps=1e-05, momentum=0.1, affine=True, track_running_stats=True)\n",
       "        (2): ReLU(inplace=True)\n",
       "        (3): Conv2d(512, 512, kernel_size=(3, 3), stride=(1, 1), padding=(1, 1), bias=False)\n",
       "        (4): BatchNorm2d(512, eps=1e-05, momentum=0.1, affine=True, track_running_stats=True)\n",
       "        (5): ReLU(inplace=True)\n",
       "      )\n",
       "    )\n",
       "  )\n",
       "  (down4): Sequential(\n",
       "    (0): MaxPool2d(kernel_size=2, stride=2, padding=0, dilation=1, ceil_mode=False)\n",
       "    (1): DoubleConv(\n",
       "      (DoubleConv): Sequential(\n",
       "        (0): Conv2d(512, 512, kernel_size=(3, 3), stride=(1, 1), padding=(1, 1), bias=False)\n",
       "        (1): BatchNorm2d(512, eps=1e-05, momentum=0.1, affine=True, track_running_stats=True)\n",
       "        (2): ReLU(inplace=True)\n",
       "        (3): Conv2d(512, 512, kernel_size=(3, 3), stride=(1, 1), padding=(1, 1), bias=False)\n",
       "        (4): BatchNorm2d(512, eps=1e-05, momentum=0.1, affine=True, track_running_stats=True)\n",
       "        (5): ReLU(inplace=True)\n",
       "      )\n",
       "    )\n",
       "    (2): DoubleConv(\n",
       "      (DoubleConv): Sequential(\n",
       "        (0): Conv2d(512, 1024, kernel_size=(3, 3), stride=(1, 1), padding=(1, 1), bias=False)\n",
       "        (1): BatchNorm2d(1024, eps=1e-05, momentum=0.1, affine=True, track_running_stats=True)\n",
       "        (2): ReLU(inplace=True)\n",
       "        (3): Conv2d(1024, 1024, kernel_size=(3, 3), stride=(1, 1), padding=(1, 1), bias=False)\n",
       "        (4): BatchNorm2d(1024, eps=1e-05, momentum=0.1, affine=True, track_running_stats=True)\n",
       "        (5): ReLU(inplace=True)\n",
       "      )\n",
       "    )\n",
       "  )\n",
       "  (up1): Up(\n",
       "    (up_module): ConvTranspose2d(1024, 512, kernel_size=(2, 2), stride=(2, 2))\n",
       "    (conv): DoubleConv(\n",
       "      (DoubleConv): Sequential(\n",
       "        (0): Conv2d(1024, 512, kernel_size=(3, 3), stride=(1, 1), padding=(1, 1), bias=False)\n",
       "        (1): BatchNorm2d(512, eps=1e-05, momentum=0.1, affine=True, track_running_stats=True)\n",
       "        (2): ReLU(inplace=True)\n",
       "        (3): Conv2d(512, 512, kernel_size=(3, 3), stride=(1, 1), padding=(1, 1), bias=False)\n",
       "        (4): BatchNorm2d(512, eps=1e-05, momentum=0.1, affine=True, track_running_stats=True)\n",
       "        (5): ReLU(inplace=True)\n",
       "      )\n",
       "    )\n",
       "  )\n",
       "  (up_conv1): DoubleConv(\n",
       "    (DoubleConv): Sequential(\n",
       "      (0): Conv2d(512, 512, kernel_size=(3, 3), stride=(1, 1), padding=(1, 1), bias=False)\n",
       "      (1): BatchNorm2d(512, eps=1e-05, momentum=0.1, affine=True, track_running_stats=True)\n",
       "      (2): ReLU(inplace=True)\n",
       "      (3): Conv2d(512, 512, kernel_size=(3, 3), stride=(1, 1), padding=(1, 1), bias=False)\n",
       "      (4): BatchNorm2d(512, eps=1e-05, momentum=0.1, affine=True, track_running_stats=True)\n",
       "      (5): ReLU(inplace=True)\n",
       "    )\n",
       "  )\n",
       "  (up2): Up(\n",
       "    (up_module): ConvTranspose2d(512, 256, kernel_size=(2, 2), stride=(2, 2))\n",
       "    (conv): DoubleConv(\n",
       "      (DoubleConv): Sequential(\n",
       "        (0): Conv2d(512, 256, kernel_size=(3, 3), stride=(1, 1), padding=(1, 1), bias=False)\n",
       "        (1): BatchNorm2d(256, eps=1e-05, momentum=0.1, affine=True, track_running_stats=True)\n",
       "        (2): ReLU(inplace=True)\n",
       "        (3): Conv2d(256, 256, kernel_size=(3, 3), stride=(1, 1), padding=(1, 1), bias=False)\n",
       "        (4): BatchNorm2d(256, eps=1e-05, momentum=0.1, affine=True, track_running_stats=True)\n",
       "        (5): ReLU(inplace=True)\n",
       "      )\n",
       "    )\n",
       "  )\n",
       "  (up_conv2): DoubleConv(\n",
       "    (DoubleConv): Sequential(\n",
       "      (0): Conv2d(256, 256, kernel_size=(3, 3), stride=(1, 1), padding=(1, 1), bias=False)\n",
       "      (1): BatchNorm2d(256, eps=1e-05, momentum=0.1, affine=True, track_running_stats=True)\n",
       "      (2): ReLU(inplace=True)\n",
       "      (3): Conv2d(256, 256, kernel_size=(3, 3), stride=(1, 1), padding=(1, 1), bias=False)\n",
       "      (4): BatchNorm2d(256, eps=1e-05, momentum=0.1, affine=True, track_running_stats=True)\n",
       "      (5): ReLU(inplace=True)\n",
       "    )\n",
       "  )\n",
       "  (up3): Up(\n",
       "    (up_module): ConvTranspose2d(256, 128, kernel_size=(2, 2), stride=(2, 2))\n",
       "    (conv): DoubleConv(\n",
       "      (DoubleConv): Sequential(\n",
       "        (0): Conv2d(256, 128, kernel_size=(3, 3), stride=(1, 1), padding=(1, 1), bias=False)\n",
       "        (1): BatchNorm2d(128, eps=1e-05, momentum=0.1, affine=True, track_running_stats=True)\n",
       "        (2): ReLU(inplace=True)\n",
       "        (3): Conv2d(128, 128, kernel_size=(3, 3), stride=(1, 1), padding=(1, 1), bias=False)\n",
       "        (4): BatchNorm2d(128, eps=1e-05, momentum=0.1, affine=True, track_running_stats=True)\n",
       "        (5): ReLU(inplace=True)\n",
       "      )\n",
       "    )\n",
       "  )\n",
       "  (up4): Up(\n",
       "    (up_module): ConvTranspose2d(128, 64, kernel_size=(2, 2), stride=(2, 2))\n",
       "    (conv): DoubleConv(\n",
       "      (DoubleConv): Sequential(\n",
       "        (0): Conv2d(128, 64, kernel_size=(3, 3), stride=(1, 1), padding=(1, 1), bias=False)\n",
       "        (1): BatchNorm2d(64, eps=1e-05, momentum=0.1, affine=True, track_running_stats=True)\n",
       "        (2): ReLU(inplace=True)\n",
       "        (3): Conv2d(64, 64, kernel_size=(3, 3), stride=(1, 1), padding=(1, 1), bias=False)\n",
       "        (4): BatchNorm2d(64, eps=1e-05, momentum=0.1, affine=True, track_running_stats=True)\n",
       "        (5): ReLU(inplace=True)\n",
       "      )\n",
       "    )\n",
       "  )\n",
       "  (up_conv4): Sequential(\n",
       "    (0): Conv2d(64, 64, kernel_size=(3, 3), stride=(1, 1), padding=(1, 1), bias=False)\n",
       "    (1): BatchNorm2d(64, eps=1e-05, momentum=0.1, affine=True, track_running_stats=True)\n",
       "    (2): ReLU(inplace=True)\n",
       "  )\n",
       "  (out): OutConv(\n",
       "    (conv): Conv2d(64, 1, kernel_size=(1, 1), stride=(1, 1))\n",
       "  )\n",
       ")"
      ]
     },
     "execution_count": 62,
     "metadata": {},
     "output_type": "execute_result"
    }
   ],
   "source": [
    "\n",
    "checkpoint = torch.load(hyperparameters['pre_trained_path'])\n",
    "model.load_state_dict(checkpoint['model_state_dict'], strict=True)\n",
    "\n",
    "model.to(device)\n"
   ]
  },
  {
   "cell_type": "code",
   "execution_count": 63,
   "id": "3fd2d1a6-970d-4e79-bf70-912e86adce91",
   "metadata": {},
   "outputs": [],
   "source": [
    "\n",
    "# Tüm katmanları serbest bırakmak yerine yalnızca son birkaç katmanı güncellemek için \"requires_grad\" ayarı yapılır.\n",
    "for param in model.parameters():\n",
    "    param.requires_grad = False\n",
    "\n",
    "# Yeni veri bölgesine uyum sağlamak için encoder'ın en üst katmanları ve decoder katmanları açılır\n",
    "for layer in [model.inc, model.down1, model.down2, model.up3, model.up4, model.out]:\n",
    "    for param in layer.parameters():\n",
    "        param.requires_grad = True\n"
   ]
  },
  {
   "cell_type": "markdown",
   "id": "ecddd488-3586-46e7-99dc-34070da1e1e3",
   "metadata": {},
   "source": [
    "## Number of Parameters"
   ]
  },
  {
   "cell_type": "code",
   "execution_count": 64,
   "id": "64e9ca96-84c1-493e-90c1-bea3cdbffc62",
   "metadata": {
    "tags": []
   },
   "outputs": [
    {
     "name": "stdout",
     "output_type": "stream",
     "text": [
      "Model input size: torch.Size([1, 3, 512, 512])\n",
      "Model output size: torch.Size([1, 1, 512, 512])\n"
     ]
    }
   ],
   "source": [
    "### Dummy Data\n",
    "__batch_size = 1\n",
    "__in_channels = hyperparameters['vgg19']['in_channels']\n",
    "__width = 512\n",
    "__height = 512\n",
    "\n",
    "\n",
    "dummy_input = torch.randn((__batch_size, __in_channels, __height, __width)).to(device)\n",
    "dummy_out = model(dummy_input)\n",
    "\n",
    "print(f'Model input size: {dummy_input.shape}')\n",
    "print(f'Model output size: {dummy_out.shape}')\n"
   ]
  },
  {
   "cell_type": "code",
   "execution_count": 65,
   "id": "f0bd5554-c7c4-4a58-97fb-7eeffbd52287",
   "metadata": {
    "tags": []
   },
   "outputs": [
    {
     "name": "stdout",
     "output_type": "stream",
     "text": [
      "Number of Parameters: 25,427,968\n"
     ]
    }
   ],
   "source": [
    "print(f'Number of Parameters: {sum(dummy_out.numel() for p in model.parameters()):,}')"
   ]
  },
  {
   "cell_type": "markdown",
   "id": "fe41c2d1-ba7d-4cdb-937a-fec2ff59a67d",
   "metadata": {},
   "source": [
    "# Loss & Optimizer"
   ]
  },
  {
   "cell_type": "markdown",
   "id": "ee62385f-dd21-49bc-90ab-69cafb655d93",
   "metadata": {},
   "source": [
    "## Loss Function"
   ]
  },
  {
   "cell_type": "code",
   "execution_count": 66,
   "id": "1f2409a7-f4c6-48de-8c90-3e37ac0504ce",
   "metadata": {
    "tags": []
   },
   "outputs": [],
   "source": [
    "criterion = nn.MSELoss(reduction='none')\n",
    "\n",
    "def loss_fn(pred, mask, alpha=0.01):\n",
    "    \n",
    "    loss_by_pixel = criterion(pred, mask)\n",
    "    loss = loss_by_pixel.mean()\n",
    "    \n",
    "    return loss"
   ]
  },
  {
   "cell_type": "markdown",
   "id": "a1231945-8f22-4d96-9b60-deefe5175715",
   "metadata": {},
   "source": [
    "## Optimizer & Scheduler"
   ]
  },
  {
   "cell_type": "code",
   "execution_count": 67,
   "id": "0851eeb9-61cd-48fa-9620-07251aedacf9",
   "metadata": {
    "tags": []
   },
   "outputs": [],
   "source": [
    "learning_rate = hyperparameters['optimizer']['lr']\n",
    "betas = hyperparameters['optimizer']['betas']\n",
    "\n",
    "optimizer = torch.optim.Adam(\n",
    "    model.parameters(),\n",
    "    lr = learning_rate,\n",
    "    betas = betas, \n",
    ")\n",
    "\n",
    "scheduler = torch.optim.lr_scheduler.ReduceLROnPlateau(optimizer, mode='min', patience=40, factor=0.1)"
   ]
  },
  {
   "cell_type": "markdown",
   "id": "5b01ec41-0d9d-4053-a7d2-b5fc6e159419",
   "metadata": {
    "tags": []
   },
   "source": [
    "# Training"
   ]
  },
  {
   "cell_type": "markdown",
   "id": "950951ef-d511-424c-b4a4-36cabc7dda67",
   "metadata": {},
   "source": [
    "## Train/Evaluation Function"
   ]
  },
  {
   "cell_type": "code",
   "execution_count": 68,
   "id": "7070db60-a7d2-44b7-a3cb-d03187d2b709",
   "metadata": {
    "tags": []
   },
   "outputs": [],
   "source": [
    "from train_eval_func import train_fn, eval_fn"
   ]
  },
  {
   "cell_type": "markdown",
   "id": "3f029069-9b68-45f0-b595-0f77c79cc70e",
   "metadata": {},
   "source": [
    "## Start Training"
   ]
  },
  {
   "cell_type": "code",
   "execution_count": 69,
   "id": "99160c94-cd3b-473a-83e2-a15d60ecc79a",
   "metadata": {
    "tags": []
   },
   "outputs": [],
   "source": [
    "best_model = {\n",
    "    'best_state_dict' : None,\n",
    "    'best_epoch' : None,\n",
    "    'best_eval_loss' : None,\n",
    "    'best_eval_miou' : 0.0,\n",
    "    'best_eval_acc' : None,\n",
    "}\n",
    "\n",
    "history = {\n",
    "    'train_loss': [],\n",
    "    'eval_loss' : [],\n",
    "    'eval_miou' : [],\n",
    "    'eval_acc' : [],\n",
    "}"
   ]
  },
  {
   "cell_type": "code",
   "execution_count": 70,
   "id": "a5a10022-5c83-4329-b232-58cdb4076f04",
   "metadata": {
    "tags": []
   },
   "outputs": [],
   "source": [
    "def train_start():\n",
    "    model.to(device)\n",
    "    \n",
    "    for epoch in range(1, hyperparameters['epochs']+1):  \n",
    "        \n",
    "        train_loss = train_fn(\n",
    "            epoch = epoch,\n",
    "            train_size = hyperparameters['training_size'], \n",
    "            model = model,\n",
    "            dataloader = train_dataloader, \n",
    "            optimizer = optimizer, \n",
    "            criterion = loss_fn, \n",
    "            device = device,\n",
    "            gradient_clipping = hyperparameters['gradient_clipping'],\n",
    "        )\n",
    "        \n",
    "        eval_loss, eval_miou, eval_acc = eval_fn(\n",
    "            epoch = epoch,\n",
    "            test_size = hyperparameters['test_size'], \n",
    "            model = model, \n",
    "            dataloader = test_dataloader, \n",
    "            criterion = loss_fn, \n",
    "            device = device,\n",
    "            color_mapping = color_mapping,\n",
    "        )\n",
    "\n",
    "        print(f\"\"\"\"\n",
    "        Epoch: {epoch}, \n",
    "        Average Train Loss: {train_loss:.4f} |\n",
    "        Average Test Loss: {eval_loss:.4f} |\n",
    "        Average Test mIoU: {eval_miou:.2f}\n",
    "        Average Test Accuracy: {eval_acc}\"\"\")\n",
    "        \n",
    "        history['train_loss'].append(train_loss)\n",
    "        history['eval_loss'].append(eval_loss)\n",
    "        history['eval_miou'].append(eval_miou)\n",
    "        history['eval_acc'].append(eval_acc)\n",
    "        \n",
    "        save_model(\n",
    "            model=model, \n",
    "            optimizer=optimizer, \n",
    "            root_folder=hyperparameters['checkpoints_dir'], \n",
    "            file_name='Daft_Segmentation_checkpoint1', \n",
    "            hyperparameter_dict=hyperparameters, \n",
    "            best_model=best_model, \n",
    "            last_epoch=epoch, \n",
    "            verbose=False)\n",
    "        \n",
    "        if eval_miou > best_model['best_eval_miou']:\n",
    "            best_model['best_state_dict'] = model.state_dict().copy()\n",
    "            best_model['best_epoch'] = epoch\n",
    "            best_model['best_eval_loss'] = eval_loss\n",
    "            best_model['best_eval_miou'] = eval_miou\n",
    "            best_model['best_eval_acc'] = eval_acc\n",
    "            \n",
    "            save_model(\n",
    "                model=model, \n",
    "                optimizer=optimizer, \n",
    "                root_folder=hyperparameters['checkpoints_dir'], \n",
    "                file_name='Daft_Segmentation_best2', \n",
    "                hyperparameter_dict=hyperparameters, \n",
    "                best_model=best_model, \n",
    "                last_epoch=epoch, \n",
    "                verbose=True)\n",
    "            \n",
    "            save_model(\n",
    "                model=model, \n",
    "                optimizer=optimizer, \n",
    "                root_folder='./checkpoints/unsupervised/', \n",
    "                file_name='UL_Segmentation3',\n",
    "                hyperparameter_dict=hyperparameters, \n",
    "                best_model=best_model, \n",
    "                last_epoch=epoch, )\n",
    "            \n",
    "        scheduler.step(eval_loss)"
   ]
  },
  {
   "cell_type": "markdown",
   "id": "423a7147-80e2-42b3-82dd-33aead6fe302",
   "metadata": {},
   "source": [
    "## Model Training"
   ]
  },
  {
   "cell_type": "code",
   "execution_count": 71,
   "id": "73dc2d6a-9bbb-468b-b373-94e56514b425",
   "metadata": {},
   "outputs": [
    {
     "name": "stderr",
     "output_type": "stream",
     "text": [
      "Train/Epoch 1/150: 100%|██████████| 84/84 [00:06<00:00, 12.26img/s]\n",
      "Eval/Epoch 1/150: 100%|██████████| 21/21 [00:03<00:00,  5.78img/s]\n"
     ]
    },
    {
     "name": "stdout",
     "output_type": "stream",
     "text": [
      "\"\n",
      "        Epoch: 1, \n",
      "        Average Train Loss: 0.1195 |\n",
      "        Average Test Loss: 0.0797 |\n",
      "        Average Test mIoU: 77.45\n",
      "        Average Test Accuracy: 94.79377746582031\n",
      "Checkpoint: Daft_Segmentation_best2 is saved successfully\n"
     ]
    },
    {
     "name": "stderr",
     "output_type": "stream",
     "text": [
      "Train/Epoch 2/150: 100%|██████████| 84/84 [00:06<00:00, 12.22img/s]\n",
      "Eval/Epoch 2/150: 100%|██████████| 21/21 [00:03<00:00,  5.98img/s]\n"
     ]
    },
    {
     "name": "stdout",
     "output_type": "stream",
     "text": [
      "\"\n",
      "        Epoch: 2, \n",
      "        Average Train Loss: 0.0819 |\n",
      "        Average Test Loss: 0.0621 |\n",
      "        Average Test mIoU: 81.24\n",
      "        Average Test Accuracy: 96.74949645996094\n",
      "Checkpoint: Daft_Segmentation_best2 is saved successfully\n"
     ]
    },
    {
     "name": "stderr",
     "output_type": "stream",
     "text": [
      "Train/Epoch 3/150: 100%|██████████| 84/84 [00:06<00:00, 12.26img/s]\n",
      "Eval/Epoch 3/150: 100%|██████████| 21/21 [00:03<00:00,  6.05img/s]\n"
     ]
    },
    {
     "name": "stdout",
     "output_type": "stream",
     "text": [
      "\"\n",
      "        Epoch: 3, \n",
      "        Average Train Loss: 0.0864 |\n",
      "        Average Test Loss: 0.0710 |\n",
      "        Average Test mIoU: 79.64\n",
      "        Average Test Accuracy: 96.78604125976562\n"
     ]
    },
    {
     "name": "stderr",
     "output_type": "stream",
     "text": [
      "Train/Epoch 4/150: 100%|██████████| 84/84 [00:06<00:00, 12.68img/s]\n",
      "Eval/Epoch 4/150: 100%|██████████| 21/21 [00:03<00:00,  5.88img/s]\n"
     ]
    },
    {
     "name": "stdout",
     "output_type": "stream",
     "text": [
      "\"\n",
      "        Epoch: 4, \n",
      "        Average Train Loss: 0.0878 |\n",
      "        Average Test Loss: 0.0661 |\n",
      "        Average Test mIoU: 79.28\n",
      "        Average Test Accuracy: 96.4019775390625\n"
     ]
    },
    {
     "name": "stderr",
     "output_type": "stream",
     "text": [
      "Train/Epoch 5/150: 100%|██████████| 84/84 [00:06<00:00, 12.74img/s]\n",
      "Eval/Epoch 5/150: 100%|██████████| 21/21 [00:03<00:00,  6.08img/s]\n"
     ]
    },
    {
     "name": "stdout",
     "output_type": "stream",
     "text": [
      "\"\n",
      "        Epoch: 5, \n",
      "        Average Train Loss: 0.0695 |\n",
      "        Average Test Loss: 0.0549 |\n",
      "        Average Test mIoU: 81.31\n",
      "        Average Test Accuracy: 95.989990234375\n",
      "Checkpoint: Daft_Segmentation_best2 is saved successfully\n"
     ]
    },
    {
     "name": "stderr",
     "output_type": "stream",
     "text": [
      "Train/Epoch 6/150: 100%|██████████| 84/84 [00:06<00:00, 12.71img/s]\n",
      "Eval/Epoch 6/150: 100%|██████████| 21/21 [00:03<00:00,  6.08img/s]\n"
     ]
    },
    {
     "name": "stdout",
     "output_type": "stream",
     "text": [
      "\"\n",
      "        Epoch: 6, \n",
      "        Average Train Loss: 0.0681 |\n",
      "        Average Test Loss: 0.0577 |\n",
      "        Average Test mIoU: 79.96\n",
      "        Average Test Accuracy: 95.82901000976562\n"
     ]
    },
    {
     "name": "stderr",
     "output_type": "stream",
     "text": [
      "Train/Epoch 7/150: 100%|██████████| 84/84 [00:06<00:00, 12.43img/s]\n",
      "Eval/Epoch 7/150: 100%|██████████| 21/21 [00:03<00:00,  6.07img/s]\n"
     ]
    },
    {
     "name": "stdout",
     "output_type": "stream",
     "text": [
      "\"\n",
      "        Epoch: 7, \n",
      "        Average Train Loss: 0.0633 |\n",
      "        Average Test Loss: 0.0517 |\n",
      "        Average Test mIoU: 81.35\n",
      "        Average Test Accuracy: 96.59873962402344\n",
      "Checkpoint: Daft_Segmentation_best2 is saved successfully\n"
     ]
    },
    {
     "name": "stderr",
     "output_type": "stream",
     "text": [
      "Train/Epoch 8/150: 100%|██████████| 84/84 [00:06<00:00, 12.80img/s]\n",
      "Eval/Epoch 8/150: 100%|██████████| 21/21 [00:03<00:00,  6.10img/s]\n"
     ]
    },
    {
     "name": "stdout",
     "output_type": "stream",
     "text": [
      "\"\n",
      "        Epoch: 8, \n",
      "        Average Train Loss: 0.0671 |\n",
      "        Average Test Loss: 0.0495 |\n",
      "        Average Test mIoU: 81.88\n",
      "        Average Test Accuracy: 96.53564453125\n",
      "Checkpoint: Daft_Segmentation_best2 is saved successfully\n"
     ]
    },
    {
     "name": "stderr",
     "output_type": "stream",
     "text": [
      "Train/Epoch 9/150: 100%|██████████| 84/84 [00:06<00:00, 12.92img/s]\n",
      "Eval/Epoch 9/150: 100%|██████████| 21/21 [00:03<00:00,  6.04img/s]\n"
     ]
    },
    {
     "name": "stdout",
     "output_type": "stream",
     "text": [
      "\"\n",
      "        Epoch: 9, \n",
      "        Average Train Loss: 0.0682 |\n",
      "        Average Test Loss: 0.0494 |\n",
      "        Average Test mIoU: 82.75\n",
      "        Average Test Accuracy: 96.57005310058594\n",
      "Checkpoint: Daft_Segmentation_best2 is saved successfully\n"
     ]
    },
    {
     "name": "stderr",
     "output_type": "stream",
     "text": [
      "Train/Epoch 10/150: 100%|██████████| 84/84 [00:06<00:00, 13.09img/s]\n",
      "Eval/Epoch 10/150: 100%|██████████| 21/21 [00:03<00:00,  6.15img/s]\n"
     ]
    },
    {
     "name": "stdout",
     "output_type": "stream",
     "text": [
      "\"\n",
      "        Epoch: 10, \n",
      "        Average Train Loss: 0.0601 |\n",
      "        Average Test Loss: 0.0458 |\n",
      "        Average Test mIoU: 83.95\n",
      "        Average Test Accuracy: 96.74125671386719\n",
      "Checkpoint: Daft_Segmentation_best2 is saved successfully\n"
     ]
    },
    {
     "name": "stderr",
     "output_type": "stream",
     "text": [
      "Train/Epoch 11/150: 100%|██████████| 84/84 [00:06<00:00, 13.07img/s]\n",
      "Eval/Epoch 11/150: 100%|██████████| 21/21 [00:03<00:00,  6.23img/s]\n"
     ]
    },
    {
     "name": "stdout",
     "output_type": "stream",
     "text": [
      "\"\n",
      "        Epoch: 11, \n",
      "        Average Train Loss: 0.0642 |\n",
      "        Average Test Loss: 0.0510 |\n",
      "        Average Test mIoU: 82.69\n",
      "        Average Test Accuracy: 96.94587707519531\n"
     ]
    },
    {
     "name": "stderr",
     "output_type": "stream",
     "text": [
      "Train/Epoch 12/150: 100%|██████████| 84/84 [00:06<00:00, 13.26img/s]\n",
      "Eval/Epoch 12/150: 100%|██████████| 21/21 [00:03<00:00,  6.24img/s]\n"
     ]
    },
    {
     "name": "stdout",
     "output_type": "stream",
     "text": [
      "\"\n",
      "        Epoch: 12, \n",
      "        Average Train Loss: 0.0566 |\n",
      "        Average Test Loss: 0.0592 |\n",
      "        Average Test mIoU: 81.37\n",
      "        Average Test Accuracy: 97.96371459960938\n"
     ]
    },
    {
     "name": "stderr",
     "output_type": "stream",
     "text": [
      "Train/Epoch 13/150: 100%|██████████| 84/84 [00:06<00:00, 13.04img/s]\n",
      "Eval/Epoch 13/150: 100%|██████████| 21/21 [00:03<00:00,  6.18img/s]\n"
     ]
    },
    {
     "name": "stdout",
     "output_type": "stream",
     "text": [
      "\"\n",
      "        Epoch: 13, \n",
      "        Average Train Loss: 0.0555 |\n",
      "        Average Test Loss: 0.0468 |\n",
      "        Average Test mIoU: 82.65\n",
      "        Average Test Accuracy: 97.16636657714844\n"
     ]
    },
    {
     "name": "stderr",
     "output_type": "stream",
     "text": [
      "Train/Epoch 14/150: 100%|██████████| 84/84 [00:06<00:00, 13.04img/s]\n",
      "Eval/Epoch 14/150: 100%|██████████| 21/21 [00:03<00:00,  6.32img/s]\n"
     ]
    },
    {
     "name": "stdout",
     "output_type": "stream",
     "text": [
      "\"\n",
      "        Epoch: 14, \n",
      "        Average Train Loss: 0.0535 |\n",
      "        Average Test Loss: 0.0458 |\n",
      "        Average Test mIoU: 83.73\n",
      "        Average Test Accuracy: 96.64497375488281\n"
     ]
    },
    {
     "name": "stderr",
     "output_type": "stream",
     "text": [
      "Train/Epoch 15/150: 100%|██████████| 84/84 [00:06<00:00, 13.06img/s]\n",
      "Eval/Epoch 15/150: 100%|██████████| 21/21 [00:03<00:00,  5.42img/s]\n"
     ]
    },
    {
     "name": "stdout",
     "output_type": "stream",
     "text": [
      "\"\n",
      "        Epoch: 15, \n",
      "        Average Train Loss: 0.0562 |\n",
      "        Average Test Loss: 0.0460 |\n",
      "        Average Test mIoU: 82.78\n",
      "        Average Test Accuracy: 97.59391784667969\n"
     ]
    },
    {
     "name": "stderr",
     "output_type": "stream",
     "text": [
      "Train/Epoch 16/150: 100%|██████████| 84/84 [00:08<00:00,  9.85img/s]\n",
      "Eval/Epoch 16/150: 100%|██████████| 21/21 [00:04<00:00,  4.91img/s]\n"
     ]
    },
    {
     "name": "stdout",
     "output_type": "stream",
     "text": [
      "\"\n",
      "        Epoch: 16, \n",
      "        Average Train Loss: 0.0567 |\n",
      "        Average Test Loss: 0.0433 |\n",
      "        Average Test mIoU: 84.24\n",
      "        Average Test Accuracy: 97.29751586914062\n",
      "Checkpoint: Daft_Segmentation_best2 is saved successfully\n"
     ]
    },
    {
     "name": "stderr",
     "output_type": "stream",
     "text": [
      "Train/Epoch 17/150: 100%|██████████| 84/84 [00:10<00:00,  8.28img/s]\n",
      "Eval/Epoch 17/150: 100%|██████████| 21/21 [00:04<00:00,  4.89img/s]\n"
     ]
    },
    {
     "name": "stdout",
     "output_type": "stream",
     "text": [
      "\"\n",
      "        Epoch: 17, \n",
      "        Average Train Loss: 0.0697 |\n",
      "        Average Test Loss: 0.0484 |\n",
      "        Average Test mIoU: 84.50\n",
      "        Average Test Accuracy: 96.64337158203125\n",
      "Checkpoint: Daft_Segmentation_best2 is saved successfully\n"
     ]
    },
    {
     "name": "stderr",
     "output_type": "stream",
     "text": [
      "Train/Epoch 18/150: 100%|██████████| 84/84 [00:10<00:00,  8.06img/s]\n",
      "Eval/Epoch 18/150: 100%|██████████| 21/21 [00:04<00:00,  4.81img/s]\n"
     ]
    },
    {
     "name": "stdout",
     "output_type": "stream",
     "text": [
      "\"\n",
      "        Epoch: 18, \n",
      "        Average Train Loss: 0.0491 |\n",
      "        Average Test Loss: 0.0451 |\n",
      "        Average Test mIoU: 83.05\n",
      "        Average Test Accuracy: 97.47718811035156\n"
     ]
    },
    {
     "name": "stderr",
     "output_type": "stream",
     "text": [
      "Train/Epoch 19/150: 100%|██████████| 84/84 [00:10<00:00,  8.14img/s]\n",
      "Eval/Epoch 19/150: 100%|██████████| 21/21 [00:04<00:00,  4.92img/s]\n"
     ]
    },
    {
     "name": "stdout",
     "output_type": "stream",
     "text": [
      "\"\n",
      "        Epoch: 19, \n",
      "        Average Train Loss: 0.0503 |\n",
      "        Average Test Loss: 0.0494 |\n",
      "        Average Test mIoU: 83.37\n",
      "        Average Test Accuracy: 97.46673583984375\n"
     ]
    },
    {
     "name": "stderr",
     "output_type": "stream",
     "text": [
      "Train/Epoch 20/150: 100%|██████████| 84/84 [00:10<00:00,  8.18img/s]\n",
      "Eval/Epoch 20/150: 100%|██████████| 21/21 [00:04<00:00,  4.63img/s]\n"
     ]
    },
    {
     "name": "stdout",
     "output_type": "stream",
     "text": [
      "\"\n",
      "        Epoch: 20, \n",
      "        Average Train Loss: 0.0479 |\n",
      "        Average Test Loss: 0.0478 |\n",
      "        Average Test mIoU: 83.35\n",
      "        Average Test Accuracy: 97.02461242675781\n"
     ]
    },
    {
     "name": "stderr",
     "output_type": "stream",
     "text": [
      "Train/Epoch 21/150: 100%|██████████| 84/84 [00:10<00:00,  8.21img/s]\n",
      "Eval/Epoch 21/150: 100%|██████████| 21/21 [00:04<00:00,  4.79img/s]\n"
     ]
    },
    {
     "name": "stdout",
     "output_type": "stream",
     "text": [
      "\"\n",
      "        Epoch: 21, \n",
      "        Average Train Loss: 0.0483 |\n",
      "        Average Test Loss: 0.0472 |\n",
      "        Average Test mIoU: 83.36\n",
      "        Average Test Accuracy: 96.72882080078125\n"
     ]
    },
    {
     "name": "stderr",
     "output_type": "stream",
     "text": [
      "Train/Epoch 22/150: 100%|██████████| 84/84 [00:10<00:00,  7.95img/s]\n",
      "Eval/Epoch 22/150: 100%|██████████| 21/21 [00:04<00:00,  4.77img/s]\n"
     ]
    },
    {
     "name": "stdout",
     "output_type": "stream",
     "text": [
      "\"\n",
      "        Epoch: 22, \n",
      "        Average Train Loss: 0.0513 |\n",
      "        Average Test Loss: 0.0434 |\n",
      "        Average Test mIoU: 84.76\n",
      "        Average Test Accuracy: 97.77198791503906\n",
      "Checkpoint: Daft_Segmentation_best2 is saved successfully\n"
     ]
    },
    {
     "name": "stderr",
     "output_type": "stream",
     "text": [
      "Train/Epoch 23/150: 100%|██████████| 84/84 [00:10<00:00,  8.16img/s]\n",
      "Eval/Epoch 23/150: 100%|██████████| 21/21 [00:04<00:00,  4.90img/s]\n"
     ]
    },
    {
     "name": "stdout",
     "output_type": "stream",
     "text": [
      "\"\n",
      "        Epoch: 23, \n",
      "        Average Train Loss: 0.0476 |\n",
      "        Average Test Loss: 0.0471 |\n",
      "        Average Test mIoU: 83.85\n",
      "        Average Test Accuracy: 97.32460021972656\n"
     ]
    },
    {
     "name": "stderr",
     "output_type": "stream",
     "text": [
      "Train/Epoch 24/150: 100%|██████████| 84/84 [00:10<00:00,  8.22img/s]\n",
      "Eval/Epoch 24/150: 100%|██████████| 21/21 [00:04<00:00,  4.64img/s]\n"
     ]
    },
    {
     "name": "stdout",
     "output_type": "stream",
     "text": [
      "\"\n",
      "        Epoch: 24, \n",
      "        Average Train Loss: 0.0474 |\n",
      "        Average Test Loss: 0.0505 |\n",
      "        Average Test mIoU: 83.96\n",
      "        Average Test Accuracy: 96.78016662597656\n"
     ]
    },
    {
     "name": "stderr",
     "output_type": "stream",
     "text": [
      "Train/Epoch 25/150: 100%|██████████| 84/84 [00:10<00:00,  8.09img/s]\n",
      "Eval/Epoch 25/150: 100%|██████████| 21/21 [00:04<00:00,  4.77img/s]\n"
     ]
    },
    {
     "name": "stdout",
     "output_type": "stream",
     "text": [
      "\"\n",
      "        Epoch: 25, \n",
      "        Average Train Loss: 0.0441 |\n",
      "        Average Test Loss: 0.0431 |\n",
      "        Average Test mIoU: 84.97\n",
      "        Average Test Accuracy: 97.22915649414062\n",
      "Checkpoint: Daft_Segmentation_best2 is saved successfully\n"
     ]
    },
    {
     "name": "stderr",
     "output_type": "stream",
     "text": [
      "Train/Epoch 26/150: 100%|██████████| 84/84 [00:10<00:00,  8.28img/s]\n",
      "Eval/Epoch 26/150: 100%|██████████| 21/21 [00:04<00:00,  4.82img/s]\n"
     ]
    },
    {
     "name": "stdout",
     "output_type": "stream",
     "text": [
      "\"\n",
      "        Epoch: 26, \n",
      "        Average Train Loss: 0.0469 |\n",
      "        Average Test Loss: 0.0501 |\n",
      "        Average Test mIoU: 83.35\n",
      "        Average Test Accuracy: 95.919189453125\n"
     ]
    },
    {
     "name": "stderr",
     "output_type": "stream",
     "text": [
      "Train/Epoch 27/150: 100%|██████████| 84/84 [00:10<00:00,  8.21img/s]\n",
      "Eval/Epoch 27/150: 100%|██████████| 21/21 [00:04<00:00,  4.82img/s]\n"
     ]
    },
    {
     "name": "stdout",
     "output_type": "stream",
     "text": [
      "\"\n",
      "        Epoch: 27, \n",
      "        Average Train Loss: 0.0447 |\n",
      "        Average Test Loss: 0.0462 |\n",
      "        Average Test mIoU: 82.89\n",
      "        Average Test Accuracy: 96.75308227539062\n"
     ]
    },
    {
     "name": "stderr",
     "output_type": "stream",
     "text": [
      "Train/Epoch 28/150: 100%|██████████| 84/84 [00:10<00:00,  8.18img/s]\n",
      "Eval/Epoch 28/150: 100%|██████████| 21/21 [00:04<00:00,  4.84img/s]\n"
     ]
    },
    {
     "name": "stdout",
     "output_type": "stream",
     "text": [
      "\"\n",
      "        Epoch: 28, \n",
      "        Average Train Loss: 0.0455 |\n",
      "        Average Test Loss: 0.0500 |\n",
      "        Average Test mIoU: 82.44\n",
      "        Average Test Accuracy: 98.06526184082031\n"
     ]
    },
    {
     "name": "stderr",
     "output_type": "stream",
     "text": [
      "Train/Epoch 29/150: 100%|██████████| 84/84 [00:10<00:00,  8.12img/s]\n",
      "Eval/Epoch 29/150: 100%|██████████| 21/21 [00:04<00:00,  4.75img/s]\n"
     ]
    },
    {
     "name": "stdout",
     "output_type": "stream",
     "text": [
      "\"\n",
      "        Epoch: 29, \n",
      "        Average Train Loss: 0.0406 |\n",
      "        Average Test Loss: 0.0437 |\n",
      "        Average Test mIoU: 85.08\n",
      "        Average Test Accuracy: 96.65946960449219\n",
      "Checkpoint: Daft_Segmentation_best2 is saved successfully\n"
     ]
    },
    {
     "name": "stderr",
     "output_type": "stream",
     "text": [
      "Train/Epoch 30/150: 100%|██████████| 84/84 [00:10<00:00,  8.14img/s]\n",
      "Eval/Epoch 30/150: 100%|██████████| 21/21 [00:04<00:00,  4.75img/s]\n"
     ]
    },
    {
     "name": "stdout",
     "output_type": "stream",
     "text": [
      "\"\n",
      "        Epoch: 30, \n",
      "        Average Train Loss: 0.0458 |\n",
      "        Average Test Loss: 0.0635 |\n",
      "        Average Test mIoU: 79.29\n",
      "        Average Test Accuracy: 95.20118713378906\n"
     ]
    },
    {
     "name": "stderr",
     "output_type": "stream",
     "text": [
      "Train/Epoch 31/150: 100%|██████████| 84/84 [00:10<00:00,  8.17img/s]\n",
      "Eval/Epoch 31/150: 100%|██████████| 21/21 [00:04<00:00,  4.86img/s]\n"
     ]
    },
    {
     "name": "stdout",
     "output_type": "stream",
     "text": [
      "\"\n",
      "        Epoch: 31, \n",
      "        Average Train Loss: 0.0482 |\n",
      "        Average Test Loss: 0.0505 |\n",
      "        Average Test mIoU: 82.32\n",
      "        Average Test Accuracy: 96.14067077636719\n"
     ]
    },
    {
     "name": "stderr",
     "output_type": "stream",
     "text": [
      "Train/Epoch 32/150: 100%|██████████| 84/84 [00:10<00:00,  8.14img/s]\n",
      "Eval/Epoch 32/150: 100%|██████████| 21/21 [00:04<00:00,  4.91img/s]\n"
     ]
    },
    {
     "name": "stdout",
     "output_type": "stream",
     "text": [
      "\"\n",
      "        Epoch: 32, \n",
      "        Average Train Loss: 0.0472 |\n",
      "        Average Test Loss: 0.0545 |\n",
      "        Average Test mIoU: 82.13\n",
      "        Average Test Accuracy: 96.14036560058594\n"
     ]
    },
    {
     "name": "stderr",
     "output_type": "stream",
     "text": [
      "Train/Epoch 33/150: 100%|██████████| 84/84 [00:10<00:00,  7.80img/s]\n",
      "Eval/Epoch 33/150: 100%|██████████| 21/21 [00:04<00:00,  4.60img/s]\n"
     ]
    },
    {
     "name": "stdout",
     "output_type": "stream",
     "text": [
      "\"\n",
      "        Epoch: 33, \n",
      "        Average Train Loss: 0.0490 |\n",
      "        Average Test Loss: 0.0442 |\n",
      "        Average Test mIoU: 84.11\n",
      "        Average Test Accuracy: 97.00897216796875\n"
     ]
    },
    {
     "name": "stderr",
     "output_type": "stream",
     "text": [
      "Train/Epoch 34/150: 100%|██████████| 84/84 [00:10<00:00,  8.05img/s]\n",
      "Eval/Epoch 34/150: 100%|██████████| 21/21 [00:04<00:00,  4.86img/s]\n"
     ]
    },
    {
     "name": "stdout",
     "output_type": "stream",
     "text": [
      "\"\n",
      "        Epoch: 34, \n",
      "        Average Train Loss: 0.0473 |\n",
      "        Average Test Loss: 0.0416 |\n",
      "        Average Test mIoU: 85.30\n",
      "        Average Test Accuracy: 97.82020568847656\n",
      "Checkpoint: Daft_Segmentation_best2 is saved successfully\n"
     ]
    },
    {
     "name": "stderr",
     "output_type": "stream",
     "text": [
      "Train/Epoch 35/150: 100%|██████████| 84/84 [00:10<00:00,  8.07img/s]\n",
      "Eval/Epoch 35/150: 100%|██████████| 21/21 [00:04<00:00,  4.79img/s]\n"
     ]
    },
    {
     "name": "stdout",
     "output_type": "stream",
     "text": [
      "\"\n",
      "        Epoch: 35, \n",
      "        Average Train Loss: 0.0490 |\n",
      "        Average Test Loss: 0.0547 |\n",
      "        Average Test mIoU: 83.00\n",
      "        Average Test Accuracy: 98.8189697265625\n"
     ]
    },
    {
     "name": "stderr",
     "output_type": "stream",
     "text": [
      "Train/Epoch 36/150: 100%|██████████| 84/84 [00:10<00:00,  7.96img/s]\n",
      "Eval/Epoch 36/150: 100%|██████████| 21/21 [00:04<00:00,  4.64img/s]\n"
     ]
    },
    {
     "name": "stdout",
     "output_type": "stream",
     "text": [
      "\"\n",
      "        Epoch: 36, \n",
      "        Average Train Loss: 0.0430 |\n",
      "        Average Test Loss: 0.0485 |\n",
      "        Average Test mIoU: 83.31\n",
      "        Average Test Accuracy: 98.08013916015625\n"
     ]
    },
    {
     "name": "stderr",
     "output_type": "stream",
     "text": [
      "Train/Epoch 37/150: 100%|██████████| 84/84 [00:10<00:00,  8.11img/s]\n",
      "Eval/Epoch 37/150: 100%|██████████| 21/21 [00:04<00:00,  4.70img/s]\n"
     ]
    },
    {
     "name": "stdout",
     "output_type": "stream",
     "text": [
      "\"\n",
      "        Epoch: 37, \n",
      "        Average Train Loss: 0.0440 |\n",
      "        Average Test Loss: 0.0466 |\n",
      "        Average Test mIoU: 83.72\n",
      "        Average Test Accuracy: 96.24053955078125\n"
     ]
    },
    {
     "name": "stderr",
     "output_type": "stream",
     "text": [
      "Train/Epoch 38/150: 100%|██████████| 84/84 [00:10<00:00,  8.04img/s]\n",
      "Eval/Epoch 38/150: 100%|██████████| 21/21 [00:04<00:00,  4.78img/s]\n"
     ]
    },
    {
     "name": "stdout",
     "output_type": "stream",
     "text": [
      "\"\n",
      "        Epoch: 38, \n",
      "        Average Train Loss: 0.0463 |\n",
      "        Average Test Loss: 0.0410 |\n",
      "        Average Test mIoU: 84.78\n",
      "        Average Test Accuracy: 97.65029907226562\n"
     ]
    },
    {
     "name": "stderr",
     "output_type": "stream",
     "text": [
      "Train/Epoch 39/150: 100%|██████████| 84/84 [00:10<00:00,  8.16img/s]\n",
      "Eval/Epoch 39/150: 100%|██████████| 21/21 [00:04<00:00,  4.69img/s]\n"
     ]
    },
    {
     "name": "stdout",
     "output_type": "stream",
     "text": [
      "\"\n",
      "        Epoch: 39, \n",
      "        Average Train Loss: 0.0444 |\n",
      "        Average Test Loss: 0.0454 |\n",
      "        Average Test mIoU: 83.42\n",
      "        Average Test Accuracy: 98.05831909179688\n"
     ]
    },
    {
     "name": "stderr",
     "output_type": "stream",
     "text": [
      "Train/Epoch 40/150: 100%|██████████| 84/84 [00:10<00:00,  7.69img/s]\n",
      "Eval/Epoch 40/150: 100%|██████████| 21/21 [00:04<00:00,  4.53img/s]\n"
     ]
    },
    {
     "name": "stdout",
     "output_type": "stream",
     "text": [
      "\"\n",
      "        Epoch: 40, \n",
      "        Average Train Loss: 0.0423 |\n",
      "        Average Test Loss: 0.0397 |\n",
      "        Average Test mIoU: 85.44\n",
      "        Average Test Accuracy: 97.87117004394531\n",
      "Checkpoint: Daft_Segmentation_best2 is saved successfully\n"
     ]
    },
    {
     "name": "stderr",
     "output_type": "stream",
     "text": [
      "Train/Epoch 41/150: 100%|██████████| 84/84 [00:10<00:00,  7.87img/s]\n",
      "Eval/Epoch 41/150: 100%|██████████| 21/21 [00:04<00:00,  4.81img/s]\n"
     ]
    },
    {
     "name": "stdout",
     "output_type": "stream",
     "text": [
      "\"\n",
      "        Epoch: 41, \n",
      "        Average Train Loss: 0.0427 |\n",
      "        Average Test Loss: 0.0449 |\n",
      "        Average Test mIoU: 84.75\n",
      "        Average Test Accuracy: 98.78074645996094\n"
     ]
    },
    {
     "name": "stderr",
     "output_type": "stream",
     "text": [
      "Train/Epoch 42/150: 100%|██████████| 84/84 [00:10<00:00,  7.86img/s]\n",
      "Eval/Epoch 42/150: 100%|██████████| 21/21 [00:04<00:00,  4.74img/s]\n"
     ]
    },
    {
     "name": "stdout",
     "output_type": "stream",
     "text": [
      "\"\n",
      "        Epoch: 42, \n",
      "        Average Train Loss: 0.0344 |\n",
      "        Average Test Loss: 0.0424 |\n",
      "        Average Test mIoU: 84.82\n",
      "        Average Test Accuracy: 98.26271057128906\n"
     ]
    },
    {
     "name": "stderr",
     "output_type": "stream",
     "text": [
      "Train/Epoch 43/150: 100%|██████████| 84/84 [00:10<00:00,  7.85img/s]\n",
      "Eval/Epoch 43/150: 100%|██████████| 21/21 [00:04<00:00,  4.77img/s]\n"
     ]
    },
    {
     "name": "stdout",
     "output_type": "stream",
     "text": [
      "\"\n",
      "        Epoch: 43, \n",
      "        Average Train Loss: 0.0436 |\n",
      "        Average Test Loss: 0.0620 |\n",
      "        Average Test mIoU: 80.03\n",
      "        Average Test Accuracy: 95.27656555175781\n"
     ]
    },
    {
     "name": "stderr",
     "output_type": "stream",
     "text": [
      "Train/Epoch 44/150: 100%|██████████| 84/84 [00:10<00:00,  7.87img/s]\n",
      "Eval/Epoch 44/150: 100%|██████████| 21/21 [00:04<00:00,  4.66img/s]\n"
     ]
    },
    {
     "name": "stdout",
     "output_type": "stream",
     "text": [
      "\"\n",
      "        Epoch: 44, \n",
      "        Average Train Loss: 0.0455 |\n",
      "        Average Test Loss: 0.0608 |\n",
      "        Average Test mIoU: 80.77\n",
      "        Average Test Accuracy: 97.16598510742188\n"
     ]
    },
    {
     "name": "stderr",
     "output_type": "stream",
     "text": [
      "Train/Epoch 45/150: 100%|██████████| 84/84 [00:10<00:00,  7.86img/s]\n",
      "Eval/Epoch 45/150: 100%|██████████| 21/21 [00:04<00:00,  4.60img/s]\n"
     ]
    },
    {
     "name": "stdout",
     "output_type": "stream",
     "text": [
      "\"\n",
      "        Epoch: 45, \n",
      "        Average Train Loss: 0.0452 |\n",
      "        Average Test Loss: 0.0421 |\n",
      "        Average Test mIoU: 84.78\n",
      "        Average Test Accuracy: 96.6632080078125\n"
     ]
    },
    {
     "name": "stderr",
     "output_type": "stream",
     "text": [
      "Train/Epoch 46/150: 100%|██████████| 84/84 [00:10<00:00,  8.08img/s]\n",
      "Eval/Epoch 46/150: 100%|██████████| 21/21 [00:04<00:00,  4.56img/s]\n"
     ]
    },
    {
     "name": "stdout",
     "output_type": "stream",
     "text": [
      "\"\n",
      "        Epoch: 46, \n",
      "        Average Train Loss: 0.0415 |\n",
      "        Average Test Loss: 0.0429 |\n",
      "        Average Test mIoU: 85.24\n",
      "        Average Test Accuracy: 97.28981018066406\n"
     ]
    },
    {
     "name": "stderr",
     "output_type": "stream",
     "text": [
      "Train/Epoch 47/150: 100%|██████████| 84/84 [00:12<00:00,  6.90img/s]\n",
      "Eval/Epoch 47/150: 100%|██████████| 21/21 [00:04<00:00,  4.55img/s]\n"
     ]
    },
    {
     "name": "stdout",
     "output_type": "stream",
     "text": [
      "\"\n",
      "        Epoch: 47, \n",
      "        Average Train Loss: 0.0435 |\n",
      "        Average Test Loss: 0.0464 |\n",
      "        Average Test mIoU: 84.25\n",
      "        Average Test Accuracy: 98.16062927246094\n"
     ]
    },
    {
     "name": "stderr",
     "output_type": "stream",
     "text": [
      "Train/Epoch 48/150: 100%|██████████| 84/84 [00:10<00:00,  7.73img/s]\n",
      "Eval/Epoch 48/150: 100%|██████████| 21/21 [00:04<00:00,  4.82img/s]\n"
     ]
    },
    {
     "name": "stdout",
     "output_type": "stream",
     "text": [
      "\"\n",
      "        Epoch: 48, \n",
      "        Average Train Loss: 0.0413 |\n",
      "        Average Test Loss: 0.0473 |\n",
      "        Average Test mIoU: 83.24\n",
      "        Average Test Accuracy: 96.73171997070312\n"
     ]
    },
    {
     "name": "stderr",
     "output_type": "stream",
     "text": [
      "Train/Epoch 49/150: 100%|██████████| 84/84 [00:11<00:00,  7.54img/s]\n",
      "Eval/Epoch 49/150: 100%|██████████| 21/21 [00:04<00:00,  4.64img/s]\n"
     ]
    },
    {
     "name": "stdout",
     "output_type": "stream",
     "text": [
      "\"\n",
      "        Epoch: 49, \n",
      "        Average Train Loss: 0.0387 |\n",
      "        Average Test Loss: 0.0468 |\n",
      "        Average Test mIoU: 84.01\n",
      "        Average Test Accuracy: 96.51947021484375\n"
     ]
    },
    {
     "name": "stderr",
     "output_type": "stream",
     "text": [
      "Train/Epoch 50/150: 100%|██████████| 84/84 [00:10<00:00,  7.64img/s]\n",
      "Eval/Epoch 50/150: 100%|██████████| 21/21 [00:04<00:00,  4.86img/s]\n"
     ]
    },
    {
     "name": "stdout",
     "output_type": "stream",
     "text": [
      "\"\n",
      "        Epoch: 50, \n",
      "        Average Train Loss: 0.0379 |\n",
      "        Average Test Loss: 0.0423 |\n",
      "        Average Test mIoU: 84.65\n",
      "        Average Test Accuracy: 97.91496276855469\n"
     ]
    },
    {
     "name": "stderr",
     "output_type": "stream",
     "text": [
      "Train/Epoch 51/150: 100%|██████████| 84/84 [00:10<00:00,  7.91img/s]\n",
      "Eval/Epoch 51/150: 100%|██████████| 21/21 [00:04<00:00,  4.87img/s]\n"
     ]
    },
    {
     "name": "stdout",
     "output_type": "stream",
     "text": [
      "\"\n",
      "        Epoch: 51, \n",
      "        Average Train Loss: 0.0329 |\n",
      "        Average Test Loss: 0.0468 |\n",
      "        Average Test mIoU: 84.09\n",
      "        Average Test Accuracy: 98.01643371582031\n"
     ]
    },
    {
     "name": "stderr",
     "output_type": "stream",
     "text": [
      "Train/Epoch 52/150: 100%|██████████| 84/84 [00:11<00:00,  7.42img/s]\n",
      "Eval/Epoch 52/150: 100%|██████████| 21/21 [00:04<00:00,  4.86img/s]\n"
     ]
    },
    {
     "name": "stdout",
     "output_type": "stream",
     "text": [
      "\"\n",
      "        Epoch: 52, \n",
      "        Average Train Loss: 0.0354 |\n",
      "        Average Test Loss: 0.0439 |\n",
      "        Average Test mIoU: 84.72\n",
      "        Average Test Accuracy: 98.1878662109375\n"
     ]
    },
    {
     "name": "stderr",
     "output_type": "stream",
     "text": [
      "Train/Epoch 53/150: 100%|██████████| 84/84 [00:11<00:00,  7.61img/s]\n",
      "Eval/Epoch 53/150: 100%|██████████| 21/21 [00:04<00:00,  4.81img/s]\n"
     ]
    },
    {
     "name": "stdout",
     "output_type": "stream",
     "text": [
      "\"\n",
      "        Epoch: 53, \n",
      "        Average Train Loss: 0.0375 |\n",
      "        Average Test Loss: 0.0486 |\n",
      "        Average Test mIoU: 83.72\n",
      "        Average Test Accuracy: 97.18940734863281\n"
     ]
    },
    {
     "name": "stderr",
     "output_type": "stream",
     "text": [
      "Train/Epoch 54/150: 100%|██████████| 84/84 [00:10<00:00,  7.80img/s]\n",
      "Eval/Epoch 54/150: 100%|██████████| 21/21 [00:04<00:00,  4.92img/s]\n"
     ]
    },
    {
     "name": "stdout",
     "output_type": "stream",
     "text": [
      "\"\n",
      "        Epoch: 54, \n",
      "        Average Train Loss: 0.0396 |\n",
      "        Average Test Loss: 0.0440 |\n",
      "        Average Test mIoU: 85.63\n",
      "        Average Test Accuracy: 97.46978759765625\n",
      "Checkpoint: Daft_Segmentation_best2 is saved successfully\n"
     ]
    },
    {
     "name": "stderr",
     "output_type": "stream",
     "text": [
      "Train/Epoch 55/150: 100%|██████████| 84/84 [00:11<00:00,  7.39img/s]\n",
      "Eval/Epoch 55/150: 100%|██████████| 21/21 [00:04<00:00,  4.57img/s]\n"
     ]
    },
    {
     "name": "stdout",
     "output_type": "stream",
     "text": [
      "\"\n",
      "        Epoch: 55, \n",
      "        Average Train Loss: 0.0384 |\n",
      "        Average Test Loss: 0.0420 |\n",
      "        Average Test mIoU: 85.39\n",
      "        Average Test Accuracy: 97.97187805175781\n"
     ]
    },
    {
     "name": "stderr",
     "output_type": "stream",
     "text": [
      "Train/Epoch 56/150: 100%|██████████| 84/84 [00:10<00:00,  7.82img/s]\n",
      "Eval/Epoch 56/150: 100%|██████████| 21/21 [00:04<00:00,  4.79img/s]\n"
     ]
    },
    {
     "name": "stdout",
     "output_type": "stream",
     "text": [
      "\"\n",
      "        Epoch: 56, \n",
      "        Average Train Loss: 0.0361 |\n",
      "        Average Test Loss: 0.0428 |\n",
      "        Average Test mIoU: 84.64\n",
      "        Average Test Accuracy: 98.07861328125\n"
     ]
    },
    {
     "name": "stderr",
     "output_type": "stream",
     "text": [
      "Train/Epoch 57/150: 100%|██████████| 84/84 [00:10<00:00,  7.75img/s]\n",
      "Eval/Epoch 57/150: 100%|██████████| 21/21 [00:04<00:00,  4.64img/s]\n"
     ]
    },
    {
     "name": "stdout",
     "output_type": "stream",
     "text": [
      "\"\n",
      "        Epoch: 57, \n",
      "        Average Train Loss: 0.0379 |\n",
      "        Average Test Loss: 0.0414 |\n",
      "        Average Test mIoU: 86.18\n",
      "        Average Test Accuracy: 98.2330322265625\n",
      "Checkpoint: Daft_Segmentation_best2 is saved successfully\n"
     ]
    },
    {
     "name": "stderr",
     "output_type": "stream",
     "text": [
      "Train/Epoch 58/150: 100%|██████████| 84/84 [00:10<00:00,  8.14img/s]\n",
      "Eval/Epoch 58/150: 100%|██████████| 21/21 [00:04<00:00,  4.77img/s]\n"
     ]
    },
    {
     "name": "stdout",
     "output_type": "stream",
     "text": [
      "\"\n",
      "        Epoch: 58, \n",
      "        Average Train Loss: 0.0385 |\n",
      "        Average Test Loss: 0.0435 |\n",
      "        Average Test mIoU: 85.37\n",
      "        Average Test Accuracy: 97.60795593261719\n"
     ]
    },
    {
     "name": "stderr",
     "output_type": "stream",
     "text": [
      "Train/Epoch 59/150: 100%|██████████| 84/84 [00:10<00:00,  8.13img/s]\n",
      "Eval/Epoch 59/150: 100%|██████████| 21/21 [00:04<00:00,  4.71img/s]\n"
     ]
    },
    {
     "name": "stdout",
     "output_type": "stream",
     "text": [
      "\"\n",
      "        Epoch: 59, \n",
      "        Average Train Loss: 0.0392 |\n",
      "        Average Test Loss: 0.0411 |\n",
      "        Average Test mIoU: 85.58\n",
      "        Average Test Accuracy: 98.36990356445312\n"
     ]
    },
    {
     "name": "stderr",
     "output_type": "stream",
     "text": [
      "Train/Epoch 60/150: 100%|██████████| 84/84 [00:11<00:00,  7.55img/s]\n",
      "Eval/Epoch 60/150: 100%|██████████| 21/21 [00:04<00:00,  4.53img/s]\n"
     ]
    },
    {
     "name": "stdout",
     "output_type": "stream",
     "text": [
      "\"\n",
      "        Epoch: 60, \n",
      "        Average Train Loss: 0.0400 |\n",
      "        Average Test Loss: 0.0524 |\n",
      "        Average Test mIoU: 83.20\n",
      "        Average Test Accuracy: 98.63967895507812\n"
     ]
    },
    {
     "name": "stderr",
     "output_type": "stream",
     "text": [
      "Train/Epoch 61/150: 100%|██████████| 84/84 [00:12<00:00,  6.84img/s]\n",
      "Eval/Epoch 61/150: 100%|██████████| 21/21 [00:04<00:00,  4.56img/s]\n"
     ]
    },
    {
     "name": "stdout",
     "output_type": "stream",
     "text": [
      "\"\n",
      "        Epoch: 61, \n",
      "        Average Train Loss: 0.0388 |\n",
      "        Average Test Loss: 0.0637 |\n",
      "        Average Test mIoU: 81.33\n",
      "        Average Test Accuracy: 98.43177795410156\n"
     ]
    },
    {
     "name": "stderr",
     "output_type": "stream",
     "text": [
      "Train/Epoch 62/150: 100%|██████████| 84/84 [00:10<00:00,  7.75img/s]\n",
      "Eval/Epoch 62/150: 100%|██████████| 21/21 [00:04<00:00,  4.63img/s]\n"
     ]
    },
    {
     "name": "stdout",
     "output_type": "stream",
     "text": [
      "\"\n",
      "        Epoch: 62, \n",
      "        Average Train Loss: 0.0320 |\n",
      "        Average Test Loss: 0.0455 |\n",
      "        Average Test mIoU: 84.63\n",
      "        Average Test Accuracy: 96.95808410644531\n"
     ]
    },
    {
     "name": "stderr",
     "output_type": "stream",
     "text": [
      "Train/Epoch 63/150: 100%|██████████| 84/84 [00:12<00:00,  6.74img/s]\n",
      "Eval/Epoch 63/150: 100%|██████████| 21/21 [00:04<00:00,  4.57img/s]\n"
     ]
    },
    {
     "name": "stdout",
     "output_type": "stream",
     "text": [
      "\"\n",
      "        Epoch: 63, \n",
      "        Average Train Loss: 0.0374 |\n",
      "        Average Test Loss: 0.0478 |\n",
      "        Average Test mIoU: 84.73\n",
      "        Average Test Accuracy: 96.89910888671875\n"
     ]
    },
    {
     "name": "stderr",
     "output_type": "stream",
     "text": [
      "Train/Epoch 64/150: 100%|██████████| 84/84 [00:11<00:00,  7.24img/s]\n",
      "Eval/Epoch 64/150: 100%|██████████| 21/21 [00:04<00:00,  4.77img/s]\n"
     ]
    },
    {
     "name": "stdout",
     "output_type": "stream",
     "text": [
      "\"\n",
      "        Epoch: 64, \n",
      "        Average Train Loss: 0.0375 |\n",
      "        Average Test Loss: 0.0443 |\n",
      "        Average Test mIoU: 84.99\n",
      "        Average Test Accuracy: 98.79539489746094\n"
     ]
    },
    {
     "name": "stderr",
     "output_type": "stream",
     "text": [
      "Train/Epoch 65/150: 100%|██████████| 84/84 [00:10<00:00,  7.92img/s]\n",
      "Eval/Epoch 65/150: 100%|██████████| 21/21 [00:04<00:00,  4.66img/s]\n"
     ]
    },
    {
     "name": "stdout",
     "output_type": "stream",
     "text": [
      "\"\n",
      "        Epoch: 65, \n",
      "        Average Train Loss: 0.0384 |\n",
      "        Average Test Loss: 0.0430 |\n",
      "        Average Test mIoU: 85.78\n",
      "        Average Test Accuracy: 98.53271484375\n"
     ]
    },
    {
     "name": "stderr",
     "output_type": "stream",
     "text": [
      "Train/Epoch 66/150: 100%|██████████| 84/84 [00:10<00:00,  8.18img/s]\n",
      "Eval/Epoch 66/150: 100%|██████████| 21/21 [00:04<00:00,  4.80img/s]\n"
     ]
    },
    {
     "name": "stdout",
     "output_type": "stream",
     "text": [
      "\"\n",
      "        Epoch: 66, \n",
      "        Average Train Loss: 0.0344 |\n",
      "        Average Test Loss: 0.0405 |\n",
      "        Average Test mIoU: 85.85\n",
      "        Average Test Accuracy: 98.37837219238281\n"
     ]
    },
    {
     "name": "stderr",
     "output_type": "stream",
     "text": [
      "Train/Epoch 67/150: 100%|██████████| 84/84 [00:09<00:00,  8.49img/s]\n",
      "Eval/Epoch 67/150: 100%|██████████| 21/21 [00:03<00:00,  5.32img/s]\n"
     ]
    },
    {
     "name": "stdout",
     "output_type": "stream",
     "text": [
      "\"\n",
      "        Epoch: 67, \n",
      "        Average Train Loss: 0.0345 |\n",
      "        Average Test Loss: 0.0442 |\n",
      "        Average Test mIoU: 85.29\n",
      "        Average Test Accuracy: 97.40203857421875\n"
     ]
    },
    {
     "name": "stderr",
     "output_type": "stream",
     "text": [
      "Train/Epoch 68/150: 100%|██████████| 84/84 [00:08<00:00,  9.61img/s]\n",
      "Eval/Epoch 68/150: 100%|██████████| 21/21 [00:04<00:00,  5.17img/s]\n"
     ]
    },
    {
     "name": "stdout",
     "output_type": "stream",
     "text": [
      "\"\n",
      "        Epoch: 68, \n",
      "        Average Train Loss: 0.0322 |\n",
      "        Average Test Loss: 0.0591 |\n",
      "        Average Test mIoU: 82.29\n",
      "        Average Test Accuracy: 95.48622131347656\n"
     ]
    },
    {
     "name": "stderr",
     "output_type": "stream",
     "text": [
      "Train/Epoch 69/150: 100%|██████████| 84/84 [00:08<00:00,  9.51img/s]\n",
      "Eval/Epoch 69/150: 100%|██████████| 21/21 [00:03<00:00,  5.40img/s]\n"
     ]
    },
    {
     "name": "stdout",
     "output_type": "stream",
     "text": [
      "\"\n",
      "        Epoch: 69, \n",
      "        Average Train Loss: 0.0332 |\n",
      "        Average Test Loss: 0.0552 |\n",
      "        Average Test mIoU: 83.02\n",
      "        Average Test Accuracy: 98.79074096679688\n"
     ]
    },
    {
     "name": "stderr",
     "output_type": "stream",
     "text": [
      "Train/Epoch 70/150: 100%|██████████| 84/84 [00:09<00:00,  9.12img/s]\n",
      "Eval/Epoch 70/150: 100%|██████████| 21/21 [00:04<00:00,  5.09img/s]\n"
     ]
    },
    {
     "name": "stdout",
     "output_type": "stream",
     "text": [
      "\"\n",
      "        Epoch: 70, \n",
      "        Average Train Loss: 0.0340 |\n",
      "        Average Test Loss: 0.0412 |\n",
      "        Average Test mIoU: 85.52\n",
      "        Average Test Accuracy: 98.193359375\n"
     ]
    },
    {
     "name": "stderr",
     "output_type": "stream",
     "text": [
      "Train/Epoch 71/150: 100%|██████████| 84/84 [00:09<00:00,  9.07img/s]\n",
      "Eval/Epoch 71/150: 100%|██████████| 21/21 [00:04<00:00,  5.05img/s]\n"
     ]
    },
    {
     "name": "stdout",
     "output_type": "stream",
     "text": [
      "\"\n",
      "        Epoch: 71, \n",
      "        Average Train Loss: 0.0344 |\n",
      "        Average Test Loss: 0.0419 |\n",
      "        Average Test mIoU: 85.66\n",
      "        Average Test Accuracy: 97.29644775390625\n"
     ]
    },
    {
     "name": "stderr",
     "output_type": "stream",
     "text": [
      "Train/Epoch 72/150: 100%|██████████| 84/84 [00:08<00:00, 10.45img/s]\n",
      "Eval/Epoch 72/150: 100%|██████████| 21/21 [00:03<00:00,  6.19img/s]\n"
     ]
    },
    {
     "name": "stdout",
     "output_type": "stream",
     "text": [
      "\"\n",
      "        Epoch: 72, \n",
      "        Average Train Loss: 0.0395 |\n",
      "        Average Test Loss: 0.0456 |\n",
      "        Average Test mIoU: 84.89\n",
      "        Average Test Accuracy: 98.7347412109375\n"
     ]
    },
    {
     "name": "stderr",
     "output_type": "stream",
     "text": [
      "Train/Epoch 73/150: 100%|██████████| 84/84 [00:09<00:00,  9.14img/s]\n",
      "Eval/Epoch 73/150: 100%|██████████| 21/21 [00:04<00:00,  4.91img/s]\n"
     ]
    },
    {
     "name": "stdout",
     "output_type": "stream",
     "text": [
      "\"\n",
      "        Epoch: 73, \n",
      "        Average Train Loss: 0.0414 |\n",
      "        Average Test Loss: 0.0457 |\n",
      "        Average Test mIoU: 84.44\n",
      "        Average Test Accuracy: 97.86239624023438\n"
     ]
    },
    {
     "name": "stderr",
     "output_type": "stream",
     "text": [
      "Train/Epoch 74/150: 100%|██████████| 84/84 [00:08<00:00,  9.48img/s]\n",
      "Eval/Epoch 74/150: 100%|██████████| 21/21 [00:04<00:00,  5.23img/s]\n"
     ]
    },
    {
     "name": "stdout",
     "output_type": "stream",
     "text": [
      "\"\n",
      "        Epoch: 74, \n",
      "        Average Train Loss: 0.0339 |\n",
      "        Average Test Loss: 0.0443 |\n",
      "        Average Test mIoU: 85.22\n",
      "        Average Test Accuracy: 97.76084899902344\n"
     ]
    },
    {
     "name": "stderr",
     "output_type": "stream",
     "text": [
      "Train/Epoch 75/150: 100%|██████████| 84/84 [00:08<00:00,  9.49img/s]\n",
      "Eval/Epoch 75/150: 100%|██████████| 21/21 [00:04<00:00,  5.05img/s]\n"
     ]
    },
    {
     "name": "stdout",
     "output_type": "stream",
     "text": [
      "\"\n",
      "        Epoch: 75, \n",
      "        Average Train Loss: 0.0387 |\n",
      "        Average Test Loss: 0.0443 |\n",
      "        Average Test mIoU: 84.34\n",
      "        Average Test Accuracy: 98.36540222167969\n"
     ]
    },
    {
     "name": "stderr",
     "output_type": "stream",
     "text": [
      "Train/Epoch 76/150: 100%|██████████| 84/84 [00:08<00:00,  9.61img/s]\n",
      "Eval/Epoch 76/150: 100%|██████████| 21/21 [00:03<00:00,  5.37img/s]\n"
     ]
    },
    {
     "name": "stdout",
     "output_type": "stream",
     "text": [
      "\"\n",
      "        Epoch: 76, \n",
      "        Average Train Loss: 0.0398 |\n",
      "        Average Test Loss: 0.0482 |\n",
      "        Average Test mIoU: 84.76\n",
      "        Average Test Accuracy: 98.17779541015625\n"
     ]
    },
    {
     "name": "stderr",
     "output_type": "stream",
     "text": [
      "Train/Epoch 77/150: 100%|██████████| 84/84 [00:06<00:00, 12.77img/s]\n",
      "Eval/Epoch 77/150: 100%|██████████| 21/21 [00:03<00:00,  5.97img/s]\n"
     ]
    },
    {
     "name": "stdout",
     "output_type": "stream",
     "text": [
      "\"\n",
      "        Epoch: 77, \n",
      "        Average Train Loss: 0.0354 |\n",
      "        Average Test Loss: 0.0460 |\n",
      "        Average Test mIoU: 84.96\n",
      "        Average Test Accuracy: 97.99507141113281\n"
     ]
    },
    {
     "name": "stderr",
     "output_type": "stream",
     "text": [
      "Train/Epoch 78/150: 100%|██████████| 84/84 [00:07<00:00, 11.11img/s]\n",
      "Eval/Epoch 78/150: 100%|██████████| 21/21 [00:04<00:00,  5.10img/s]\n"
     ]
    },
    {
     "name": "stdout",
     "output_type": "stream",
     "text": [
      "\"\n",
      "        Epoch: 78, \n",
      "        Average Train Loss: 0.0365 |\n",
      "        Average Test Loss: 0.0425 |\n",
      "        Average Test mIoU: 86.04\n",
      "        Average Test Accuracy: 98.311767578125\n"
     ]
    },
    {
     "name": "stderr",
     "output_type": "stream",
     "text": [
      "Train/Epoch 79/150: 100%|██████████| 84/84 [00:06<00:00, 12.14img/s]\n",
      "Eval/Epoch 79/150: 100%|██████████| 21/21 [00:03<00:00,  5.79img/s]\n"
     ]
    },
    {
     "name": "stdout",
     "output_type": "stream",
     "text": [
      "\"\n",
      "        Epoch: 79, \n",
      "        Average Train Loss: 0.0350 |\n",
      "        Average Test Loss: 0.0457 |\n",
      "        Average Test mIoU: 84.06\n",
      "        Average Test Accuracy: 98.74969482421875\n"
     ]
    },
    {
     "name": "stderr",
     "output_type": "stream",
     "text": [
      "Train/Epoch 80/150: 100%|██████████| 84/84 [00:07<00:00, 11.04img/s]\n",
      "Eval/Epoch 80/150: 100%|██████████| 21/21 [00:04<00:00,  5.11img/s]\n"
     ]
    },
    {
     "name": "stdout",
     "output_type": "stream",
     "text": [
      "\"\n",
      "        Epoch: 80, \n",
      "        Average Train Loss: 0.0339 |\n",
      "        Average Test Loss: 0.0468 |\n",
      "        Average Test mIoU: 85.44\n",
      "        Average Test Accuracy: 98.55232238769531\n"
     ]
    },
    {
     "name": "stderr",
     "output_type": "stream",
     "text": [
      "Train/Epoch 81/150: 100%|██████████| 84/84 [00:08<00:00,  9.67img/s]\n",
      "Eval/Epoch 81/150: 100%|██████████| 21/21 [00:04<00:00,  5.04img/s]\n"
     ]
    },
    {
     "name": "stdout",
     "output_type": "stream",
     "text": [
      "\"\n",
      "        Epoch: 81, \n",
      "        Average Train Loss: 0.0316 |\n",
      "        Average Test Loss: 0.0636 |\n",
      "        Average Test mIoU: 81.54\n",
      "        Average Test Accuracy: 97.64572143554688\n"
     ]
    },
    {
     "name": "stderr",
     "output_type": "stream",
     "text": [
      "Train/Epoch 82/150: 100%|██████████| 84/84 [00:08<00:00,  9.63img/s]\n",
      "Eval/Epoch 82/150: 100%|██████████| 21/21 [00:04<00:00,  5.16img/s]\n"
     ]
    },
    {
     "name": "stdout",
     "output_type": "stream",
     "text": [
      "\"\n",
      "        Epoch: 82, \n",
      "        Average Train Loss: 0.0335 |\n",
      "        Average Test Loss: 0.0478 |\n",
      "        Average Test mIoU: 83.97\n",
      "        Average Test Accuracy: 98.2550048828125\n"
     ]
    },
    {
     "name": "stderr",
     "output_type": "stream",
     "text": [
      "Train/Epoch 83/150: 100%|██████████| 84/84 [00:08<00:00,  9.77img/s]\n",
      "Eval/Epoch 83/150: 100%|██████████| 21/21 [00:04<00:00,  5.01img/s]\n"
     ]
    },
    {
     "name": "stdout",
     "output_type": "stream",
     "text": [
      "\"\n",
      "        Epoch: 83, \n",
      "        Average Train Loss: 0.0367 |\n",
      "        Average Test Loss: 0.0441 |\n",
      "        Average Test mIoU: 84.87\n",
      "        Average Test Accuracy: 98.62007141113281\n"
     ]
    },
    {
     "name": "stderr",
     "output_type": "stream",
     "text": [
      "Train/Epoch 84/150: 100%|██████████| 84/84 [00:08<00:00,  9.62img/s]\n",
      "Eval/Epoch 84/150: 100%|██████████| 21/21 [00:03<00:00,  5.47img/s]\n"
     ]
    },
    {
     "name": "stdout",
     "output_type": "stream",
     "text": [
      "\"\n",
      "        Epoch: 84, \n",
      "        Average Train Loss: 0.0284 |\n",
      "        Average Test Loss: 0.0406 |\n",
      "        Average Test mIoU: 85.77\n",
      "        Average Test Accuracy: 98.64837646484375\n"
     ]
    },
    {
     "name": "stderr",
     "output_type": "stream",
     "text": [
      "Train/Epoch 85/150: 100%|██████████| 84/84 [00:08<00:00,  9.68img/s]\n",
      "Eval/Epoch 85/150: 100%|██████████| 21/21 [00:03<00:00,  5.31img/s]\n"
     ]
    },
    {
     "name": "stdout",
     "output_type": "stream",
     "text": [
      "\"\n",
      "        Epoch: 85, \n",
      "        Average Train Loss: 0.0285 |\n",
      "        Average Test Loss: 0.0403 |\n",
      "        Average Test mIoU: 86.03\n",
      "        Average Test Accuracy: 98.77357482910156\n"
     ]
    },
    {
     "name": "stderr",
     "output_type": "stream",
     "text": [
      "Train/Epoch 86/150: 100%|██████████| 84/84 [00:07<00:00, 11.11img/s]\n",
      "Eval/Epoch 86/150: 100%|██████████| 21/21 [00:03<00:00,  6.01img/s]\n"
     ]
    },
    {
     "name": "stdout",
     "output_type": "stream",
     "text": [
      "\"\n",
      "        Epoch: 86, \n",
      "        Average Train Loss: 0.0282 |\n",
      "        Average Test Loss: 0.0407 |\n",
      "        Average Test mIoU: 85.95\n",
      "        Average Test Accuracy: 98.83529663085938\n"
     ]
    },
    {
     "name": "stderr",
     "output_type": "stream",
     "text": [
      "Train/Epoch 87/150: 100%|██████████| 84/84 [00:07<00:00, 11.09img/s]\n",
      "Eval/Epoch 87/150: 100%|██████████| 21/21 [00:04<00:00,  5.03img/s]\n"
     ]
    },
    {
     "name": "stdout",
     "output_type": "stream",
     "text": [
      "\"\n",
      "        Epoch: 87, \n",
      "        Average Train Loss: 0.0281 |\n",
      "        Average Test Loss: 0.0409 |\n",
      "        Average Test mIoU: 85.92\n",
      "        Average Test Accuracy: 98.88572692871094\n"
     ]
    },
    {
     "name": "stderr",
     "output_type": "stream",
     "text": [
      "Train/Epoch 88/150: 100%|██████████| 84/84 [00:08<00:00,  9.65img/s]\n",
      "Eval/Epoch 88/150: 100%|██████████| 21/21 [00:04<00:00,  5.19img/s]\n"
     ]
    },
    {
     "name": "stdout",
     "output_type": "stream",
     "text": [
      "\"\n",
      "        Epoch: 88, \n",
      "        Average Train Loss: 0.0307 |\n",
      "        Average Test Loss: 0.0406 |\n",
      "        Average Test mIoU: 85.93\n",
      "        Average Test Accuracy: 98.83796691894531\n"
     ]
    },
    {
     "name": "stderr",
     "output_type": "stream",
     "text": [
      "Train/Epoch 89/150: 100%|██████████| 84/84 [00:08<00:00, 10.07img/s]\n",
      "Eval/Epoch 89/150: 100%|██████████| 21/21 [00:04<00:00,  5.10img/s]\n"
     ]
    },
    {
     "name": "stdout",
     "output_type": "stream",
     "text": [
      "\"\n",
      "        Epoch: 89, \n",
      "        Average Train Loss: 0.0312 |\n",
      "        Average Test Loss: 0.0408 |\n",
      "        Average Test mIoU: 85.72\n",
      "        Average Test Accuracy: 98.79623413085938\n"
     ]
    },
    {
     "name": "stderr",
     "output_type": "stream",
     "text": [
      "Train/Epoch 90/150: 100%|██████████| 84/84 [00:08<00:00, 10.22img/s]\n",
      "Eval/Epoch 90/150: 100%|██████████| 21/21 [00:03<00:00,  5.34img/s]\n"
     ]
    },
    {
     "name": "stdout",
     "output_type": "stream",
     "text": [
      "\"\n",
      "        Epoch: 90, \n",
      "        Average Train Loss: 0.0272 |\n",
      "        Average Test Loss: 0.0412 |\n",
      "        Average Test mIoU: 85.65\n",
      "        Average Test Accuracy: 98.77983093261719\n"
     ]
    },
    {
     "name": "stderr",
     "output_type": "stream",
     "text": [
      "Train/Epoch 91/150: 100%|██████████| 84/84 [00:08<00:00,  9.72img/s]\n",
      "Eval/Epoch 91/150: 100%|██████████| 21/21 [00:03<00:00,  5.37img/s]\n"
     ]
    },
    {
     "name": "stdout",
     "output_type": "stream",
     "text": [
      "\"\n",
      "        Epoch: 91, \n",
      "        Average Train Loss: 0.0294 |\n",
      "        Average Test Loss: 0.0418 |\n",
      "        Average Test mIoU: 85.56\n",
      "        Average Test Accuracy: 98.76129150390625\n"
     ]
    },
    {
     "name": "stderr",
     "output_type": "stream",
     "text": [
      "Train/Epoch 92/150: 100%|██████████| 84/84 [00:08<00:00, 10.19img/s]\n",
      "Eval/Epoch 92/150: 100%|██████████| 21/21 [00:04<00:00,  5.19img/s]\n"
     ]
    },
    {
     "name": "stdout",
     "output_type": "stream",
     "text": [
      "\"\n",
      "        Epoch: 92, \n",
      "        Average Train Loss: 0.0295 |\n",
      "        Average Test Loss: 0.0422 |\n",
      "        Average Test mIoU: 85.47\n",
      "        Average Test Accuracy: 98.70323181152344\n"
     ]
    },
    {
     "name": "stderr",
     "output_type": "stream",
     "text": [
      "Train/Epoch 93/150: 100%|██████████| 84/84 [00:08<00:00,  9.61img/s]\n",
      "Eval/Epoch 93/150: 100%|██████████| 21/21 [00:04<00:00,  5.10img/s]\n"
     ]
    },
    {
     "name": "stdout",
     "output_type": "stream",
     "text": [
      "\"\n",
      "        Epoch: 93, \n",
      "        Average Train Loss: 0.0302 |\n",
      "        Average Test Loss: 0.0429 |\n",
      "        Average Test mIoU: 85.33\n",
      "        Average Test Accuracy: 98.67683410644531\n"
     ]
    },
    {
     "name": "stderr",
     "output_type": "stream",
     "text": [
      "Train/Epoch 94/150: 100%|██████████| 84/84 [00:08<00:00, 10.19img/s]\n",
      "Eval/Epoch 94/150: 100%|██████████| 21/21 [00:04<00:00,  4.94img/s]\n"
     ]
    },
    {
     "name": "stdout",
     "output_type": "stream",
     "text": [
      "\"\n",
      "        Epoch: 94, \n",
      "        Average Train Loss: 0.0320 |\n",
      "        Average Test Loss: 0.0430 |\n",
      "        Average Test mIoU: 85.42\n",
      "        Average Test Accuracy: 98.77159118652344\n"
     ]
    },
    {
     "name": "stderr",
     "output_type": "stream",
     "text": [
      "Train/Epoch 95/150: 100%|██████████| 84/84 [00:08<00:00,  9.48img/s]\n",
      "Eval/Epoch 95/150: 100%|██████████| 21/21 [00:04<00:00,  5.15img/s]\n"
     ]
    },
    {
     "name": "stdout",
     "output_type": "stream",
     "text": [
      "\"\n",
      "        Epoch: 95, \n",
      "        Average Train Loss: 0.0302 |\n",
      "        Average Test Loss: 0.0422 |\n",
      "        Average Test mIoU: 85.69\n",
      "        Average Test Accuracy: 98.82682800292969\n"
     ]
    },
    {
     "name": "stderr",
     "output_type": "stream",
     "text": [
      "Train/Epoch 96/150: 100%|██████████| 84/84 [00:09<00:00,  9.24img/s]\n",
      "Eval/Epoch 96/150: 100%|██████████| 21/21 [00:04<00:00,  5.16img/s]\n"
     ]
    },
    {
     "name": "stdout",
     "output_type": "stream",
     "text": [
      "\"\n",
      "        Epoch: 96, \n",
      "        Average Train Loss: 0.0265 |\n",
      "        Average Test Loss: 0.0425 |\n",
      "        Average Test mIoU: 85.59\n",
      "        Average Test Accuracy: 98.82293701171875\n"
     ]
    },
    {
     "name": "stderr",
     "output_type": "stream",
     "text": [
      "Train/Epoch 97/150: 100%|██████████| 84/84 [00:08<00:00,  9.65img/s]\n",
      "Eval/Epoch 97/150: 100%|██████████| 21/21 [00:04<00:00,  5.05img/s]\n"
     ]
    },
    {
     "name": "stdout",
     "output_type": "stream",
     "text": [
      "\"\n",
      "        Epoch: 97, \n",
      "        Average Train Loss: 0.0278 |\n",
      "        Average Test Loss: 0.0437 |\n",
      "        Average Test mIoU: 85.45\n",
      "        Average Test Accuracy: 98.85871887207031\n"
     ]
    },
    {
     "name": "stderr",
     "output_type": "stream",
     "text": [
      "Train/Epoch 98/150: 100%|██████████| 84/84 [00:08<00:00,  9.67img/s]\n",
      "Eval/Epoch 98/150: 100%|██████████| 21/21 [00:04<00:00,  5.12img/s]\n"
     ]
    },
    {
     "name": "stdout",
     "output_type": "stream",
     "text": [
      "\"\n",
      "        Epoch: 98, \n",
      "        Average Train Loss: 0.0280 |\n",
      "        Average Test Loss: 0.0418 |\n",
      "        Average Test mIoU: 85.98\n",
      "        Average Test Accuracy: 98.92509460449219\n"
     ]
    },
    {
     "name": "stderr",
     "output_type": "stream",
     "text": [
      "Train/Epoch 99/150: 100%|██████████| 84/84 [00:08<00:00,  9.47img/s]\n",
      "Eval/Epoch 99/150: 100%|██████████| 21/21 [00:04<00:00,  5.11img/s]\n"
     ]
    },
    {
     "name": "stdout",
     "output_type": "stream",
     "text": [
      "\"\n",
      "        Epoch: 99, \n",
      "        Average Train Loss: 0.0250 |\n",
      "        Average Test Loss: 0.0411 |\n",
      "        Average Test mIoU: 86.12\n",
      "        Average Test Accuracy: 98.95805358886719\n"
     ]
    },
    {
     "name": "stderr",
     "output_type": "stream",
     "text": [
      "Train/Epoch 100/150: 100%|██████████| 84/84 [00:08<00:00,  9.49img/s]\n",
      "Eval/Epoch 100/150: 100%|██████████| 21/21 [00:03<00:00,  5.38img/s]\n"
     ]
    },
    {
     "name": "stdout",
     "output_type": "stream",
     "text": [
      "\"\n",
      "        Epoch: 100, \n",
      "        Average Train Loss: 0.0341 |\n",
      "        Average Test Loss: 0.0410 |\n",
      "        Average Test mIoU: 86.11\n",
      "        Average Test Accuracy: 98.97186279296875\n"
     ]
    },
    {
     "name": "stderr",
     "output_type": "stream",
     "text": [
      "Train/Epoch 101/150: 100%|██████████| 84/84 [00:08<00:00,  9.62img/s]\n",
      "Eval/Epoch 101/150: 100%|██████████| 21/21 [00:04<00:00,  5.05img/s]\n"
     ]
    },
    {
     "name": "stdout",
     "output_type": "stream",
     "text": [
      "\"\n",
      "        Epoch: 101, \n",
      "        Average Train Loss: 0.0281 |\n",
      "        Average Test Loss: 0.0410 |\n",
      "        Average Test mIoU: 86.06\n",
      "        Average Test Accuracy: 98.92555236816406\n"
     ]
    },
    {
     "name": "stderr",
     "output_type": "stream",
     "text": [
      "Train/Epoch 102/150: 100%|██████████| 84/84 [00:08<00:00,  9.81img/s]\n",
      "Eval/Epoch 102/150: 100%|██████████| 21/21 [00:04<00:00,  4.97img/s]\n"
     ]
    },
    {
     "name": "stdout",
     "output_type": "stream",
     "text": [
      "\"\n",
      "        Epoch: 102, \n",
      "        Average Train Loss: 0.0300 |\n",
      "        Average Test Loss: 0.0414 |\n",
      "        Average Test mIoU: 85.78\n",
      "        Average Test Accuracy: 98.85162353515625\n"
     ]
    },
    {
     "name": "stderr",
     "output_type": "stream",
     "text": [
      "Train/Epoch 103/150: 100%|██████████| 84/84 [00:08<00:00,  9.46img/s]\n",
      "Eval/Epoch 103/150: 100%|██████████| 21/21 [00:04<00:00,  5.10img/s]\n"
     ]
    },
    {
     "name": "stdout",
     "output_type": "stream",
     "text": [
      "\"\n",
      "        Epoch: 103, \n",
      "        Average Train Loss: 0.0306 |\n",
      "        Average Test Loss: 0.0412 |\n",
      "        Average Test mIoU: 85.89\n",
      "        Average Test Accuracy: 98.84681701660156\n"
     ]
    },
    {
     "name": "stderr",
     "output_type": "stream",
     "text": [
      "Train/Epoch 104/150: 100%|██████████| 84/84 [00:08<00:00,  9.57img/s]\n",
      "Eval/Epoch 104/150: 100%|██████████| 21/21 [00:04<00:00,  5.13img/s]\n"
     ]
    },
    {
     "name": "stdout",
     "output_type": "stream",
     "text": [
      "\"\n",
      "        Epoch: 104, \n",
      "        Average Train Loss: 0.0261 |\n",
      "        Average Test Loss: 0.0440 |\n",
      "        Average Test mIoU: 85.19\n",
      "        Average Test Accuracy: 98.89625549316406\n"
     ]
    },
    {
     "name": "stderr",
     "output_type": "stream",
     "text": [
      "Train/Epoch 105/150: 100%|██████████| 84/84 [00:08<00:00,  9.55img/s]\n",
      "Eval/Epoch 105/150: 100%|██████████| 21/21 [00:04<00:00,  5.18img/s]\n"
     ]
    },
    {
     "name": "stdout",
     "output_type": "stream",
     "text": [
      "\"\n",
      "        Epoch: 105, \n",
      "        Average Train Loss: 0.0252 |\n",
      "        Average Test Loss: 0.0431 |\n",
      "        Average Test mIoU: 85.32\n",
      "        Average Test Accuracy: 98.82843017578125\n"
     ]
    },
    {
     "name": "stderr",
     "output_type": "stream",
     "text": [
      "Train/Epoch 106/150: 100%|██████████| 84/84 [00:08<00:00,  9.79img/s]\n",
      "Eval/Epoch 106/150: 100%|██████████| 21/21 [00:04<00:00,  5.17img/s]\n"
     ]
    },
    {
     "name": "stdout",
     "output_type": "stream",
     "text": [
      "\"\n",
      "        Epoch: 106, \n",
      "        Average Train Loss: 0.0268 |\n",
      "        Average Test Loss: 0.0423 |\n",
      "        Average Test mIoU: 85.65\n",
      "        Average Test Accuracy: 98.83750915527344\n"
     ]
    },
    {
     "name": "stderr",
     "output_type": "stream",
     "text": [
      "Train/Epoch 107/150: 100%|██████████| 84/84 [00:08<00:00,  9.69img/s]\n",
      "Eval/Epoch 107/150: 100%|██████████| 21/21 [00:04<00:00,  5.05img/s]\n"
     ]
    },
    {
     "name": "stdout",
     "output_type": "stream",
     "text": [
      "\"\n",
      "        Epoch: 107, \n",
      "        Average Train Loss: 0.0265 |\n",
      "        Average Test Loss: 0.0421 |\n",
      "        Average Test mIoU: 85.77\n",
      "        Average Test Accuracy: 98.86268615722656\n"
     ]
    },
    {
     "name": "stderr",
     "output_type": "stream",
     "text": [
      "Train/Epoch 108/150: 100%|██████████| 84/84 [00:08<00:00,  9.60img/s]\n",
      "Eval/Epoch 108/150: 100%|██████████| 21/21 [00:04<00:00,  5.13img/s]\n"
     ]
    },
    {
     "name": "stdout",
     "output_type": "stream",
     "text": [
      "\"\n",
      "        Epoch: 108, \n",
      "        Average Train Loss: 0.0285 |\n",
      "        Average Test Loss: 0.0419 |\n",
      "        Average Test mIoU: 85.73\n",
      "        Average Test Accuracy: 98.88412475585938\n"
     ]
    },
    {
     "name": "stderr",
     "output_type": "stream",
     "text": [
      "Train/Epoch 109/150: 100%|██████████| 84/84 [00:08<00:00,  9.60img/s]\n",
      "Eval/Epoch 109/150: 100%|██████████| 21/21 [00:04<00:00,  5.09img/s]\n"
     ]
    },
    {
     "name": "stdout",
     "output_type": "stream",
     "text": [
      "\"\n",
      "        Epoch: 109, \n",
      "        Average Train Loss: 0.0287 |\n",
      "        Average Test Loss: 0.0421 |\n",
      "        Average Test mIoU: 85.84\n",
      "        Average Test Accuracy: 98.86703491210938\n"
     ]
    },
    {
     "name": "stderr",
     "output_type": "stream",
     "text": [
      "Train/Epoch 110/150: 100%|██████████| 84/84 [00:08<00:00,  9.38img/s]\n",
      "Eval/Epoch 110/150: 100%|██████████| 21/21 [00:04<00:00,  4.98img/s]\n"
     ]
    },
    {
     "name": "stdout",
     "output_type": "stream",
     "text": [
      "\"\n",
      "        Epoch: 110, \n",
      "        Average Train Loss: 0.0297 |\n",
      "        Average Test Loss: 0.0421 |\n",
      "        Average Test mIoU: 85.83\n",
      "        Average Test Accuracy: 98.88465881347656\n"
     ]
    },
    {
     "name": "stderr",
     "output_type": "stream",
     "text": [
      "Train/Epoch 111/150: 100%|██████████| 84/84 [00:09<00:00,  9.26img/s]\n",
      "Eval/Epoch 111/150: 100%|██████████| 21/21 [00:04<00:00,  5.14img/s]\n"
     ]
    },
    {
     "name": "stdout",
     "output_type": "stream",
     "text": [
      "\"\n",
      "        Epoch: 111, \n",
      "        Average Train Loss: 0.0297 |\n",
      "        Average Test Loss: 0.0432 |\n",
      "        Average Test mIoU: 85.51\n",
      "        Average Test Accuracy: 98.94462585449219\n"
     ]
    },
    {
     "name": "stderr",
     "output_type": "stream",
     "text": [
      "Train/Epoch 112/150: 100%|██████████| 84/84 [00:08<00:00,  9.71img/s]\n",
      "Eval/Epoch 112/150: 100%|██████████| 21/21 [00:04<00:00,  5.15img/s]\n"
     ]
    },
    {
     "name": "stdout",
     "output_type": "stream",
     "text": [
      "\"\n",
      "        Epoch: 112, \n",
      "        Average Train Loss: 0.0258 |\n",
      "        Average Test Loss: 0.0430 |\n",
      "        Average Test mIoU: 85.53\n",
      "        Average Test Accuracy: 98.93394470214844\n"
     ]
    },
    {
     "name": "stderr",
     "output_type": "stream",
     "text": [
      "Train/Epoch 113/150: 100%|██████████| 84/84 [00:07<00:00, 10.70img/s]\n",
      "Eval/Epoch 113/150: 100%|██████████| 21/21 [00:03<00:00,  6.06img/s]\n"
     ]
    },
    {
     "name": "stdout",
     "output_type": "stream",
     "text": [
      "\"\n",
      "        Epoch: 113, \n",
      "        Average Train Loss: 0.0272 |\n",
      "        Average Test Loss: 0.0428 |\n",
      "        Average Test mIoU: 85.67\n",
      "        Average Test Accuracy: 98.91258239746094\n"
     ]
    },
    {
     "name": "stderr",
     "output_type": "stream",
     "text": [
      "Train/Epoch 114/150: 100%|██████████| 84/84 [00:06<00:00, 12.84img/s]\n",
      "Eval/Epoch 114/150: 100%|██████████| 21/21 [00:03<00:00,  6.34img/s]\n"
     ]
    },
    {
     "name": "stdout",
     "output_type": "stream",
     "text": [
      "\"\n",
      "        Epoch: 114, \n",
      "        Average Train Loss: 0.0282 |\n",
      "        Average Test Loss: 0.0428 |\n",
      "        Average Test mIoU: 85.62\n",
      "        Average Test Accuracy: 98.90640258789062\n"
     ]
    },
    {
     "name": "stderr",
     "output_type": "stream",
     "text": [
      "Train/Epoch 115/150: 100%|██████████| 84/84 [00:06<00:00, 13.53img/s]\n",
      "Eval/Epoch 115/150: 100%|██████████| 21/21 [00:03<00:00,  5.65img/s]\n"
     ]
    },
    {
     "name": "stdout",
     "output_type": "stream",
     "text": [
      "\"\n",
      "        Epoch: 115, \n",
      "        Average Train Loss: 0.0272 |\n",
      "        Average Test Loss: 0.0429 |\n",
      "        Average Test mIoU: 85.60\n",
      "        Average Test Accuracy: 98.90953063964844\n"
     ]
    },
    {
     "name": "stderr",
     "output_type": "stream",
     "text": [
      "Train/Epoch 116/150: 100%|██████████| 84/84 [00:08<00:00,  9.80img/s]\n",
      "Eval/Epoch 116/150: 100%|██████████| 21/21 [00:04<00:00,  5.01img/s]\n"
     ]
    },
    {
     "name": "stdout",
     "output_type": "stream",
     "text": [
      "\"\n",
      "        Epoch: 116, \n",
      "        Average Train Loss: 0.0278 |\n",
      "        Average Test Loss: 0.0434 |\n",
      "        Average Test mIoU: 85.62\n",
      "        Average Test Accuracy: 98.79798889160156\n"
     ]
    },
    {
     "name": "stderr",
     "output_type": "stream",
     "text": [
      "Train/Epoch 117/150: 100%|██████████| 84/84 [00:08<00:00,  9.70img/s]\n",
      "Eval/Epoch 117/150: 100%|██████████| 21/21 [00:04<00:00,  4.90img/s]\n"
     ]
    },
    {
     "name": "stdout",
     "output_type": "stream",
     "text": [
      "\"\n",
      "        Epoch: 117, \n",
      "        Average Train Loss: 0.0276 |\n",
      "        Average Test Loss: 0.0439 |\n",
      "        Average Test mIoU: 85.62\n",
      "        Average Test Accuracy: 98.74603271484375\n"
     ]
    },
    {
     "name": "stderr",
     "output_type": "stream",
     "text": [
      "Train/Epoch 118/150: 100%|██████████| 84/84 [00:07<00:00, 10.57img/s]\n",
      "Eval/Epoch 118/150: 100%|██████████| 21/21 [00:04<00:00,  5.11img/s]\n"
     ]
    },
    {
     "name": "stdout",
     "output_type": "stream",
     "text": [
      "\"\n",
      "        Epoch: 118, \n",
      "        Average Train Loss: 0.0283 |\n",
      "        Average Test Loss: 0.0440 |\n",
      "        Average Test mIoU: 85.49\n",
      "        Average Test Accuracy: 98.83224487304688\n"
     ]
    },
    {
     "name": "stderr",
     "output_type": "stream",
     "text": [
      "Train/Epoch 119/150: 100%|██████████| 84/84 [00:08<00:00, 10.04img/s]\n",
      "Eval/Epoch 119/150: 100%|██████████| 21/21 [00:03<00:00,  5.27img/s]\n"
     ]
    },
    {
     "name": "stdout",
     "output_type": "stream",
     "text": [
      "\"\n",
      "        Epoch: 119, \n",
      "        Average Train Loss: 0.0274 |\n",
      "        Average Test Loss: 0.0443 |\n",
      "        Average Test mIoU: 85.38\n",
      "        Average Test Accuracy: 98.76335144042969\n"
     ]
    },
    {
     "name": "stderr",
     "output_type": "stream",
     "text": [
      "Train/Epoch 120/150: 100%|██████████| 84/84 [00:08<00:00,  9.75img/s]\n",
      "Eval/Epoch 120/150: 100%|██████████| 21/21 [00:04<00:00,  5.19img/s]\n"
     ]
    },
    {
     "name": "stdout",
     "output_type": "stream",
     "text": [
      "\"\n",
      "        Epoch: 120, \n",
      "        Average Train Loss: 0.0279 |\n",
      "        Average Test Loss: 0.0442 |\n",
      "        Average Test mIoU: 85.49\n",
      "        Average Test Accuracy: 98.81416320800781\n"
     ]
    },
    {
     "name": "stderr",
     "output_type": "stream",
     "text": [
      "Train/Epoch 121/150: 100%|██████████| 84/84 [00:08<00:00,  9.71img/s]\n",
      "Eval/Epoch 121/150: 100%|██████████| 21/21 [00:04<00:00,  5.21img/s]\n"
     ]
    },
    {
     "name": "stdout",
     "output_type": "stream",
     "text": [
      "\"\n",
      "        Epoch: 121, \n",
      "        Average Train Loss: 0.0261 |\n",
      "        Average Test Loss: 0.0434 |\n",
      "        Average Test mIoU: 85.70\n",
      "        Average Test Accuracy: 98.70834350585938\n"
     ]
    },
    {
     "name": "stderr",
     "output_type": "stream",
     "text": [
      "Train/Epoch 122/150: 100%|██████████| 84/84 [00:08<00:00,  9.85img/s]\n",
      "Eval/Epoch 122/150: 100%|██████████| 21/21 [00:03<00:00,  5.30img/s]\n"
     ]
    },
    {
     "name": "stdout",
     "output_type": "stream",
     "text": [
      "\"\n",
      "        Epoch: 122, \n",
      "        Average Train Loss: 0.0244 |\n",
      "        Average Test Loss: 0.0429 |\n",
      "        Average Test mIoU: 85.64\n",
      "        Average Test Accuracy: 98.72390747070312\n"
     ]
    },
    {
     "name": "stderr",
     "output_type": "stream",
     "text": [
      "Train/Epoch 123/150: 100%|██████████| 84/84 [00:08<00:00,  9.82img/s]\n",
      "Eval/Epoch 123/150: 100%|██████████| 21/21 [00:04<00:00,  5.14img/s]\n"
     ]
    },
    {
     "name": "stdout",
     "output_type": "stream",
     "text": [
      "\"\n",
      "        Epoch: 123, \n",
      "        Average Train Loss: 0.0342 |\n",
      "        Average Test Loss: 0.0427 |\n",
      "        Average Test mIoU: 85.71\n",
      "        Average Test Accuracy: 98.73908996582031\n"
     ]
    },
    {
     "name": "stderr",
     "output_type": "stream",
     "text": [
      "Train/Epoch 124/150: 100%|██████████| 84/84 [00:08<00:00,  9.71img/s]\n",
      "Eval/Epoch 124/150: 100%|██████████| 21/21 [00:03<00:00,  5.26img/s]\n"
     ]
    },
    {
     "name": "stdout",
     "output_type": "stream",
     "text": [
      "\"\n",
      "        Epoch: 124, \n",
      "        Average Train Loss: 0.0265 |\n",
      "        Average Test Loss: 0.0437 |\n",
      "        Average Test mIoU: 85.46\n",
      "        Average Test Accuracy: 98.6865234375\n"
     ]
    },
    {
     "name": "stderr",
     "output_type": "stream",
     "text": [
      "Train/Epoch 125/150: 100%|██████████| 84/84 [00:08<00:00,  9.92img/s]\n",
      "Eval/Epoch 125/150: 100%|██████████| 21/21 [00:04<00:00,  5.12img/s]\n"
     ]
    },
    {
     "name": "stdout",
     "output_type": "stream",
     "text": [
      "\"\n",
      "        Epoch: 125, \n",
      "        Average Train Loss: 0.0273 |\n",
      "        Average Test Loss: 0.0433 |\n",
      "        Average Test mIoU: 85.55\n",
      "        Average Test Accuracy: 98.73542785644531\n"
     ]
    },
    {
     "name": "stderr",
     "output_type": "stream",
     "text": [
      "Train/Epoch 126/150: 100%|██████████| 84/84 [00:08<00:00, 10.09img/s]\n",
      "Eval/Epoch 126/150: 100%|██████████| 21/21 [00:04<00:00,  5.00img/s]\n"
     ]
    },
    {
     "name": "stdout",
     "output_type": "stream",
     "text": [
      "\"\n",
      "        Epoch: 126, \n",
      "        Average Train Loss: 0.0274 |\n",
      "        Average Test Loss: 0.0426 |\n",
      "        Average Test mIoU: 85.69\n",
      "        Average Test Accuracy: 98.75022888183594\n"
     ]
    },
    {
     "name": "stderr",
     "output_type": "stream",
     "text": [
      "Train/Epoch 127/150: 100%|██████████| 84/84 [00:08<00:00,  9.88img/s]\n",
      "Eval/Epoch 127/150: 100%|██████████| 21/21 [00:04<00:00,  5.24img/s]\n"
     ]
    },
    {
     "name": "stdout",
     "output_type": "stream",
     "text": [
      "\"\n",
      "        Epoch: 127, \n",
      "        Average Train Loss: 0.0269 |\n",
      "        Average Test Loss: 0.0429 |\n",
      "        Average Test mIoU: 85.63\n",
      "        Average Test Accuracy: 98.72634887695312\n"
     ]
    },
    {
     "name": "stderr",
     "output_type": "stream",
     "text": [
      "Train/Epoch 128/150: 100%|██████████| 84/84 [00:08<00:00,  9.78img/s]\n",
      "Eval/Epoch 128/150: 100%|██████████| 21/21 [00:04<00:00,  5.09img/s]\n"
     ]
    },
    {
     "name": "stdout",
     "output_type": "stream",
     "text": [
      "\"\n",
      "        Epoch: 128, \n",
      "        Average Train Loss: 0.0308 |\n",
      "        Average Test Loss: 0.0428 |\n",
      "        Average Test mIoU: 85.68\n",
      "        Average Test Accuracy: 98.66806030273438\n"
     ]
    },
    {
     "name": "stderr",
     "output_type": "stream",
     "text": [
      "Train/Epoch 129/150: 100%|██████████| 84/84 [00:08<00:00,  9.88img/s]\n",
      "Eval/Epoch 129/150: 100%|██████████| 21/21 [00:04<00:00,  5.09img/s]\n"
     ]
    },
    {
     "name": "stdout",
     "output_type": "stream",
     "text": [
      "\"\n",
      "        Epoch: 129, \n",
      "        Average Train Loss: 0.0269 |\n",
      "        Average Test Loss: 0.0429 |\n",
      "        Average Test mIoU: 85.59\n",
      "        Average Test Accuracy: 98.68743896484375\n"
     ]
    },
    {
     "name": "stderr",
     "output_type": "stream",
     "text": [
      "Train/Epoch 130/150: 100%|██████████| 84/84 [00:08<00:00,  9.62img/s]\n",
      "Eval/Epoch 130/150: 100%|██████████| 21/21 [00:04<00:00,  5.12img/s]\n"
     ]
    },
    {
     "name": "stdout",
     "output_type": "stream",
     "text": [
      "\"\n",
      "        Epoch: 130, \n",
      "        Average Train Loss: 0.0252 |\n",
      "        Average Test Loss: 0.0429 |\n",
      "        Average Test mIoU: 85.64\n",
      "        Average Test Accuracy: 98.74801635742188\n"
     ]
    },
    {
     "name": "stderr",
     "output_type": "stream",
     "text": [
      "Train/Epoch 131/150: 100%|██████████| 84/84 [00:08<00:00, 10.11img/s]\n",
      "Eval/Epoch 131/150: 100%|██████████| 21/21 [00:04<00:00,  5.20img/s]\n"
     ]
    },
    {
     "name": "stdout",
     "output_type": "stream",
     "text": [
      "\"\n",
      "        Epoch: 131, \n",
      "        Average Train Loss: 0.0263 |\n",
      "        Average Test Loss: 0.0436 |\n",
      "        Average Test mIoU: 85.48\n",
      "        Average Test Accuracy: 98.75083923339844\n"
     ]
    },
    {
     "name": "stderr",
     "output_type": "stream",
     "text": [
      "Train/Epoch 132/150: 100%|██████████| 84/84 [00:08<00:00,  9.89img/s]\n",
      "Eval/Epoch 132/150: 100%|██████████| 21/21 [00:04<00:00,  4.94img/s]\n"
     ]
    },
    {
     "name": "stdout",
     "output_type": "stream",
     "text": [
      "\"\n",
      "        Epoch: 132, \n",
      "        Average Train Loss: 0.0280 |\n",
      "        Average Test Loss: 0.0435 |\n",
      "        Average Test mIoU: 85.49\n",
      "        Average Test Accuracy: 98.70590209960938\n"
     ]
    },
    {
     "name": "stderr",
     "output_type": "stream",
     "text": [
      "Train/Epoch 133/150: 100%|██████████| 84/84 [00:08<00:00,  9.90img/s]\n",
      "Eval/Epoch 133/150: 100%|██████████| 21/21 [00:04<00:00,  5.09img/s]\n"
     ]
    },
    {
     "name": "stdout",
     "output_type": "stream",
     "text": [
      "\"\n",
      "        Epoch: 133, \n",
      "        Average Train Loss: 0.0270 |\n",
      "        Average Test Loss: 0.0441 |\n",
      "        Average Test mIoU: 85.39\n",
      "        Average Test Accuracy: 98.69728088378906\n"
     ]
    },
    {
     "name": "stderr",
     "output_type": "stream",
     "text": [
      "Train/Epoch 134/150: 100%|██████████| 84/84 [00:06<00:00, 12.64img/s]\n",
      "Eval/Epoch 134/150: 100%|██████████| 21/21 [00:03<00:00,  6.04img/s]\n"
     ]
    },
    {
     "name": "stdout",
     "output_type": "stream",
     "text": [
      "\"\n",
      "        Epoch: 134, \n",
      "        Average Train Loss: 0.0286 |\n",
      "        Average Test Loss: 0.0435 |\n",
      "        Average Test mIoU: 85.52\n",
      "        Average Test Accuracy: 98.66645812988281\n"
     ]
    },
    {
     "name": "stderr",
     "output_type": "stream",
     "text": [
      "Train/Epoch 135/150: 100%|██████████| 84/84 [00:08<00:00,  9.86img/s]\n",
      "Eval/Epoch 135/150: 100%|██████████| 21/21 [00:04<00:00,  5.18img/s]\n"
     ]
    },
    {
     "name": "stdout",
     "output_type": "stream",
     "text": [
      "\"\n",
      "        Epoch: 135, \n",
      "        Average Train Loss: 0.0317 |\n",
      "        Average Test Loss: 0.0426 |\n",
      "        Average Test mIoU: 85.80\n",
      "        Average Test Accuracy: 98.71124267578125\n"
     ]
    },
    {
     "name": "stderr",
     "output_type": "stream",
     "text": [
      "Train/Epoch 136/150: 100%|██████████| 84/84 [00:08<00:00,  9.78img/s]\n",
      "Eval/Epoch 136/150: 100%|██████████| 21/21 [00:04<00:00,  5.02img/s]\n"
     ]
    },
    {
     "name": "stdout",
     "output_type": "stream",
     "text": [
      "\"\n",
      "        Epoch: 136, \n",
      "        Average Train Loss: 0.0301 |\n",
      "        Average Test Loss: 0.0425 |\n",
      "        Average Test mIoU: 85.93\n",
      "        Average Test Accuracy: 98.80050659179688\n"
     ]
    },
    {
     "name": "stderr",
     "output_type": "stream",
     "text": [
      "Train/Epoch 137/150: 100%|██████████| 84/84 [00:08<00:00,  9.73img/s]\n",
      "Eval/Epoch 137/150: 100%|██████████| 21/21 [00:04<00:00,  5.18img/s]\n"
     ]
    },
    {
     "name": "stdout",
     "output_type": "stream",
     "text": [
      "\"\n",
      "        Epoch: 137, \n",
      "        Average Train Loss: 0.0265 |\n",
      "        Average Test Loss: 0.0432 |\n",
      "        Average Test mIoU: 85.64\n",
      "        Average Test Accuracy: 98.69194030761719\n"
     ]
    },
    {
     "name": "stderr",
     "output_type": "stream",
     "text": [
      "Train/Epoch 138/150: 100%|██████████| 84/84 [00:08<00:00,  9.81img/s]\n",
      "Eval/Epoch 138/150: 100%|██████████| 21/21 [00:04<00:00,  5.09img/s]\n"
     ]
    },
    {
     "name": "stdout",
     "output_type": "stream",
     "text": [
      "\"\n",
      "        Epoch: 138, \n",
      "        Average Train Loss: 0.0284 |\n",
      "        Average Test Loss: 0.0431 |\n",
      "        Average Test mIoU: 85.65\n",
      "        Average Test Accuracy: 98.68804931640625\n"
     ]
    },
    {
     "name": "stderr",
     "output_type": "stream",
     "text": [
      "Train/Epoch 139/150: 100%|██████████| 84/84 [00:08<00:00,  9.69img/s]\n",
      "Eval/Epoch 139/150: 100%|██████████| 21/21 [00:04<00:00,  5.24img/s]\n"
     ]
    },
    {
     "name": "stdout",
     "output_type": "stream",
     "text": [
      "\"\n",
      "        Epoch: 139, \n",
      "        Average Train Loss: 0.0233 |\n",
      "        Average Test Loss: 0.0430 |\n",
      "        Average Test mIoU: 85.70\n",
      "        Average Test Accuracy: 98.75396728515625\n"
     ]
    },
    {
     "name": "stderr",
     "output_type": "stream",
     "text": [
      "Train/Epoch 140/150: 100%|██████████| 84/84 [00:08<00:00,  9.89img/s]\n",
      "Eval/Epoch 140/150: 100%|██████████| 21/21 [00:04<00:00,  5.07img/s]\n"
     ]
    },
    {
     "name": "stdout",
     "output_type": "stream",
     "text": [
      "\"\n",
      "        Epoch: 140, \n",
      "        Average Train Loss: 0.0282 |\n",
      "        Average Test Loss: 0.0431 |\n",
      "        Average Test mIoU: 85.81\n",
      "        Average Test Accuracy: 98.80355834960938\n"
     ]
    },
    {
     "name": "stderr",
     "output_type": "stream",
     "text": [
      "Train/Epoch 141/150: 100%|██████████| 84/84 [00:08<00:00,  9.85img/s]\n",
      "Eval/Epoch 141/150: 100%|██████████| 21/21 [00:03<00:00,  5.33img/s]\n"
     ]
    },
    {
     "name": "stdout",
     "output_type": "stream",
     "text": [
      "\"\n",
      "        Epoch: 141, \n",
      "        Average Train Loss: 0.0291 |\n",
      "        Average Test Loss: 0.0426 |\n",
      "        Average Test mIoU: 85.88\n",
      "        Average Test Accuracy: 98.71185302734375\n"
     ]
    },
    {
     "name": "stderr",
     "output_type": "stream",
     "text": [
      "Train/Epoch 142/150: 100%|██████████| 84/84 [00:08<00:00,  9.89img/s]\n",
      "Eval/Epoch 142/150: 100%|██████████| 21/21 [00:04<00:00,  5.06img/s]\n"
     ]
    },
    {
     "name": "stdout",
     "output_type": "stream",
     "text": [
      "\"\n",
      "        Epoch: 142, \n",
      "        Average Train Loss: 0.0251 |\n",
      "        Average Test Loss: 0.0434 |\n",
      "        Average Test mIoU: 85.70\n",
      "        Average Test Accuracy: 98.75907897949219\n"
     ]
    },
    {
     "name": "stderr",
     "output_type": "stream",
     "text": [
      "Train/Epoch 143/150: 100%|██████████| 84/84 [00:06<00:00, 12.23img/s]\n",
      "Eval/Epoch 143/150: 100%|██████████| 21/21 [00:03<00:00,  6.32img/s]\n"
     ]
    },
    {
     "name": "stdout",
     "output_type": "stream",
     "text": [
      "\"\n",
      "        Epoch: 143, \n",
      "        Average Train Loss: 0.0272 |\n",
      "        Average Test Loss: 0.0426 |\n",
      "        Average Test mIoU: 85.88\n",
      "        Average Test Accuracy: 98.81912231445312\n"
     ]
    },
    {
     "name": "stderr",
     "output_type": "stream",
     "text": [
      "Train/Epoch 144/150: 100%|██████████| 84/84 [00:08<00:00,  9.93img/s]\n",
      "Eval/Epoch 144/150: 100%|██████████| 21/21 [00:04<00:00,  5.13img/s]\n"
     ]
    },
    {
     "name": "stdout",
     "output_type": "stream",
     "text": [
      "\"\n",
      "        Epoch: 144, \n",
      "        Average Train Loss: 0.0278 |\n",
      "        Average Test Loss: 0.0436 |\n",
      "        Average Test mIoU: 85.56\n",
      "        Average Test Accuracy: 98.71719360351562\n"
     ]
    },
    {
     "name": "stderr",
     "output_type": "stream",
     "text": [
      "Train/Epoch 145/150: 100%|██████████| 84/84 [00:08<00:00,  9.84img/s]\n",
      "Eval/Epoch 145/150: 100%|██████████| 21/21 [00:04<00:00,  5.20img/s]\n"
     ]
    },
    {
     "name": "stdout",
     "output_type": "stream",
     "text": [
      "\"\n",
      "        Epoch: 145, \n",
      "        Average Train Loss: 0.0295 |\n",
      "        Average Test Loss: 0.0435 |\n",
      "        Average Test mIoU: 85.78\n",
      "        Average Test Accuracy: 98.76762390136719\n"
     ]
    },
    {
     "name": "stderr",
     "output_type": "stream",
     "text": [
      "Train/Epoch 146/150: 100%|██████████| 84/84 [00:08<00:00,  9.78img/s]\n",
      "Eval/Epoch 146/150: 100%|██████████| 21/21 [00:04<00:00,  5.02img/s]\n"
     ]
    },
    {
     "name": "stdout",
     "output_type": "stream",
     "text": [
      "\"\n",
      "        Epoch: 146, \n",
      "        Average Train Loss: 0.0251 |\n",
      "        Average Test Loss: 0.0436 |\n",
      "        Average Test mIoU: 85.62\n",
      "        Average Test Accuracy: 98.76251220703125\n"
     ]
    },
    {
     "name": "stderr",
     "output_type": "stream",
     "text": [
      "Train/Epoch 147/150: 100%|██████████| 84/84 [00:08<00:00,  9.73img/s]\n",
      "Eval/Epoch 147/150: 100%|██████████| 21/21 [00:04<00:00,  5.12img/s]\n"
     ]
    },
    {
     "name": "stdout",
     "output_type": "stream",
     "text": [
      "\"\n",
      "        Epoch: 147, \n",
      "        Average Train Loss: 0.0259 |\n",
      "        Average Test Loss: 0.0432 |\n",
      "        Average Test mIoU: 85.70\n",
      "        Average Test Accuracy: 98.78631591796875\n"
     ]
    },
    {
     "name": "stderr",
     "output_type": "stream",
     "text": [
      "Train/Epoch 148/150: 100%|██████████| 84/84 [00:08<00:00,  9.84img/s]\n",
      "Eval/Epoch 148/150: 100%|██████████| 21/21 [00:04<00:00,  5.17img/s]\n"
     ]
    },
    {
     "name": "stdout",
     "output_type": "stream",
     "text": [
      "\"\n",
      "        Epoch: 148, \n",
      "        Average Train Loss: 0.0246 |\n",
      "        Average Test Loss: 0.0427 |\n",
      "        Average Test mIoU: 85.78\n",
      "        Average Test Accuracy: 98.82057189941406\n"
     ]
    },
    {
     "name": "stderr",
     "output_type": "stream",
     "text": [
      "Train/Epoch 149/150: 100%|██████████| 84/84 [00:08<00:00, 10.25img/s]\n",
      "Eval/Epoch 149/150: 100%|██████████| 21/21 [00:04<00:00,  5.01img/s]\n"
     ]
    },
    {
     "name": "stdout",
     "output_type": "stream",
     "text": [
      "\"\n",
      "        Epoch: 149, \n",
      "        Average Train Loss: 0.0280 |\n",
      "        Average Test Loss: 0.0434 |\n",
      "        Average Test mIoU: 85.59\n",
      "        Average Test Accuracy: 98.82461547851562\n"
     ]
    },
    {
     "name": "stderr",
     "output_type": "stream",
     "text": [
      "Train/Epoch 150/150: 100%|██████████| 84/84 [00:08<00:00, 10.15img/s]\n",
      "Eval/Epoch 150/150: 100%|██████████| 21/21 [00:04<00:00,  5.14img/s]\n"
     ]
    },
    {
     "name": "stdout",
     "output_type": "stream",
     "text": [
      "\"\n",
      "        Epoch: 150, \n",
      "        Average Train Loss: 0.0258 |\n",
      "        Average Test Loss: 0.0430 |\n",
      "        Average Test mIoU: 85.64\n",
      "        Average Test Accuracy: 98.81324768066406\n"
     ]
    }
   ],
   "source": [
    "train_start()"
   ]
  },
  {
   "cell_type": "markdown",
   "id": "9755bb0d-4513-4e1f-9172-05b96ff6e060",
   "metadata": {},
   "source": [
    "# Result"
   ]
  },
  {
   "cell_type": "markdown",
   "id": "62e94807-3c5b-454c-919b-feae833168a7",
   "metadata": {},
   "source": [
    "## Print Result Comparison"
   ]
  },
  {
   "cell_type": "code",
   "execution_count": 72,
   "id": "eedbb828-4c65-4ad2-a5cd-ef642e19e2ce",
   "metadata": {},
   "outputs": [
    {
     "name": "stdout",
     "output_type": "stream",
     "text": [
      "\n",
      "    Best of Model:\n",
      "        - Epoch Number: 57\n",
      "        - Evaluation Loss: 0.041379081706206\n",
      "        - Evaluation mIoU: 86.17601776123047\n",
      "        - Evaluation Accuracy: 98.2330322265625\n",
      "\n",
      "    \n"
     ]
    }
   ],
   "source": [
    "print(\n",
    "    f\"\"\"\n",
    "    Best of Model:\n",
    "        - Epoch Number: {best_model['best_epoch']}\n",
    "        - Evaluation Loss: {best_model['best_eval_loss']}\n",
    "        - Evaluation mIoU: {best_model['best_eval_miou']}\n",
    "        - Evaluation Accuracy: {best_model['best_eval_acc']}\n",
    "\n",
    "    \"\"\"\n",
    ")"
   ]
  },
  {
   "cell_type": "markdown",
   "id": "a3c0969a-58c7-44f9-a117-43b91e030521",
   "metadata": {},
   "source": [
    "## Plot Comparisons"
   ]
  },
  {
   "cell_type": "code",
   "execution_count": 73,
   "id": "75b86c7c-d4ec-4f01-864e-353c9a3faca9",
   "metadata": {
    "tags": []
   },
   "outputs": [
    {
     "name": "stderr",
     "output_type": "stream",
     "text": [
      "Clipping input data to the valid range for imshow with RGB data ([0..1] for floats or [0..255] for integers). Got range [-2.117904..2.6399999].\n"
     ]
    },
    {
     "data": {
      "image/png": "[encoded data removed]",
      "text/plain": [
       "<Figure size 1200x1200 with 3 Axes>"
      ]
     },
     "metadata": {},
     "output_type": "display_data"
    }
   ],
   "source": [
    "plot_segmentation(\n",
    "    model=model, \n",
    "    dataset=test_dataset, \n",
    "    color_mapping=color_mapping, \n",
    "    save_fig=True, \n",
    "    #save_root_dir='../generated_examples/', \n",
    "    save_root_dir = hyperparameters['output_dir']['results'],\n",
    "    save_filename='daft_seg_fig', \n",
    "    save_format='png', \n",
    "    close_img=False\n",
    ")"
   ]
  },
  {
   "cell_type": "markdown",
   "id": "fe0c565b-6265-4ad3-81a0-1203c1051cee",
   "metadata": {},
   "source": [
    "## Save Predictions"
   ]
  },
  {
   "cell_type": "code",
   "execution_count": 74,
   "id": "51418ee7-a95e-4af0-81a8-f23407263dad",
   "metadata": {},
   "outputs": [],
   "source": [
    "# Model1 Saving\n",
    "save_pred_masks(\n",
    "    model=model,\n",
    "    transform=test_transforms,\n",
    "    save_folder=hyperparameters['output_dir']['model'],\n",
    "    input_folder='./images/test',\n",
    "    color_mapping=color_mapping,\n",
    "    hyperparameters=hyperparameters,\n",
    ")\n",
    "\n",
    "save_pred_masks(\n",
    "    model=model,\n",
    "    transform=test_transforms,\n",
    "    save_folder=hyperparameters['output_dir']['model'],\n",
    "    input_folder='./images/train',\n",
    "    color_mapping=color_mapping,\n",
    "    hyperparameters=hyperparameters,\n",
    ")"
   ]
  },
  {
   "cell_type": "markdown",
   "id": "bf9503e0-0842-4842-869c-916bb9109dbf",
   "metadata": {},
   "source": [
    "## History Graphs"
   ]
  },
  {
   "cell_type": "code",
   "execution_count": 77,
   "id": "194d138b-9bf6-47b8-b05e-4872c472b0e7",
   "metadata": {},
   "outputs": [
    {
     "data": {
      "image/png": "[encoded data removed]",
      "text/plain": [
       "<Figure size 1500x600 with 1 Axes>"
      ]
     },
     "metadata": {},
     "output_type": "display_data"
    }
   ],
   "source": [
    "epoch_range = np.arange(1, hyperparameters['epochs']+1, 1, dtype=int)\n",
    "plt.figure(figsize = (15,6))\n",
    "plt.title(\"Loss\")\n",
    "plt.plot(epoch_range, history['train_loss'], label=\"Train Loss\")\n",
    "plt.plot(epoch_range, history['eval_loss'], label=\"Eval Loss\")\n",
    "plt.xlabel(\"Epochs\")\n",
    "plt.ylabel(\"Loss\")\n",
    "plt.legend()\n",
    "\n",
    "loss_dir = os.path.join(hyperparameters['output_dir']['results'], 'loss_graph.png')\n",
    "plt.savefig(loss_dir, format='png', bbox_inches='tight')\n",
    "plt.show()\n"
   ]
  },
  {
   "cell_type": "code",
   "execution_count": 78,
   "id": "8af2cdf3-05aa-482a-a024-a7366a4ee87e",
   "metadata": {},
   "outputs": [
    {
     "data": {
      "image/png": "[encoded data removed]",
      "text/plain": [
       "<Figure size 1500x600 with 1 Axes>"
      ]
     },
     "metadata": {},
     "output_type": "display_data"
    }
   ],
   "source": [
    "plt.figure(figsize = (15,6))\n",
    "plt.title(f\"Eval mIoU\")\n",
    "plt.plot(epoch_range, history['eval_miou'], label=\"Model mIoU\")\n",
    "plt.xlabel(\"Epochs\")\n",
    "plt.ylabel(\"mIoU\")\n",
    "plt.legend();\n",
    "miou_dir = os.path.join(hyperparameters['output_dir']['results'], 'miou_graph.png')\n",
    "plt.savefig(miou_dir, format='png', bbox_inches='tight')"
   ]
  },
  {
   "cell_type": "code",
   "execution_count": 79,
   "id": "13a355c2-440f-4daa-a9a3-bc41c0b19a99",
   "metadata": {},
   "outputs": [
    {
     "data": {
      "image/png": "[encoded data removed]",
      "text/plain": [
       "<Figure size 1500x600 with 1 Axes>"
      ]
     },
     "metadata": {},
     "output_type": "display_data"
    }
   ],
   "source": [
    "acc_tensor = torch.tensor(history['eval_acc'])\n",
    "acc_tensor = acc_tensor.to('cpu')\n",
    "acc_list = acc_tensor.tolist()\n",
    "\n",
    "plt.figure(figsize = (15,6))\n",
    "plt.title(f\"Eval Accuracy\")\n",
    "plt.plot(epoch_range, acc_list, label=\"Model-Eval Acc\")\n",
    "plt.xlabel(\"Epochs\")\n",
    "plt.ylabel(\"Accuracy\")\n",
    "plt.legend();\n",
    "acc_dir = os.path.join(hyperparameters['output_dir']['results'], 'accuracy_graph.png')\n",
    "plt.savefig(acc_dir, format='png', bbox_inches='tight')"
   ]
  },
  {
   "cell_type": "code",
   "execution_count": 80,
   "id": "772b3977",
   "metadata": {},
   "outputs": [],
   "source": [
    "for param in model.parameters():\n",
    "    param.requires_grad = True"
   ]
  },
  {
   "cell_type": "code",
   "execution_count": 81,
   "id": "04c2c718",
   "metadata": {},
   "outputs": [],
   "source": [
    "save_model(\n",
    "        model=model, \n",
    "        optimizer=optimizer, \n",
    "        root_folder=hyperparameters['checkpoints_dir'], \n",
    "        file_name='Daft_Segmentation_checkpointLast', \n",
    "        hyperparameter_dict=hyperparameters, \n",
    "        best_model=best_model, \n",
    "        last_epoch=hyperparameters['epochs']+1, \n",
    "        verbose=False)"
   ]
  },
  {
   "cell_type": "code",
   "execution_count": null,
   "id": "ffb5174c",
   "metadata": {},
   "outputs": [],
   "source": []
  }
 ],
 "metadata": {
  "kernelspec": {
   "display_name": "Python 3",
   "language": "python",
   "name": "python3"
  },
  "language_info": {
   "codemirror_mode": {
    "name": "ipython",
    "version": 3
   },
   "file_extension": ".py",
   "mimetype": "text/x-python",
   "name": "python",
   "nbconvert_exporter": "python",
   "pygments_lexer": "ipython3",
   "version": "3.12.8"
  },
  "toc-autonumbering": true,
  "toc-showcode": false,
  "toc-showmarkdowntxt": false
 },
 "nbformat": 4,
 "nbformat_minor": 5
}
