{
 "cells": [
  {
   "cell_type": "code",
   "execution_count": 73,
   "metadata": {},
   "outputs": [],
   "source": [
    "import torch\n",
    "from PIL import Image\n",
    "import torchvision.transforms as transforms\n",
    "import numpy as np\n",
    "import matplotlib.pyplot as plt\n",
    "import albumentations as A\n",
    "import torch.nn as nn\n",
    "\n",
    "device = torch.device('cpu')"
   ]
  },
  {
   "cell_type": "code",
   "execution_count": 74,
   "metadata": {},
   "outputs": [
    {
     "data": {
      "text/plain": [
       "<All keys matched successfully>"
      ]
     },
     "execution_count": 74,
     "metadata": {},
     "output_type": "execute_result"
    }
   ],
   "source": [
    "from vgg19 import VGGUNET19\n",
    "model = VGGUNET19()\n",
    "checkpoint_path = \"VGGUnet19_Segmentation_best.pth.tar\"\n",
    "checkpoint = torch.load(checkpoint_path, map_location=torch.device('cpu'), weights_only=True)\n",
    "model.load_state_dict(checkpoint[\"model_state_dict\"])"
   ]
  },
  {
   "cell_type": "code",
   "execution_count": 75,
   "metadata": {},
   "outputs": [],
   "source": [
    "train_transforms = A.Compose([\n",
    "    A.HorizontalFlip(p=0.5),\n",
    "    A.VerticalFlip(p=0.5),\n",
    "    A.Rotate(p=0.5),\n",
    "    A.Normalize(mean=[0.485, 0.456, 0.406], std=[0.229, 0.224, 0.225]),\n",
    "    A.Resize(512, 512),\n",
    "])"
   ]
  },
  {
   "cell_type": "code",
   "execution_count": 76,
   "metadata": {},
   "outputs": [],
   "source": [
    "import torch\n",
    "from torch.utils.data import Dataset\n",
    "from PIL import Image\n",
    "import os\n",
    "import numpy as np\n",
    "\n",
    "class PlanDataset(Dataset):\n",
    "    def __init__(self, directory, transform=None):\n",
    "        \"\"\"\n",
    "        Args:\n",
    "            directory (str): Path to the directory containing plan images.\n",
    "            transform (callable, optional): Transformations to apply to the images.\n",
    "        \"\"\"\n",
    "        self.directory = directory\n",
    "        self.transform = transform\n",
    "        \n",
    "        # Collect all files ending with \"Plan.jpg\"\n",
    "        self.img_files = [img_file for img_file in os.listdir(directory) if img_file.endswith('Plan.jpg')]\n",
    "\n",
    "    def __len__(self):\n",
    "        return len(self.img_files)\n",
    "    \n",
    "    def __getitem__(self, index):\n",
    "        \"\"\"\n",
    "        Returns:\n",
    "            torch.Tensor: The transformed plan image.\n",
    "        \"\"\"\n",
    "        selected_img_file = self.img_files[index]\n",
    "        \n",
    "        # Load the plan image\n",
    "        plan = Image.open(os.path.join(self.directory, selected_img_file)).convert('RGB')\n",
    "        \n",
    "        # Convert the image to a NumPy array\n",
    "        plan = np.array(plan).astype(np.float32) / 255.0  # Normalize to [0, 1]\n",
    "        \n",
    "        # Apply transformations if specified\n",
    "        if self.transform is not None:\n",
    "            transformed = self.transform(image=plan)\n",
    "            plan = transformed['image']\n",
    "        \n",
    "        # Convert to PyTorch tensor and adjust shape\n",
    "        plan = torch.from_numpy(plan.transpose((2, 0, 1)))  # (H, W, C) -> (C, H, W)\n",
    "        \n",
    "        return plan"
   ]
  },
  {
   "cell_type": "code",
   "execution_count": 77,
   "metadata": {},
   "outputs": [],
   "source": [
    "dataset = PlanDataset(directory='train', transform=None)\n"
   ]
  },
  {
   "cell_type": "code",
   "execution_count": 78,
   "metadata": {},
   "outputs": [],
   "source": [
    "criterion = nn.MSELoss(reduction='none')\n",
    "\n",
    "def loss_fn(pred, mask, alpha=0.01):\n",
    "    \n",
    "    loss_by_pixel = criterion(pred, mask)\n",
    "    loss = loss_by_pixel.mean()\n",
    "    \n",
    "    return loss\n",
    "\n",
    "optimizer = torch.optim.Adam(\n",
    "    model.parameters(),\n",
    "    lr = 1e-4,\n",
    "    betas = (0.9, 0.999), \n",
    ")"
   ]
  },
  {
   "cell_type": "code",
   "execution_count": 79,
   "metadata": {},
   "outputs": [
    {
     "name": "stdout",
     "output_type": "stream",
     "text": [
      "Model input size: torch.Size([1, 3, 512, 512])\n",
      "Model output size: torch.Size([1, 1, 512, 512])\n"
     ]
    }
   ],
   "source": [
    "### Dummy Data\n",
    "__batch_size = 1\n",
    "__in_channels = 3\n",
    "__width = 512\n",
    "__height = 512\n",
    "\n",
    "dummy_input = torch.randn((__batch_size, __in_channels, __height, __width))\n",
    "dummy_out = model(dummy_input)\n",
    "\n",
    "print(f'Model input size: {dummy_input.shape}')\n",
    "print(f'Model output size: {dummy_out.shape}')"
   ]
  },
  {
   "cell_type": "code",
   "execution_count": 80,
   "metadata": {},
   "outputs": [
    {
     "data": {
      "text/plain": [
       "torch.Size([1, 3, 512, 512])"
      ]
     },
     "execution_count": 80,
     "metadata": {},
     "output_type": "execute_result"
    }
   ],
   "source": [
    "img = dataset[0]\n",
    "img = img.unsqueeze(0) \n",
    "img.shape"
   ]
  },
  {
   "cell_type": "code",
   "execution_count": 83,
   "metadata": {},
   "outputs": [],
   "source": [
    "def train_start():\n",
    "    model.to(device)\n",
    "    \n",
    "    for epoch in range (1):\n",
    "        model.train()\n",
    "        for idx, (img) in enumerate(dataset):\n",
    "            img = img.to(device)\n",
    "            img = img.unsqueeze(0) \n",
    "\n",
    "            optimizer.zero_grad()\n",
    "\n",
    "            pred_mask = model(img)\n",
    "\n",
    "            loss = criterion(pred_mask, pred_mask).mean() \n",
    "\n",
    "            loss.backward()\n",
    "\n",
    "            optimizer.step()\n",
    "        \n",
    "        "
   ]
  },
  {
   "cell_type": "code",
   "execution_count": 84,
   "metadata": {},
   "outputs": [],
   "source": [
    "train_start()"
   ]
  }
 ],
 "metadata": {
  "kernelspec": {
   "display_name": ".venv",
   "language": "python",
   "name": "python3"
  },
  "language_info": {
   "codemirror_mode": {
    "name": "ipython",
    "version": 3
   },
   "file_extension": ".py",
   "mimetype": "text/x-python",
   "name": "python",
   "nbconvert_exporter": "python",
   "pygments_lexer": "ipython3",
   "version": "3.11.2"
  }
 },
 "nbformat": 4,
 "nbformat_minor": 2
}
